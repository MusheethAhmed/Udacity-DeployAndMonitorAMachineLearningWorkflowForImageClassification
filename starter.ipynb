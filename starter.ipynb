{
 "cells": [
  {
   "cell_type": "markdown",
   "metadata": {},
   "source": [
    "# Deploy and monitor a machine learning workflow for Image Classification"
   ]
  },
  {
   "cell_type": "markdown",
   "metadata": {},
   "source": [
    "## Setting up this notebook\n",
    "\n",
    "Notes about the instance size and kernel setup: this notebook has been tested on\n",
    "\n",
    "1. The `Python 3 (Data Science)` kernel\n",
    "2. The `ml.t3.medium` Sagemaker notebook instance\n",
    "\n",
    "## Data Staging\n",
    "\n",
    "We'll use a sample dataset called CIFAR to simulate the challenges Scones Unlimited are facing in Image Classification. In order to start working with CIFAR we'll need to:\n",
    "\n",
    "1. Extract the data from a hosting service\n",
    "2. Transform it into a usable shape and format\n",
    "3. Load it into a production system\n",
    "\n",
    "In other words, we're going to do some simple ETL!\n",
    "\n",
    "### 1. Extract the data from the hosting service\n",
    "\n",
    "In the cell below, define a function `extract_cifar_data` that extracts python version of the CIFAR-100 dataset. The CIFAR dataaset is open source and generously hosted by the University of Toronto at: https://www.cs.toronto.edu/~kriz/cifar-100-python.tar.gz "
   ]
  },
  {
   "cell_type": "code",
   "execution_count": 3,
   "metadata": {
    "execution": {
     "iopub.execute_input": "2025-06-14T18:23:00.145763Z",
     "iopub.status.busy": "2025-06-14T18:23:00.142564Z",
     "iopub.status.idle": "2025-06-14T18:23:00.159381Z",
     "shell.execute_reply": "2025-06-14T18:23:00.157564Z",
     "shell.execute_reply.started": "2025-06-14T18:23:00.145727Z"
    }
   },
   "outputs": [],
   "source": [
    "import requests\n",
    "\n",
    "\n",
    "def extract_cifar_data(url, filename=\"cifar.tar.gz\"):\n",
    "    \"\"\"A function for extracting the CIFAR-100 dataset and storing it as a gzipped file\n",
    "\n",
    "    Arguments:\n",
    "    url      -- the URL where the dataset is hosted\n",
    "    filename -- the full path where the dataset will be written\n",
    "\n",
    "    \"\"\"\n",
    "\n",
    "    # Todo: request the data from the data url\n",
    "    # Hint: use `requests.get` method\n",
    "    r = requests.get(url)\n",
    "    with open(filename, \"wb\") as file_context:\n",
    "        file_context.write(r.content)\n",
    "    return"
   ]
  },
  {
   "cell_type": "markdown",
   "metadata": {},
   "source": [
    "Let's test it out! Run the following cell and check whether a new file `cifar.tar.gz` is created in the file explorer."
   ]
  },
  {
   "cell_type": "code",
   "execution_count": 4,
   "metadata": {
    "execution": {
     "iopub.execute_input": "2025-06-14T18:23:05.303524Z",
     "iopub.status.busy": "2025-06-14T18:23:05.302932Z",
     "iopub.status.idle": "2025-06-14T18:23:08.856751Z",
     "shell.execute_reply": "2025-06-14T18:23:08.855874Z",
     "shell.execute_reply.started": "2025-06-14T18:23:05.303493Z"
    }
   },
   "outputs": [],
   "source": [
    "extract_cifar_data(\"https://www.cs.toronto.edu/~kriz/cifar-100-python.tar.gz\")"
   ]
  },
  {
   "cell_type": "markdown",
   "metadata": {},
   "source": [
    "### 2. Transform the data into a usable shape and format\n",
    "\n",
    "Clearly, distributing the data as a gzipped archive makes sense for the hosting service! It saves on bandwidth, storage, and it's a widely-used archive format. In fact, it's so widely used that the Python community ships a utility for working with them, `tarfile`, as part of its Standard Library. Execute the following cell to decompress your extracted dataset:"
   ]
  },
  {
   "cell_type": "code",
   "execution_count": 5,
   "metadata": {
    "execution": {
     "iopub.execute_input": "2025-06-14T18:23:12.653162Z",
     "iopub.status.busy": "2025-06-14T18:23:12.652887Z",
     "iopub.status.idle": "2025-06-14T18:23:14.247621Z",
     "shell.execute_reply": "2025-06-14T18:23:14.245400Z",
     "shell.execute_reply.started": "2025-06-14T18:23:12.653140Z"
    }
   },
   "outputs": [
    {
     "name": "stderr",
     "output_type": "stream",
     "text": [
      "/tmp/ipykernel_154/4281747999.py:4: DeprecationWarning: Python 3.14 will, by default, filter extracted tar archives and reject files or modify their metadata. Use the filter argument to control this behavior.\n",
      "  tar.extractall()\n"
     ]
    }
   ],
   "source": [
    "import tarfile\n",
    "\n",
    "with tarfile.open(\"cifar.tar.gz\", \"r:gz\") as tar:\n",
    "    tar.extractall()"
   ]
  },
  {
   "cell_type": "markdown",
   "metadata": {},
   "source": [
    "A new folder `cifar-100-python` should be created, containing `meta`, `test`, and `train` files. These files are `pickles` and the [CIFAR homepage](https://www.cs.toronto.edu/~kriz/cifar.html) provides a simple script that can be used to load them. We've adapted the script below for you to run:"
   ]
  },
  {
   "cell_type": "code",
   "execution_count": 6,
   "metadata": {
    "execution": {
     "iopub.execute_input": "2025-06-14T18:23:21.299501Z",
     "iopub.status.busy": "2025-06-14T18:23:21.299211Z",
     "iopub.status.idle": "2025-06-14T18:23:21.615854Z",
     "shell.execute_reply": "2025-06-14T18:23:21.615016Z",
     "shell.execute_reply.started": "2025-06-14T18:23:21.299480Z"
    }
   },
   "outputs": [],
   "source": [
    "import pickle\n",
    "\n",
    "with open(\"./cifar-100-python/meta\", \"rb\") as f:\n",
    "    dataset_meta = pickle.load(f, encoding='bytes')\n",
    "\n",
    "with open(\"./cifar-100-python/test\", \"rb\") as f:\n",
    "    dataset_test = pickle.load(f, encoding='bytes')\n",
    "\n",
    "with open(\"./cifar-100-python/train\", \"rb\") as f:\n",
    "    dataset_train = pickle.load(f, encoding='bytes')"
   ]
  },
  {
   "cell_type": "code",
   "execution_count": 7,
   "metadata": {
    "execution": {
     "iopub.execute_input": "2025-06-14T18:23:23.387943Z",
     "iopub.status.busy": "2025-06-14T18:23:23.387663Z",
     "iopub.status.idle": "2025-06-14T18:23:23.393098Z",
     "shell.execute_reply": "2025-06-14T18:23:23.392393Z",
     "shell.execute_reply.started": "2025-06-14T18:23:23.387923Z"
    }
   },
   "outputs": [
    {
     "data": {
      "text/plain": [
       "dict_keys([b'filenames', b'batch_label', b'fine_labels', b'coarse_labels', b'data'])"
      ]
     },
     "execution_count": 7,
     "metadata": {},
     "output_type": "execute_result"
    }
   ],
   "source": [
    "# Feel free to explore the datasets\n",
    "\n",
    "dataset_train.keys()"
   ]
  },
  {
   "cell_type": "code",
   "execution_count": 8,
   "metadata": {
    "execution": {
     "iopub.execute_input": "2025-06-14T18:23:28.456105Z",
     "iopub.status.busy": "2025-06-14T18:23:28.455706Z",
     "iopub.status.idle": "2025-06-14T18:23:28.461223Z",
     "shell.execute_reply": "2025-06-14T18:23:28.460387Z",
     "shell.execute_reply.started": "2025-06-14T18:23:28.456080Z"
    }
   },
   "outputs": [
    {
     "name": "stdout",
     "output_type": "stream",
     "text": [
      "dict_keys([b'fine_label_names', b'coarse_label_names'])\n",
      "\n",
      "b'fine_label_names' :\n",
      " [b'apple', b'aquarium_fish', b'baby', b'bear', b'beaver', b'bed', b'bee', b'beetle', b'bicycle', b'bottle', b'bowl', b'boy', b'bridge', b'bus', b'butterfly', b'camel', b'can', b'castle', b'caterpillar', b'cattle', b'chair', b'chimpanzee', b'clock', b'cloud', b'cockroach', b'couch', b'crab', b'crocodile', b'cup', b'dinosaur', b'dolphin', b'elephant', b'flatfish', b'forest', b'fox', b'girl', b'hamster', b'house', b'kangaroo', b'keyboard', b'lamp', b'lawn_mower', b'leopard', b'lion', b'lizard', b'lobster', b'man', b'maple_tree', b'motorcycle', b'mountain', b'mouse', b'mushroom', b'oak_tree', b'orange', b'orchid', b'otter', b'palm_tree', b'pear', b'pickup_truck', b'pine_tree', b'plain', b'plate', b'poppy', b'porcupine', b'possum', b'rabbit', b'raccoon', b'ray', b'road', b'rocket', b'rose', b'sea', b'seal', b'shark', b'shrew', b'skunk', b'skyscraper', b'snail', b'snake', b'spider', b'squirrel', b'streetcar', b'sunflower', b'sweet_pepper', b'table', b'tank', b'telephone', b'television', b'tiger', b'tractor', b'train', b'trout', b'tulip', b'turtle', b'wardrobe', b'whale', b'willow_tree', b'wolf', b'woman', b'worm']\n",
      "Count: 100\n",
      "\n",
      "b'coarse_label_names' :\n",
      " [b'aquatic_mammals', b'fish', b'flowers', b'food_containers', b'fruit_and_vegetables', b'household_electrical_devices', b'household_furniture', b'insects', b'large_carnivores', b'large_man-made_outdoor_things', b'large_natural_outdoor_scenes', b'large_omnivores_and_herbivores', b'medium_mammals', b'non-insect_invertebrates', b'people', b'reptiles', b'small_mammals', b'trees', b'vehicles_1', b'vehicles_2']\n",
      "Count: 20\n",
      "\n"
     ]
    }
   ],
   "source": [
    "# Checking the label names in 'dataset_meta'\n",
    "\n",
    "print(dataset_meta.keys());print()\n",
    "\n",
    "for i in dataset_meta.keys():\n",
    "    print(i,\":\\n\",dataset_meta[i])\n",
    "    print(\"Count:\", len(dataset_meta[i]));print()"
   ]
  },
  {
   "cell_type": "markdown",
   "metadata": {},
   "source": [
    "As documented on the homepage, `b'data'` contains rows of 3073 unsigned integers, representing three channels (red, green, and blue) for one 32x32 pixel image per row."
   ]
  },
  {
   "cell_type": "code",
   "execution_count": 9,
   "metadata": {
    "execution": {
     "iopub.execute_input": "2025-06-14T18:23:33.087959Z",
     "iopub.status.busy": "2025-06-14T18:23:33.087685Z",
     "iopub.status.idle": "2025-06-14T18:23:33.092475Z",
     "shell.execute_reply": "2025-06-14T18:23:33.091496Z",
     "shell.execute_reply.started": "2025-06-14T18:23:33.087938Z"
    }
   },
   "outputs": [
    {
     "data": {
      "text/plain": [
       "3072"
      ]
     },
     "execution_count": 9,
     "metadata": {},
     "output_type": "execute_result"
    }
   ],
   "source": [
    "32*32*3"
   ]
  },
  {
   "cell_type": "markdown",
   "metadata": {},
   "source": [
    "For a simple gut-check, let's transform one of our images. Each 1024 items in a row is a channel (red, green, then blue). Each 32 items in the channel are a row in the 32x32 image. Using python, we can stack these channels into a 32x32x3 array, and save it as a PNG file:"
   ]
  },
  {
   "cell_type": "code",
   "execution_count": 10,
   "metadata": {
    "execution": {
     "iopub.execute_input": "2025-06-14T18:23:38.213475Z",
     "iopub.status.busy": "2025-06-14T18:23:38.213208Z",
     "iopub.status.idle": "2025-06-14T18:23:38.218297Z",
     "shell.execute_reply": "2025-06-14T18:23:38.217204Z",
     "shell.execute_reply.started": "2025-06-14T18:23:38.213454Z"
    }
   },
   "outputs": [
    {
     "name": "stdout",
     "output_type": "stream",
     "text": [
      "[[255 255 255 ...  10  59  79]]\n",
      "(1, 3072)\n"
     ]
    }
   ],
   "source": [
    "# Checking the first datapoint\n",
    "print(dataset_train[b'data'][:1])\n",
    "print(dataset_train[b'data'][:1].shape)"
   ]
  },
  {
   "cell_type": "code",
   "execution_count": 11,
   "metadata": {
    "execution": {
     "iopub.execute_input": "2025-06-14T18:23:46.281128Z",
     "iopub.status.busy": "2025-06-14T18:23:46.280581Z",
     "iopub.status.idle": "2025-06-14T18:23:46.287835Z",
     "shell.execute_reply": "2025-06-14T18:23:46.286671Z",
     "shell.execute_reply.started": "2025-06-14T18:23:46.281099Z"
    }
   },
   "outputs": [],
   "source": [
    "import numpy as np\n",
    "\n",
    "# Each 1024 in a row is a channel (red, green, then blue)\n",
    "row = dataset_train[b'data'][0]\n",
    "red, green, blue = row[0:1024], row[1024:2048], row[2048:]\n",
    "\n",
    "# Each 32 items in the channel are a row in the 32x32 image\n",
    "red = red.reshape(32,32)\n",
    "green = green.reshape(32,32)\n",
    "blue = blue.reshape(32,32)\n",
    "\n",
    "# Combine the channels into a 32x32x3 image!\n",
    "combined = np.dstack((red,green,blue))"
   ]
  },
  {
   "cell_type": "markdown",
   "metadata": {},
   "source": [
    "For a more concise version, consider the following:"
   ]
  },
  {
   "cell_type": "code",
   "execution_count": 12,
   "metadata": {
    "execution": {
     "iopub.execute_input": "2025-06-14T18:23:59.133598Z",
     "iopub.status.busy": "2025-06-14T18:23:59.133001Z",
     "iopub.status.idle": "2025-06-14T18:23:59.139677Z",
     "shell.execute_reply": "2025-06-14T18:23:59.138290Z",
     "shell.execute_reply.started": "2025-06-14T18:23:59.133570Z"
    }
   },
   "outputs": [],
   "source": [
    "# All in one:\n",
    "test_image = np.dstack((\n",
    "    row[0:1024].reshape(32,32),\n",
    "    row[1024:2048].reshape(32,32),\n",
    "    row[2048:].reshape(32,32)\n",
    "))"
   ]
  },
  {
   "cell_type": "code",
   "execution_count": 13,
   "metadata": {
    "execution": {
     "iopub.execute_input": "2025-06-14T18:24:01.990092Z",
     "iopub.status.busy": "2025-06-14T18:24:01.989712Z",
     "iopub.status.idle": "2025-06-14T18:24:04.687781Z",
     "shell.execute_reply": "2025-06-14T18:24:04.686640Z",
     "shell.execute_reply.started": "2025-06-14T18:24:01.990057Z"
    }
   },
   "outputs": [
    {
     "data": {
      "image/png": "[encoded data removed]",
      "text/plain": [
       "<Figure size 640x480 with 1 Axes>"
      ]
     },
     "metadata": {},
     "output_type": "display_data"
    }
   ],
   "source": [
    "# Plot the 3-channeled colored train image\n",
    "import matplotlib.pyplot as plt\n",
    "plt.imshow(test_image);"
   ]
  },
  {
   "cell_type": "markdown",
   "metadata": {},
   "source": [
    "Looks like a cow! Let's check the label. `dataset_meta` contains label names in order, and `dataset_train` has a list of labels for each row."
   ]
  },
  {
   "cell_type": "code",
   "execution_count": 14,
   "metadata": {
    "execution": {
     "iopub.execute_input": "2025-06-14T18:24:12.700891Z",
     "iopub.status.busy": "2025-06-14T18:24:12.700471Z",
     "iopub.status.idle": "2025-06-14T18:24:12.706585Z",
     "shell.execute_reply": "2025-06-14T18:24:12.705745Z",
     "shell.execute_reply.started": "2025-06-14T18:24:12.700868Z"
    }
   },
   "outputs": [
    {
     "data": {
      "text/plain": [
       "19"
      ]
     },
     "execution_count": 14,
     "metadata": {},
     "output_type": "execute_result"
    }
   ],
   "source": [
    "# Label number corresponding to the first image in train dataset\n",
    "dataset_train[b'fine_labels'][0]"
   ]
  },
  {
   "cell_type": "markdown",
   "metadata": {},
   "source": [
    "Our image has a label of `19`, so let's see what the 19th item is in the list of label names."
   ]
  },
  {
   "cell_type": "code",
   "execution_count": 15,
   "metadata": {
    "execution": {
     "iopub.execute_input": "2025-06-14T18:24:17.372134Z",
     "iopub.status.busy": "2025-06-14T18:24:17.371566Z",
     "iopub.status.idle": "2025-06-14T18:24:17.377123Z",
     "shell.execute_reply": "2025-06-14T18:24:17.375355Z",
     "shell.execute_reply.started": "2025-06-14T18:24:17.372103Z"
    }
   },
   "outputs": [
    {
     "name": "stdout",
     "output_type": "stream",
     "text": [
      "b'cattle'\n"
     ]
    }
   ],
   "source": [
    "# Checking the 'label name' corresponding to label number '19'\n",
    "print(dataset_meta[b'fine_label_names'][19])"
   ]
  },
  {
   "cell_type": "markdown",
   "metadata": {},
   "source": [
    "Ok! 'cattle' sounds about right. By the way, using the previous two lines we can do:"
   ]
  },
  {
   "cell_type": "code",
   "execution_count": 16,
   "metadata": {
    "execution": {
     "iopub.execute_input": "2025-06-14T18:24:24.004642Z",
     "iopub.status.busy": "2025-06-14T18:24:24.003975Z",
     "iopub.status.idle": "2025-06-14T18:24:24.009479Z",
     "shell.execute_reply": "2025-06-14T18:24:24.008252Z",
     "shell.execute_reply.started": "2025-06-14T18:24:24.004611Z"
    }
   },
   "outputs": [
    {
     "name": "stdout",
     "output_type": "stream",
     "text": [
      "b'cattle'\n"
     ]
    }
   ],
   "source": [
    "n = 0\n",
    "print(dataset_meta[b'fine_label_names'][dataset_train[b'fine_labels'][n]])"
   ]
  },
  {
   "cell_type": "markdown",
   "metadata": {},
   "source": [
    "Now we know how to check labels, is there a way that we can also check file names? `dataset_train` also contains a `b'filenames'` key. Let's see what we have here:"
   ]
  },
  {
   "cell_type": "code",
   "execution_count": 17,
   "metadata": {
    "execution": {
     "iopub.execute_input": "2025-06-14T18:24:32.876579Z",
     "iopub.status.busy": "2025-06-14T18:24:32.875789Z",
     "iopub.status.idle": "2025-06-14T18:24:32.880102Z",
     "shell.execute_reply": "2025-06-14T18:24:32.879301Z",
     "shell.execute_reply.started": "2025-06-14T18:24:32.876550Z"
    }
   },
   "outputs": [
    {
     "name": "stdout",
     "output_type": "stream",
     "text": [
      "b'bos_taurus_s_000507.png'\n"
     ]
    }
   ],
   "source": [
    "print(dataset_train[b'filenames'][0])"
   ]
  },
  {
   "cell_type": "markdown",
   "metadata": {},
   "source": [
    "\"Taurus\" is the name of a subspecies of cattle, so this looks like a pretty reasonable filename. To save an image we can also do:"
   ]
  },
  {
   "cell_type": "code",
   "execution_count": 18,
   "metadata": {
    "execution": {
     "iopub.execute_input": "2025-06-14T18:24:36.829444Z",
     "iopub.status.busy": "2025-06-14T18:24:36.828947Z",
     "iopub.status.idle": "2025-06-14T18:24:36.834161Z",
     "shell.execute_reply": "2025-06-14T18:24:36.833211Z",
     "shell.execute_reply.started": "2025-06-14T18:24:36.829420Z"
    }
   },
   "outputs": [],
   "source": [
    "plt.imsave(\"file.png\", test_image)"
   ]
  },
  {
   "cell_type": "markdown",
   "metadata": {},
   "source": [
    "Your new PNG file should now appear in the file explorer -- go ahead and pop it open to see!\n",
    "\n",
    "Now that you know how to reshape the images, save them as files, and capture their filenames and labels, let's just capture all the bicycles and motorcycles and save them. Scones Unlimited can use a model that tells these apart to route delivery drivers automatically.\n",
    "\n",
    "In the following cell, identify the label numbers for Bicycles and Motorcycles:"
   ]
  },
  {
   "cell_type": "code",
   "execution_count": 19,
   "metadata": {
    "execution": {
     "iopub.execute_input": "2025-06-14T18:25:06.827371Z",
     "iopub.status.busy": "2025-06-14T18:25:06.826481Z",
     "iopub.status.idle": "2025-06-14T18:25:06.831899Z",
     "shell.execute_reply": "2025-06-14T18:25:06.830802Z",
     "shell.execute_reply.started": "2025-06-14T18:25:06.827343Z"
    }
   },
   "outputs": [
    {
     "data": {
      "text/plain": [
       "dict_keys([b'fine_label_names', b'coarse_label_names'])"
      ]
     },
     "execution_count": 19,
     "metadata": {},
     "output_type": "execute_result"
    }
   ],
   "source": [
    "dataset_meta.keys()"
   ]
  },
  {
   "cell_type": "code",
   "execution_count": 20,
   "metadata": {
    "execution": {
     "iopub.execute_input": "2025-06-14T18:25:13.065638Z",
     "iopub.status.busy": "2025-06-14T18:25:13.065053Z",
     "iopub.status.idle": "2025-06-14T18:25:13.070815Z",
     "shell.execute_reply": "2025-06-14T18:25:13.069931Z",
     "shell.execute_reply.started": "2025-06-14T18:25:13.065611Z"
    }
   },
   "outputs": [
    {
     "name": "stdout",
     "output_type": "stream",
     "text": [
      "b'bicycle': label--> 8\n",
      "b'motorcycle': label--> 48\n"
     ]
    }
   ],
   "source": [
    "import pandas as pd\n",
    "\n",
    "# Todo: Filter the dataset_train and dataset_meta objects to find the label numbers for Bicycle and Motorcycles\n",
    "for i,n in enumerate(dataset_meta[b'fine_label_names']):\n",
    "    if  b\"bicycle\" == n or b\"motorcycle\" == n:\n",
    "        print(f\"{n}: label--> {i}\")"
   ]
  },
  {
   "cell_type": "markdown",
   "metadata": {},
   "source": [
    "Good job! We only need objects with label 8 and 48 -- this drastically simplifies our handling of the data! Below we construct a dataframe for you, and you can safely drop the rows that don't contain observations about bicycles and motorcycles. Fill in the missing lines below to drop all other rows:"
   ]
  },
  {
   "cell_type": "code",
   "execution_count": 21,
   "metadata": {
    "execution": {
     "iopub.execute_input": "2025-06-14T18:25:31.809398Z",
     "iopub.status.busy": "2025-06-14T18:25:31.808785Z",
     "iopub.status.idle": "2025-06-14T18:25:31.830912Z",
     "shell.execute_reply": "2025-06-14T18:25:31.830110Z",
     "shell.execute_reply.started": "2025-06-14T18:25:31.809369Z"
    }
   },
   "outputs": [],
   "source": [
    "#Construct the dataframe\n",
    "df_train = pd.DataFrame({\n",
    "    \"filenames\": dataset_train[b'filenames'],\n",
    "    \"labels\": dataset_train[b'fine_labels'],\n",
    "    \"row\": range(len(dataset_train[b'filenames']))\n",
    "})"
   ]
  },
  {
   "cell_type": "code",
   "execution_count": 22,
   "metadata": {
    "execution": {
     "iopub.execute_input": "2025-06-14T18:25:34.778856Z",
     "iopub.status.busy": "2025-06-14T18:25:34.778481Z",
     "iopub.status.idle": "2025-06-14T18:25:34.797867Z",
     "shell.execute_reply": "2025-06-14T18:25:34.797036Z",
     "shell.execute_reply.started": "2025-06-14T18:25:34.778830Z"
    }
   },
   "outputs": [
    {
     "data": {
      "text/html": [
       "<div>\n",
       "<style scoped>\n",
       "    .dataframe tbody tr th:only-of-type {\n",
       "        vertical-align: middle;\n",
       "    }\n",
       "\n",
       "    .dataframe tbody tr th {\n",
       "        vertical-align: top;\n",
       "    }\n",
       "\n",
       "    .dataframe thead th {\n",
       "        text-align: right;\n",
       "    }\n",
       "</style>\n",
       "<table border=\"1\" class=\"dataframe\">\n",
       "  <thead>\n",
       "    <tr style=\"text-align: right;\">\n",
       "      <th></th>\n",
       "      <th>filenames</th>\n",
       "      <th>labels</th>\n",
       "      <th>row</th>\n",
       "    </tr>\n",
       "  </thead>\n",
       "  <tbody>\n",
       "    <tr>\n",
       "      <th>0</th>\n",
       "      <td>b'bos_taurus_s_000507.png'</td>\n",
       "      <td>19</td>\n",
       "      <td>0</td>\n",
       "    </tr>\n",
       "    <tr>\n",
       "      <th>1</th>\n",
       "      <td>b'stegosaurus_s_000125.png'</td>\n",
       "      <td>29</td>\n",
       "      <td>1</td>\n",
       "    </tr>\n",
       "    <tr>\n",
       "      <th>2</th>\n",
       "      <td>b'mcintosh_s_000643.png'</td>\n",
       "      <td>0</td>\n",
       "      <td>2</td>\n",
       "    </tr>\n",
       "    <tr>\n",
       "      <th>3</th>\n",
       "      <td>b'altar_boy_s_001435.png'</td>\n",
       "      <td>11</td>\n",
       "      <td>3</td>\n",
       "    </tr>\n",
       "    <tr>\n",
       "      <th>4</th>\n",
       "      <td>b'cichlid_s_000031.png'</td>\n",
       "      <td>1</td>\n",
       "      <td>4</td>\n",
       "    </tr>\n",
       "  </tbody>\n",
       "</table>\n",
       "</div>"
      ],
      "text/plain": [
       "                     filenames  labels  row\n",
       "0   b'bos_taurus_s_000507.png'      19    0\n",
       "1  b'stegosaurus_s_000125.png'      29    1\n",
       "2     b'mcintosh_s_000643.png'       0    2\n",
       "3    b'altar_boy_s_001435.png'      11    3\n",
       "4      b'cichlid_s_000031.png'       1    4"
      ]
     },
     "execution_count": 22,
     "metadata": {},
     "output_type": "execute_result"
    }
   ],
   "source": [
    "df_train.head()"
   ]
  },
  {
   "cell_type": "code",
   "execution_count": 59,
   "metadata": {
    "execution": {
     "iopub.execute_input": "2025-06-03T19:52:23.364042Z",
     "iopub.status.busy": "2025-06-03T19:52:23.363757Z",
     "iopub.status.idle": "2025-06-03T19:52:23.378400Z",
     "shell.execute_reply": "2025-06-03T19:52:23.377609Z",
     "shell.execute_reply.started": "2025-06-03T19:52:23.364021Z"
    }
   },
   "outputs": [
    {
     "data": {
      "text/html": [
       "<div>\n",
       "<style scoped>\n",
       "    .dataframe tbody tr th:only-of-type {\n",
       "        vertical-align: middle;\n",
       "    }\n",
       "\n",
       "    .dataframe tbody tr th {\n",
       "        vertical-align: top;\n",
       "    }\n",
       "\n",
       "    .dataframe thead th {\n",
       "        text-align: right;\n",
       "    }\n",
       "</style>\n",
       "<table border=\"1\" class=\"dataframe\">\n",
       "  <thead>\n",
       "    <tr style=\"text-align: right;\">\n",
       "      <th></th>\n",
       "      <th>filenames</th>\n",
       "      <th>labels</th>\n",
       "      <th>row</th>\n",
       "    </tr>\n",
       "  </thead>\n",
       "  <tbody>\n",
       "    <tr>\n",
       "      <th>9572</th>\n",
       "      <td>b'cycle_s_003122.png'</td>\n",
       "      <td>8</td>\n",
       "      <td>9572</td>\n",
       "    </tr>\n",
       "    <tr>\n",
       "      <th>11174</th>\n",
       "      <td>b'moped_s_000168.png'</td>\n",
       "      <td>48</td>\n",
       "      <td>11174</td>\n",
       "    </tr>\n",
       "    <tr>\n",
       "      <th>40171</th>\n",
       "      <td>b'minibike_s_002163.png'</td>\n",
       "      <td>48</td>\n",
       "      <td>40171</td>\n",
       "    </tr>\n",
       "    <tr>\n",
       "      <th>19336</th>\n",
       "      <td>b'minibike_s_000802.png'</td>\n",
       "      <td>48</td>\n",
       "      <td>19336</td>\n",
       "    </tr>\n",
       "    <tr>\n",
       "      <th>1555</th>\n",
       "      <td>b'bicycle_s_000536.png'</td>\n",
       "      <td>8</td>\n",
       "      <td>1555</td>\n",
       "    </tr>\n",
       "  </tbody>\n",
       "</table>\n",
       "</div>"
      ],
      "text/plain": [
       "                      filenames  labels    row\n",
       "9572      b'cycle_s_003122.png'       8   9572\n",
       "11174     b'moped_s_000168.png'      48  11174\n",
       "40171  b'minibike_s_002163.png'      48  40171\n",
       "19336  b'minibike_s_000802.png'      48  19336\n",
       "1555    b'bicycle_s_000536.png'       8   1555"
      ]
     },
     "execution_count": 59,
     "metadata": {},
     "output_type": "execute_result"
    }
   ],
   "source": [
    "df_train.loc[df_train.labels.isin([8,48])].sample(5)"
   ]
  },
  {
   "cell_type": "code",
   "execution_count": 23,
   "metadata": {
    "execution": {
     "iopub.execute_input": "2025-06-14T18:25:39.644607Z",
     "iopub.status.busy": "2025-06-14T18:25:39.644345Z",
     "iopub.status.idle": "2025-06-14T18:25:39.663528Z",
     "shell.execute_reply": "2025-06-14T18:25:39.662436Z",
     "shell.execute_reply.started": "2025-06-14T18:25:39.644587Z"
    }
   },
   "outputs": [],
   "source": [
    "# Drop all rows from df_train where label is not 8 or 48\n",
    "df_train = df_train.loc[df_train.labels.isin([8,48])] #TODO: Fill in\n",
    "\n",
    "# Decode df_train.filenames so they are regular strings\n",
    "df_train[\"filenames\"] = df_train[\"filenames\"].apply(\n",
    "    lambda x: x.decode(\"utf-8\")\n",
    ")\n",
    "\n",
    "\n",
    "df_test = pd.DataFrame({\n",
    "    \"filenames\": dataset_test[b'filenames'],\n",
    "    \"labels\": dataset_test[b'fine_labels'],\n",
    "    \"row\": range(len(dataset_test[b'filenames']))\n",
    "})\n",
    "\n",
    "# Drop all rows from df_test where label is not 8 or 48\n",
    "df_test = df_test.loc[df_test.labels.isin([8,48])] #TODO: Fill in\n",
    "\n",
    "# Decode df_test.filenames so they are regular strings\n",
    "df_test[\"filenames\"] = df_test[\"filenames\"].apply(\n",
    "    lambda x: x.decode(\"utf-8\")\n",
    ")"
   ]
  },
  {
   "cell_type": "code",
   "execution_count": 24,
   "metadata": {
    "execution": {
     "iopub.execute_input": "2025-06-14T18:25:43.212830Z",
     "iopub.status.busy": "2025-06-14T18:25:43.212306Z",
     "iopub.status.idle": "2025-06-14T18:25:43.222945Z",
     "shell.execute_reply": "2025-06-14T18:25:43.222118Z",
     "shell.execute_reply.started": "2025-06-14T18:25:43.212801Z"
    }
   },
   "outputs": [
    {
     "data": {
      "text/html": [
       "<div>\n",
       "<style scoped>\n",
       "    .dataframe tbody tr th:only-of-type {\n",
       "        vertical-align: middle;\n",
       "    }\n",
       "\n",
       "    .dataframe tbody tr th {\n",
       "        vertical-align: top;\n",
       "    }\n",
       "\n",
       "    .dataframe thead th {\n",
       "        text-align: right;\n",
       "    }\n",
       "</style>\n",
       "<table border=\"1\" class=\"dataframe\">\n",
       "  <thead>\n",
       "    <tr style=\"text-align: right;\">\n",
       "      <th></th>\n",
       "      <th>filenames</th>\n",
       "      <th>labels</th>\n",
       "      <th>row</th>\n",
       "    </tr>\n",
       "  </thead>\n",
       "  <tbody>\n",
       "    <tr>\n",
       "      <th>27</th>\n",
       "      <td>safety_bike_s_000390.png</td>\n",
       "      <td>8</td>\n",
       "      <td>27</td>\n",
       "    </tr>\n",
       "    <tr>\n",
       "      <th>28</th>\n",
       "      <td>bike_s_000658.png</td>\n",
       "      <td>8</td>\n",
       "      <td>28</td>\n",
       "    </tr>\n",
       "    <tr>\n",
       "      <th>116</th>\n",
       "      <td>velocipede_s_001744.png</td>\n",
       "      <td>8</td>\n",
       "      <td>116</td>\n",
       "    </tr>\n",
       "    <tr>\n",
       "      <th>161</th>\n",
       "      <td>bike_s_000643.png</td>\n",
       "      <td>8</td>\n",
       "      <td>161</td>\n",
       "    </tr>\n",
       "    <tr>\n",
       "      <th>319</th>\n",
       "      <td>ordinary_bicycle_s_000437.png</td>\n",
       "      <td>8</td>\n",
       "      <td>319</td>\n",
       "    </tr>\n",
       "  </tbody>\n",
       "</table>\n",
       "</div>"
      ],
      "text/plain": [
       "                         filenames  labels  row\n",
       "27        safety_bike_s_000390.png       8   27\n",
       "28               bike_s_000658.png       8   28\n",
       "116        velocipede_s_001744.png       8  116\n",
       "161              bike_s_000643.png       8  161\n",
       "319  ordinary_bicycle_s_000437.png       8  319"
      ]
     },
     "execution_count": 24,
     "metadata": {},
     "output_type": "execute_result"
    }
   ],
   "source": [
    "df_test.head()"
   ]
  },
  {
   "cell_type": "code",
   "execution_count": 25,
   "metadata": {
    "execution": {
     "iopub.execute_input": "2025-06-14T18:25:45.227427Z",
     "iopub.status.busy": "2025-06-14T18:25:45.226738Z",
     "iopub.status.idle": "2025-06-14T18:25:45.235356Z",
     "shell.execute_reply": "2025-06-14T18:25:45.233596Z",
     "shell.execute_reply.started": "2025-06-14T18:25:45.227388Z"
    }
   },
   "outputs": [
    {
     "data": {
      "text/plain": [
       "(1000, 200)"
      ]
     },
     "execution_count": 25,
     "metadata": {},
     "output_type": "execute_result"
    }
   ],
   "source": [
    "len(df_train), len(df_test)"
   ]
  },
  {
   "cell_type": "markdown",
   "metadata": {},
   "source": [
    "Now that the data is filtered for just our classes, we can save all our images."
   ]
  },
  {
   "cell_type": "code",
   "execution_count": 26,
   "metadata": {
    "execution": {
     "iopub.execute_input": "2025-06-14T18:25:51.241586Z",
     "iopub.status.busy": "2025-06-14T18:25:51.241267Z",
     "iopub.status.idle": "2025-06-14T18:25:51.601361Z",
     "shell.execute_reply": "2025-06-14T18:25:51.600424Z",
     "shell.execute_reply.started": "2025-06-14T18:25:51.241555Z"
    }
   },
   "outputs": [
    {
     "name": "stdout",
     "output_type": "stream",
     "text": [
      "mkdir: cannot create directory ‘./train’: File exists\n",
      "mkdir: cannot create directory ‘./test’: File exists\n"
     ]
    }
   ],
   "source": [
    "!mkdir ./train\n",
    "!mkdir ./test"
   ]
  },
  {
   "cell_type": "markdown",
   "metadata": {},
   "source": [
    "In the previous sections we introduced you to several key snippets of code:\n",
    "\n",
    "1. Grabbing the image data:\n",
    "\n",
    "```python\n",
    "dataset_train[b'data'][0]\n",
    "```\n",
    "\n",
    "2. A simple idiom for stacking the image data into the right shape\n",
    "\n",
    "```python\n",
    "import numpy as np\n",
    "np.dstack((\n",
    "    row[0:1024].reshape(32,32),\n",
    "    row[1024:2048].reshape(32,32),\n",
    "    row[2048:].reshape(32,32)\n",
    "))\n",
    "```\n",
    "\n",
    "3. A simple `matplotlib` utility for saving images\n",
    "\n",
    "```python\n",
    "plt.imsave(path+row['filenames'], target)\n",
    "```\n",
    "\n",
    "Compose these together into a function that saves all the images into the `./test` and `./train` directories. Use the comments in the body of the `save_images` function below to guide your construction of the function:\n"
   ]
  },
  {
   "cell_type": "code",
   "execution_count": 27,
   "metadata": {
    "execution": {
     "iopub.execute_input": "2025-06-14T18:26:01.947717Z",
     "iopub.status.busy": "2025-06-14T18:26:01.946782Z",
     "iopub.status.idle": "2025-06-14T18:26:01.960051Z",
     "shell.execute_reply": "2025-06-14T18:26:01.957517Z",
     "shell.execute_reply.started": "2025-06-14T18:26:01.947668Z"
    }
   },
   "outputs": [
    {
     "data": {
      "text/plain": [
       "array([[255, 255, 255, ...,  10,  59,  79],\n",
       "       [255, 253, 253, ..., 253, 253, 255],\n",
       "       [250, 248, 247, ..., 194, 207, 228],\n",
       "       ...,\n",
       "       [248, 240, 236, ..., 180, 174, 205],\n",
       "       [156, 151, 151, ..., 114, 107, 126],\n",
       "       [ 31,  30,  31, ...,  72,  69,  67]], dtype=uint8)"
      ]
     },
     "execution_count": 27,
     "metadata": {},
     "output_type": "execute_result"
    }
   ],
   "source": [
    "dataset_train[b'data']"
   ]
  },
  {
   "cell_type": "code",
   "execution_count": 28,
   "metadata": {
    "execution": {
     "iopub.execute_input": "2025-06-14T18:26:03.462928Z",
     "iopub.status.busy": "2025-06-14T18:26:03.461965Z",
     "iopub.status.idle": "2025-06-14T18:26:03.468738Z",
     "shell.execute_reply": "2025-06-14T18:26:03.466671Z",
     "shell.execute_reply.started": "2025-06-14T18:26:03.462893Z"
    }
   },
   "outputs": [],
   "source": [
    "import os \n",
    "import numpy  as np\n",
    "import matplotlib.pyplot as plt"
   ]
  },
  {
   "cell_type": "code",
   "execution_count": 29,
   "metadata": {
    "execution": {
     "iopub.execute_input": "2025-06-14T18:26:07.034731Z",
     "iopub.status.busy": "2025-06-14T18:26:07.034288Z",
     "iopub.status.idle": "2025-06-14T18:26:07.042626Z",
     "shell.execute_reply": "2025-06-14T18:26:07.041803Z",
     "shell.execute_reply.started": "2025-06-14T18:26:07.034705Z"
    }
   },
   "outputs": [],
   "source": [
    "def save_images(imges_df,images_data,path_to_save_img):\n",
    "    rows=imges_df[\"row\"]\n",
    "    img_names=imges_df[\"filenames\"]\n",
    "    for r,n in zip(rows,img_names):\n",
    "        \n",
    "    #Grab the image data in row-major form\n",
    "\n",
    "        img = images_data[b'data'][r]\n",
    "\n",
    "        # Consolidated stacking/reshaping from earlier\n",
    "        target = np.dstack((\n",
    "                        img[0:1024].reshape(32,32,1),\n",
    "                        img[1024:2048].reshape(32,32,1),\n",
    "                        img[2048:].reshape(32,32,1)\n",
    "                         ))\n",
    "        # Save the image\n",
    "        try:\n",
    "\n",
    "            save_img_path = os.path.join(path_to_save_img, n)\n",
    "\n",
    "            plt.imsave(save_img_path, target)\n",
    "            raw_save_img_path = r\"{}\".format(save_img_path)\n",
    "            nraw_save_img_path = os.path.normpath(raw_save_img_path)\n",
    "            print(f\"Successfully saved {n} to folder {nraw_save_img_path}.\")\n",
    "\n",
    "        except RuntimeError as e:\n",
    "            return f\"Error: {e} \\nAn error accures while saving {n} file to the target folder located at {path_to_save_img}\"\n",
    "    "
   ]
  },
  {
   "cell_type": "code",
   "execution_count": 30,
   "metadata": {
    "execution": {
     "iopub.execute_input": "2025-06-14T18:26:10.197900Z",
     "iopub.status.busy": "2025-06-14T18:26:10.197314Z",
     "iopub.status.idle": "2025-06-14T18:26:10.940560Z",
     "shell.execute_reply": "2025-06-14T18:26:10.939604Z",
     "shell.execute_reply.started": "2025-06-14T18:26:10.197874Z"
    }
   },
   "outputs": [
    {
     "name": "stdout",
     "output_type": "stream",
     "text": [
      "Successfully saved bike_s_000682.png to folder train/bike_s_000682.png.\n",
      "Successfully saved bike_s_000127.png to folder train/bike_s_000127.png.\n",
      "Successfully saved cycle_s_002598.png to folder train/cycle_s_002598.png.\n",
      "Successfully saved minibike_s_000824.png to folder train/minibike_s_000824.png.\n",
      "Successfully saved motorcycle_s_001856.png to folder train/motorcycle_s_001856.png.\n",
      "Successfully saved bicycle_s_000537.png to folder train/bicycle_s_000537.png.\n",
      "Successfully saved moped_s_000169.png to folder train/moped_s_000169.png.\n",
      "Successfully saved motorcycle_s_001453.png to folder train/motorcycle_s_001453.png.\n",
      "Successfully saved safety_bike_s_000482.png to folder train/safety_bike_s_000482.png.\n",
      "Successfully saved dirt_bike_s_000124.png to folder train/dirt_bike_s_000124.png.\n",
      "Successfully saved minibike_s_001863.png to folder train/minibike_s_001863.png.\n",
      "Successfully saved minibike_s_001177.png to folder train/minibike_s_001177.png.\n",
      "Successfully saved motorcycle_s_001792.png to folder train/motorcycle_s_001792.png.\n",
      "Successfully saved minibike_s_001969.png to folder train/minibike_s_001969.png.\n",
      "Successfully saved velocipede_s_001585.png to folder train/velocipede_s_001585.png.\n",
      "Successfully saved moped_s_000035.png to folder train/moped_s_000035.png.\n",
      "Successfully saved bike_s_000256.png to folder train/bike_s_000256.png.\n",
      "Successfully saved minibike_s_000571.png to folder train/minibike_s_000571.png.\n",
      "Successfully saved motorcycle_s_001119.png to folder train/motorcycle_s_001119.png.\n",
      "Successfully saved moped_s_000009.png to folder train/moped_s_000009.png.\n",
      "Successfully saved ordinary_bicycle_s_000023.png to folder train/ordinary_bicycle_s_000023.png.\n",
      "Successfully saved motorcycle_s_001693.png to folder train/motorcycle_s_001693.png.\n",
      "Successfully saved safety_bicycle_s_001570.png to folder train/safety_bicycle_s_001570.png.\n",
      "Successfully saved safety_bike_s_000989.png to folder train/safety_bike_s_000989.png.\n",
      "Successfully saved bicycle_s_001673.png to folder train/bicycle_s_001673.png.\n",
      "Successfully saved ordinary_bicycle_s_000100.png to folder train/ordinary_bicycle_s_000100.png.\n",
      "Successfully saved bike_s_000544.png to folder train/bike_s_000544.png.\n",
      "Successfully saved motorcycle_s_001368.png to folder train/motorcycle_s_001368.png.\n",
      "Successfully saved bicycle_s_000392.png to folder train/bicycle_s_000392.png.\n",
      "Successfully saved motorbike_s_000221.png to folder train/motorbike_s_000221.png.\n",
      "Successfully saved safety_bike_s_000311.png to folder train/safety_bike_s_000311.png.\n",
      "Successfully saved cycle_s_001745.png to folder train/cycle_s_001745.png.\n",
      "Successfully saved motorcycle_s_002030.png to folder train/motorcycle_s_002030.png.\n",
      "Successfully saved motorcycle_s_000074.png to folder train/motorcycle_s_000074.png.\n",
      "Successfully saved cycle_s_002978.png to folder train/cycle_s_002978.png.\n",
      "Successfully saved bike_s_001679.png to folder train/bike_s_001679.png.\n",
      "Successfully saved bicycle_s_000536.png to folder train/bicycle_s_000536.png.\n",
      "Successfully saved bike_s_000926.png to folder train/bike_s_000926.png.\n",
      "Successfully saved motorcycle_s_000070.png to folder train/motorcycle_s_000070.png.\n",
      "Successfully saved safety_bicycle_s_000655.png to folder train/safety_bicycle_s_000655.png.\n",
      "Successfully saved safety_bicycle_s_000427.png to folder train/safety_bicycle_s_000427.png.\n",
      "Successfully saved minibike_s_000324.png to folder train/minibike_s_000324.png.\n",
      "Successfully saved minibike_s_001631.png to folder train/minibike_s_001631.png.\n",
      "Successfully saved motorcycle_s_000629.png to folder train/motorcycle_s_000629.png.\n",
      "Successfully saved motorcycle_s_000605.png to folder train/motorcycle_s_000605.png.\n",
      "Successfully saved motorcycle_s_001973.png to folder train/motorcycle_s_001973.png.\n",
      "Successfully saved bike_s_000555.png to folder train/bike_s_000555.png.\n",
      "Successfully saved bicycle_s_002762.png to folder train/bicycle_s_002762.png.\n",
      "Successfully saved bicycle_s_000778.png to folder train/bicycle_s_000778.png.\n",
      "Successfully saved bike_s_001613.png to folder train/bike_s_001613.png.\n",
      "Successfully saved motorcycle_s_001180.png to folder train/motorcycle_s_001180.png.\n",
      "Successfully saved minibike_s_001279.png to folder train/minibike_s_001279.png.\n",
      "Successfully saved minibike_s_000451.png to folder train/minibike_s_000451.png.\n",
      "Successfully saved motorbike_s_000346.png to folder train/motorbike_s_000346.png.\n",
      "Successfully saved minibike_s_000117.png to folder train/minibike_s_000117.png.\n",
      "Successfully saved bicycle_s_001448.png to folder train/bicycle_s_001448.png.\n",
      "Successfully saved motorcycle_s_000790.png to folder train/motorcycle_s_000790.png.\n",
      "Successfully saved bicycle_s_002373.png to folder train/bicycle_s_002373.png.\n",
      "Successfully saved safety_bicycle_s_001202.png to folder train/safety_bicycle_s_001202.png.\n",
      "Successfully saved motorcycle_s_000001.png to folder train/motorcycle_s_000001.png.\n",
      "Successfully saved bike_s_001882.png to folder train/bike_s_001882.png.\n",
      "Successfully saved bike_s_001113.png to folder train/bike_s_001113.png.\n",
      "Successfully saved minibike_s_000362.png to folder train/minibike_s_000362.png.\n",
      "Successfully saved cycle_s_000718.png to folder train/cycle_s_000718.png.\n",
      "Successfully saved velocipede_s_001338.png to folder train/velocipede_s_001338.png.\n",
      "Successfully saved minibike_s_001972.png to folder train/minibike_s_001972.png.\n",
      "Successfully saved ordinary_bicycle_s_000107.png to folder train/ordinary_bicycle_s_000107.png.\n",
      "Successfully saved motorcycle_s_000776.png to folder train/motorcycle_s_000776.png.\n",
      "Successfully saved safety_bike_s_000934.png to folder train/safety_bike_s_000934.png.\n",
      "Successfully saved bicycle_s_002218.png to folder train/bicycle_s_002218.png.\n",
      "Successfully saved safety_bicycle_s_001240.png to folder train/safety_bicycle_s_001240.png.\n",
      "Successfully saved ordinary_bicycle_s_000355.png to folder train/ordinary_bicycle_s_000355.png.\n",
      "Successfully saved motorcycle_s_000454.png to folder train/motorcycle_s_000454.png.\n",
      "Successfully saved motorcycle_s_000245.png to folder train/motorcycle_s_000245.png.\n",
      "Successfully saved minibike_s_000743.png to folder train/minibike_s_000743.png.\n",
      "Successfully saved safety_bike_s_000830.png to folder train/safety_bike_s_000830.png.\n",
      "Successfully saved minibike_s_001573.png to folder train/minibike_s_001573.png.\n",
      "Successfully saved motorbike_s_000141.png to folder train/motorbike_s_000141.png.\n",
      "Successfully saved minibike_s_000652.png to folder train/minibike_s_000652.png.\n",
      "Successfully saved motorbike_s_000058.png to folder train/motorbike_s_000058.png.\n",
      "Successfully saved bicycle_s_000279.png to folder train/bicycle_s_000279.png.\n",
      "Successfully saved safety_bike_s_001608.png to folder train/safety_bike_s_001608.png.\n",
      "Successfully saved bicycle_s_000522.png to folder train/bicycle_s_000522.png.\n",
      "Successfully saved bicycle_s_002569.png to folder train/bicycle_s_002569.png.\n",
      "Successfully saved bicycle_s_000829.png to folder train/bicycle_s_000829.png.\n",
      "Successfully saved velocipede_s_000586.png to folder train/velocipede_s_000586.png.\n",
      "Successfully saved dirt_bike_s_000017.png to folder train/dirt_bike_s_000017.png.\n",
      "Successfully saved cycle_s_001640.png to folder train/cycle_s_001640.png.\n",
      "Successfully saved bicycle_s_000282.png to folder train/bicycle_s_000282.png.\n",
      "Successfully saved motorcycle_s_000713.png to folder train/motorcycle_s_000713.png.\n",
      "Successfully saved bike_s_000035.png to folder train/bike_s_000035.png.\n",
      "Successfully saved bike_s_000299.png to folder train/bike_s_000299.png.\n",
      "Successfully saved minibike_s_002198.png to folder train/minibike_s_002198.png.\n",
      "Successfully saved safety_bicycle_s_001253.png to folder train/safety_bicycle_s_001253.png.\n",
      "Successfully saved minibike_s_000110.png to folder train/minibike_s_000110.png.\n",
      "Successfully saved motorcycle_s_001370.png to folder train/motorcycle_s_001370.png.\n",
      "Successfully saved motorcycle_s_001363.png to folder train/motorcycle_s_001363.png.\n",
      "Successfully saved ordinary_bicycle_s_000060.png to folder train/ordinary_bicycle_s_000060.png.\n",
      "Successfully saved minibike_s_001653.png to folder train/minibike_s_001653.png.\n",
      "Successfully saved bicycle_s_001338.png to folder train/bicycle_s_001338.png.\n",
      "Successfully saved cycle_s_002053.png to folder train/cycle_s_002053.png.\n",
      "Successfully saved velocipede_s_001056.png to folder train/velocipede_s_001056.png.\n",
      "Successfully saved minibike_s_000402.png to folder train/minibike_s_000402.png.\n",
      "Successfully saved motorbike_s_000124.png to folder train/motorbike_s_000124.png.\n",
      "Successfully saved cycle_s_002638.png to folder train/cycle_s_002638.png.\n",
      "Successfully saved velocipede_s_000949.png to folder train/velocipede_s_000949.png.\n",
      "Successfully saved safety_bike_s_000921.png to folder train/safety_bike_s_000921.png.\n",
      "Successfully saved ordinary_bicycle_s_000297.png to folder train/ordinary_bicycle_s_000297.png.\n",
      "Successfully saved motorcycle_s_001580.png to folder train/motorcycle_s_001580.png.\n",
      "Successfully saved velocipede_s_000139.png to folder train/velocipede_s_000139.png.\n",
      "Successfully saved bicycle_s_000561.png to folder train/bicycle_s_000561.png.\n",
      "Successfully saved ordinary_bicycle_s_000161.png to folder train/ordinary_bicycle_s_000161.png.\n",
      "Successfully saved minibike_s_000518.png to folder train/minibike_s_000518.png.\n",
      "Successfully saved motorcycle_s_000167.png to folder train/motorcycle_s_000167.png.\n",
      "Successfully saved cycle_s_000318.png to folder train/cycle_s_000318.png.\n",
      "Successfully saved velocipede_s_001958.png to folder train/velocipede_s_001958.png.\n",
      "Successfully saved ordinary_bicycle_s_000201.png to folder train/ordinary_bicycle_s_000201.png.\n",
      "Successfully saved bike_s_001462.png to folder train/bike_s_001462.png.\n",
      "Successfully saved bicycle_s_000437.png to folder train/bicycle_s_000437.png.\n",
      "Successfully saved velocipede_s_000825.png to folder train/velocipede_s_000825.png.\n",
      "Successfully saved safety_bike_s_000100.png to folder train/safety_bike_s_000100.png.\n",
      "Successfully saved minibike_s_000654.png to folder train/minibike_s_000654.png.\n",
      "Successfully saved bicycle_s_000021.png to folder train/bicycle_s_000021.png.\n",
      "Successfully saved moped_s_000030.png to folder train/moped_s_000030.png.\n",
      "Successfully saved velocipede_s_001142.png to folder train/velocipede_s_001142.png.\n",
      "Successfully saved motorbike_s_000117.png to folder train/motorbike_s_000117.png.\n",
      "Successfully saved ordinary_bicycle_s_000036.png to folder train/ordinary_bicycle_s_000036.png.\n",
      "Successfully saved motorcycle_s_000787.png to folder train/motorcycle_s_000787.png.\n",
      "Successfully saved bike_s_000516.png to folder train/bike_s_000516.png.\n",
      "Successfully saved motorcycle_s_000256.png to folder train/motorcycle_s_000256.png.\n",
      "Successfully saved bicycle_s_002299.png to folder train/bicycle_s_002299.png.\n",
      "Successfully saved velocipede_s_001883.png to folder train/velocipede_s_001883.png.\n",
      "Successfully saved motorcycle_s_002143.png to folder train/motorcycle_s_002143.png.\n",
      "Successfully saved cycle_s_000899.png to folder train/cycle_s_000899.png.\n",
      "Successfully saved bicycle_s_002436.png to folder train/bicycle_s_002436.png.\n",
      "Successfully saved safety_bicycle_s_000255.png to folder train/safety_bicycle_s_000255.png.\n",
      "Successfully saved minibike_s_000565.png to folder train/minibike_s_000565.png.\n",
      "Successfully saved bike_s_000034.png to folder train/bike_s_000034.png.\n",
      "Successfully saved motorcycle_s_001064.png to folder train/motorcycle_s_001064.png.\n",
      "Successfully saved minibike_s_001017.png to folder train/minibike_s_001017.png.\n",
      "Successfully saved motorbike_s_000172.png to folder train/motorbike_s_000172.png.\n",
      "Successfully saved motorcycle_s_000923.png to folder train/motorcycle_s_000923.png.\n",
      "Successfully saved cycle_s_000583.png to folder train/cycle_s_000583.png.\n",
      "Successfully saved motorcycle_s_000991.png to folder train/motorcycle_s_000991.png.\n",
      "Successfully saved motorbike_s_000541.png to folder train/motorbike_s_000541.png.\n",
      "Successfully saved motorcycle_s_001303.png to folder train/motorcycle_s_001303.png.\n",
      "Successfully saved safety_bike_s_000567.png to folder train/safety_bike_s_000567.png.\n",
      "Successfully saved minibike_s_000350.png to folder train/minibike_s_000350.png.\n",
      "Successfully saved motorcycle_s_001905.png to folder train/motorcycle_s_001905.png.\n",
      "Successfully saved bicycle_s_001247.png to folder train/bicycle_s_001247.png.\n",
      "Successfully saved bicycle_s_001693.png to folder train/bicycle_s_001693.png.\n",
      "Successfully saved bicycle_s_002258.png to folder train/bicycle_s_002258.png.\n",
      "Successfully saved safety_bike_s_001552.png to folder train/safety_bike_s_001552.png.\n",
      "Successfully saved cycle_s_002651.png to folder train/cycle_s_002651.png.\n",
      "Successfully saved bicycle_s_000759.png to folder train/bicycle_s_000759.png.\n",
      "Successfully saved motorcycle_s_001176.png to folder train/motorcycle_s_001176.png.\n",
      "Successfully saved ordinary_bicycle_s_000432.png to folder train/ordinary_bicycle_s_000432.png.\n",
      "Successfully saved minibike_s_000526.png to folder train/minibike_s_000526.png.\n",
      "Successfully saved safety_bicycle_s_001049.png to folder train/safety_bicycle_s_001049.png.\n",
      "Successfully saved minibike_s_001827.png to folder train/minibike_s_001827.png.\n",
      "Successfully saved bike_s_001072.png to folder train/bike_s_001072.png.\n",
      "Successfully saved bike_s_001876.png to folder train/bike_s_001876.png.\n",
      "Successfully saved minibike_s_001511.png to folder train/minibike_s_001511.png.\n",
      "Successfully saved bike_s_000237.png to folder train/bike_s_000237.png.\n",
      "Successfully saved motorbike_s_000254.png to folder train/motorbike_s_000254.png.\n",
      "Successfully saved bicycle_s_000180.png to folder train/bicycle_s_000180.png.\n",
      "Successfully saved safety_bicycle_s_000359.png to folder train/safety_bicycle_s_000359.png.\n",
      "Successfully saved motorcycle_s_000220.png to folder train/motorcycle_s_000220.png.\n",
      "Successfully saved motorcycle_s_002225.png to folder train/motorcycle_s_002225.png.\n",
      "Successfully saved minibike_s_001185.png to folder train/minibike_s_001185.png.\n",
      "Successfully saved motorcycle_s_000025.png to folder train/motorcycle_s_000025.png.\n",
      "Successfully saved safety_bike_s_000058.png to folder train/safety_bike_s_000058.png.\n",
      "Successfully saved dirt_bike_s_000030.png to folder train/dirt_bike_s_000030.png.\n",
      "Successfully saved minibike_s_002009.png to folder train/minibike_s_002009.png.\n",
      "Successfully saved bicycle_s_000753.png to folder train/bicycle_s_000753.png.\n",
      "Successfully saved safety_bicycle_s_001320.png to folder train/safety_bicycle_s_001320.png.\n",
      "Successfully saved motorcycle_s_001287.png to folder train/motorcycle_s_001287.png.\n",
      "Successfully saved ordinary_bicycle_s_000451.png to folder train/ordinary_bicycle_s_000451.png.\n",
      "Successfully saved minibike_s_000885.png to folder train/minibike_s_000885.png.\n",
      "Successfully saved motorcycle_s_000418.png to folder train/motorcycle_s_000418.png.\n",
      "Successfully saved velocipede_s_000282.png to folder train/velocipede_s_000282.png.\n",
      "Successfully saved cycle_s_001474.png to folder train/cycle_s_001474.png.\n",
      "Successfully saved bicycle_s_000667.png to folder train/bicycle_s_000667.png.\n",
      "Successfully saved minibike_s_001546.png to folder train/minibike_s_001546.png.\n",
      "Successfully saved bicycle_s_001452.png to folder train/bicycle_s_001452.png.\n",
      "Successfully saved motorcycle_s_000978.png to folder train/motorcycle_s_000978.png.\n",
      "Successfully saved motorcycle_s_000447.png to folder train/motorcycle_s_000447.png.\n",
      "Successfully saved minibike_s_000146.png to folder train/minibike_s_000146.png.\n",
      "Successfully saved motorcycle_s_000300.png to folder train/motorcycle_s_000300.png.\n",
      "Successfully saved safety_bicycle_s_001381.png to folder train/safety_bicycle_s_001381.png.\n",
      "Successfully saved bike_s_001519.png to folder train/bike_s_001519.png.\n",
      "Successfully saved minibike_s_001689.png to folder train/minibike_s_001689.png.\n",
      "Successfully saved bike_s_001320.png to folder train/bike_s_001320.png.\n",
      "Successfully saved bike_s_000722.png to folder train/bike_s_000722.png.\n",
      "Successfully saved motorcycle_s_000508.png to folder train/motorcycle_s_000508.png.\n",
      "Successfully saved motorcycle_s_002105.png to folder train/motorcycle_s_002105.png.\n",
      "Successfully saved minibike_s_000165.png to folder train/minibike_s_000165.png.\n",
      "Successfully saved cycle_s_002703.png to folder train/cycle_s_002703.png.\n",
      "Successfully saved ordinary_bicycle_s_000216.png to folder train/ordinary_bicycle_s_000216.png.\n",
      "Successfully saved motorcycle_s_001610.png to folder train/motorcycle_s_001610.png.\n",
      "Successfully saved cycle_s_002779.png to folder train/cycle_s_002779.png.\n",
      "Successfully saved bicycle_s_000668.png to folder train/bicycle_s_000668.png.\n",
      "Successfully saved minibike_s_002186.png to folder train/minibike_s_002186.png.\n",
      "Successfully saved bike_s_002118.png to folder train/bike_s_002118.png.\n",
      "Successfully saved safety_bike_s_001472.png to folder train/safety_bike_s_001472.png.\n",
      "Successfully saved ordinary_bicycle_s_000016.png to folder train/ordinary_bicycle_s_000016.png.\n",
      "Successfully saved motorcycle_s_001384.png to folder train/motorcycle_s_001384.png.\n",
      "Successfully saved motorcycle_s_000431.png to folder train/motorcycle_s_000431.png.\n",
      "Successfully saved bike_s_000302.png to folder train/bike_s_000302.png.\n",
      "Successfully saved velocipede_s_000659.png to folder train/velocipede_s_000659.png.\n",
      "Successfully saved motorcycle_s_001585.png to folder train/motorcycle_s_001585.png.\n",
      "Successfully saved bike_s_001027.png to folder train/bike_s_001027.png.\n",
      "Successfully saved bicycle_s_000396.png to folder train/bicycle_s_000396.png.\n",
      "Successfully saved minibike_s_000149.png to folder train/minibike_s_000149.png.\n",
      "Successfully saved velocipede_s_000702.png to folder train/velocipede_s_000702.png.\n",
      "Successfully saved ordinary_bicycle_s_000155.png to folder train/ordinary_bicycle_s_000155.png.\n",
      "Successfully saved cycle_s_003122.png to folder train/cycle_s_003122.png.\n",
      "Successfully saved motorbike_s_000021.png to folder train/motorbike_s_000021.png.\n",
      "Successfully saved safety_bicycle_s_001026.png to folder train/safety_bicycle_s_001026.png.\n",
      "Successfully saved bike_s_001375.png to folder train/bike_s_001375.png.\n",
      "Successfully saved safety_bicycle_s_000533.png to folder train/safety_bicycle_s_000533.png.\n",
      "Successfully saved bike_s_000021.png to folder train/bike_s_000021.png.\n",
      "Successfully saved minibike_s_000968.png to folder train/minibike_s_000968.png.\n",
      "Successfully saved minibike_s_001873.png to folder train/minibike_s_001873.png.\n",
      "Successfully saved bicycle_s_000463.png to folder train/bicycle_s_000463.png.\n",
      "Successfully saved bike_s_001839.png to folder train/bike_s_001839.png.\n",
      "Successfully saved minibike_s_000340.png to folder train/minibike_s_000340.png.\n",
      "Successfully saved minibike_s_000831.png to folder train/minibike_s_000831.png.\n",
      "Successfully saved motorcycle_s_001273.png to folder train/motorcycle_s_001273.png.\n",
      "Successfully saved motorcycle_s_000807.png to folder train/motorcycle_s_000807.png.\n",
      "Successfully saved bicycle_s_000156.png to folder train/bicycle_s_000156.png.\n",
      "Successfully saved motorcycle_s_000732.png to folder train/motorcycle_s_000732.png.\n",
      "Successfully saved dirt_bike_s_000119.png to folder train/dirt_bike_s_000119.png.\n",
      "Successfully saved bicycle_s_000231.png to folder train/bicycle_s_000231.png.\n",
      "Successfully saved ordinary_bicycle_s_000056.png to folder train/ordinary_bicycle_s_000056.png.\n",
      "Successfully saved ordinary_bicycle_s_000022.png to folder train/ordinary_bicycle_s_000022.png.\n",
      "Successfully saved safety_bicycle_s_001243.png to folder train/safety_bicycle_s_001243.png.\n",
      "Successfully saved motorcycle_s_000894.png to folder train/motorcycle_s_000894.png.\n",
      "Successfully saved motorcycle_s_001397.png to folder train/motorcycle_s_001397.png.\n",
      "Successfully saved motorcycle_s_000542.png to folder train/motorcycle_s_000542.png.\n",
      "Successfully saved motorcycle_s_000834.png to folder train/motorcycle_s_000834.png.\n",
      "Successfully saved motorcycle_s_001238.png to folder train/motorcycle_s_001238.png.\n",
      "Successfully saved minibike_s_000567.png to folder train/minibike_s_000567.png.\n",
      "Successfully saved minibike_s_001512.png to folder train/minibike_s_001512.png.\n",
      "Successfully saved bike_s_001945.png to folder train/bike_s_001945.png.\n",
      "Successfully saved cycle_s_003148.png to folder train/cycle_s_003148.png.\n",
      "Successfully saved safety_bicycle_s_000019.png to folder train/safety_bicycle_s_000019.png.\n",
      "Successfully saved safety_bicycle_s_000167.png to folder train/safety_bicycle_s_000167.png.\n",
      "Successfully saved motorcycle_s_001407.png to folder train/motorcycle_s_001407.png.\n",
      "Successfully saved velocipede_s_001225.png to folder train/velocipede_s_001225.png.\n",
      "Successfully saved moped_s_000168.png to folder train/moped_s_000168.png.\n",
      "Successfully saved bicycle_s_000071.png to folder train/bicycle_s_000071.png.\n",
      "Successfully saved minibike_s_002030.png to folder train/minibike_s_002030.png.\n",
      "Successfully saved minibike_s_001294.png to folder train/minibike_s_001294.png.\n",
      "Successfully saved minibike_s_001767.png to folder train/minibike_s_001767.png.\n",
      "Successfully saved safety_bike_s_000984.png to folder train/safety_bike_s_000984.png.\n",
      "Successfully saved bicycle_s_000782.png to folder train/bicycle_s_000782.png.\n",
      "Successfully saved ordinary_bicycle_s_000095.png to folder train/ordinary_bicycle_s_000095.png.\n",
      "Successfully saved cycle_s_001286.png to folder train/cycle_s_001286.png.\n",
      "Successfully saved bike_s_001116.png to folder train/bike_s_001116.png.\n",
      "Successfully saved motorcycle_s_002065.png to folder train/motorcycle_s_002065.png.\n",
      "Successfully saved ordinary_bicycle_s_000433.png to folder train/ordinary_bicycle_s_000433.png.\n",
      "Successfully saved motorcycle_s_002221.png to folder train/motorcycle_s_002221.png.\n",
      "Successfully saved safety_bike_s_000054.png to folder train/safety_bike_s_000054.png.\n",
      "Successfully saved bicycle_s_001174.png to folder train/bicycle_s_001174.png.\n",
      "Successfully saved bicycle_s_002222.png to folder train/bicycle_s_002222.png.\n",
      "Successfully saved velocipede_s_001361.png to folder train/velocipede_s_001361.png.\n",
      "Successfully saved safety_bike_s_001012.png to folder train/safety_bike_s_001012.png.\n",
      "Successfully saved minibike_s_000244.png to folder train/minibike_s_000244.png.\n",
      "Successfully saved bicycle_s_000861.png to folder train/bicycle_s_000861.png.\n",
      "Successfully saved minibike_s_000566.png to folder train/minibike_s_000566.png.\n",
      "Successfully saved motorcycle_s_001244.png to folder train/motorcycle_s_001244.png.\n",
      "Successfully saved bicycle_s_002715.png to folder train/bicycle_s_002715.png.\n",
      "Successfully saved safety_bike_s_000963.png to folder train/safety_bike_s_000963.png.\n",
      "Successfully saved motorcycle_s_001765.png to folder train/motorcycle_s_001765.png.\n",
      "Successfully saved velocipede_s_000021.png to folder train/velocipede_s_000021.png.\n",
      "Successfully saved motorcycle_s_000580.png to folder train/motorcycle_s_000580.png.\n",
      "Successfully saved bike_s_001226.png to folder train/bike_s_001226.png.\n",
      "Successfully saved motorcycle_s_000440.png to folder train/motorcycle_s_000440.png.\n",
      "Successfully saved motorcycle_s_000144.png to folder train/motorcycle_s_000144.png.\n",
      "Successfully saved cycle_s_002844.png to folder train/cycle_s_002844.png.\n",
      "Successfully saved minibike_s_000485.png to folder train/minibike_s_000485.png.\n",
      "Successfully saved ordinary_bicycle_s_000426.png to folder train/ordinary_bicycle_s_000426.png.\n",
      "Successfully saved minibike_s_002196.png to folder train/minibike_s_002196.png.\n",
      "Successfully saved bike_s_001897.png to folder train/bike_s_001897.png.\n",
      "Successfully saved cycle_s_001374.png to folder train/cycle_s_001374.png.\n",
      "Successfully saved motorcycle_s_000585.png to folder train/motorcycle_s_000585.png.\n",
      "Successfully saved bike_s_000026.png to folder train/bike_s_000026.png.\n",
      "Successfully saved bicycle_s_000235.png to folder train/bicycle_s_000235.png.\n",
      "Successfully saved minibike_s_000108.png to folder train/minibike_s_000108.png.\n",
      "Successfully saved motorcycle_s_000072.png to folder train/motorcycle_s_000072.png.\n",
      "Successfully saved motorcycle_s_002234.png to folder train/motorcycle_s_002234.png.\n",
      "Successfully saved bicycle_s_000785.png to folder train/bicycle_s_000785.png.\n",
      "Successfully saved motorcycle_s_000669.png to folder train/motorcycle_s_000669.png.\n",
      "Successfully saved bicycle_s_000051.png to folder train/bicycle_s_000051.png.\n",
      "Successfully saved bike_s_001093.png to folder train/bike_s_001093.png.\n",
      "Successfully saved velocipede_s_000049.png to folder train/velocipede_s_000049.png.\n",
      "Successfully saved bike_s_000023.png to folder train/bike_s_000023.png.\n",
      "Successfully saved motorcycle_s_001696.png to folder train/motorcycle_s_001696.png.\n",
      "Successfully saved safety_bicycle_s_001113.png to folder train/safety_bicycle_s_001113.png.\n",
      "Successfully saved motorcycle_s_000451.png to folder train/motorcycle_s_000451.png.\n",
      "Successfully saved velocipede_s_000485.png to folder train/velocipede_s_000485.png.\n",
      "Successfully saved motorcycle_s_001753.png to folder train/motorcycle_s_001753.png.\n",
      "Successfully saved cycle_s_001439.png to folder train/cycle_s_001439.png.\n",
      "Successfully saved minibike_s_002038.png to folder train/minibike_s_002038.png.\n",
      "Successfully saved bicycle_s_000147.png to folder train/bicycle_s_000147.png.\n",
      "Successfully saved cycle_s_002399.png to folder train/cycle_s_002399.png.\n",
      "Successfully saved motorcycle_s_001565.png to folder train/motorcycle_s_001565.png.\n",
      "Successfully saved bicycle_s_000159.png to folder train/bicycle_s_000159.png.\n",
      "Successfully saved minibike_s_000035.png to folder train/minibike_s_000035.png.\n",
      "Successfully saved safety_bicycle_s_000239.png to folder train/safety_bicycle_s_000239.png.\n",
      "Successfully saved safety_bike_s_001640.png to folder train/safety_bike_s_001640.png.\n",
      "Successfully saved minibike_s_000698.png to folder train/minibike_s_000698.png.\n",
      "Successfully saved minibike_s_000967.png to folder train/minibike_s_000967.png.\n",
      "Successfully saved safety_bike_s_000381.png to folder train/safety_bike_s_000381.png.\n",
      "Successfully saved motorcycle_s_000216.png to folder train/motorcycle_s_000216.png.\n",
      "Successfully saved bike_s_000855.png to folder train/bike_s_000855.png.\n",
      "Successfully saved motorcycle_s_001715.png to folder train/motorcycle_s_001715.png.\n",
      "Successfully saved motorcycle_s_002275.png to folder train/motorcycle_s_002275.png.\n",
      "Successfully saved safety_bike_s_001338.png to folder train/safety_bike_s_001338.png.\n",
      "Successfully saved safety_bicycle_s_001705.png to folder train/safety_bicycle_s_001705.png.\n",
      "Successfully saved minibike_s_000855.png to folder train/minibike_s_000855.png.\n",
      "Successfully saved bicycle_s_002132.png to folder train/bicycle_s_002132.png.\n",
      "Successfully saved minibike_s_000218.png to folder train/minibike_s_000218.png.\n",
      "Successfully saved safety_bike_s_000178.png to folder train/safety_bike_s_000178.png.\n",
      "Successfully saved motorcycle_s_001584.png to folder train/motorcycle_s_001584.png.\n",
      "Successfully saved safety_bicycle_s_000162.png to folder train/safety_bicycle_s_000162.png.\n",
      "Successfully saved motorcycle_s_001392.png to folder train/motorcycle_s_001392.png.\n",
      "Successfully saved bicycle_s_001814.png to folder train/bicycle_s_001814.png.\n",
      "Successfully saved motorbike_s_000362.png to folder train/motorbike_s_000362.png.\n",
      "Successfully saved minibike_s_000519.png to folder train/minibike_s_000519.png.\n",
      "Successfully saved minibike_s_001417.png to folder train/minibike_s_001417.png.\n",
      "Successfully saved safety_bike_s_000277.png to folder train/safety_bike_s_000277.png.\n",
      "Successfully saved cycle_s_002090.png to folder train/cycle_s_002090.png.\n",
      "Successfully saved bicycle_s_001168.png to folder train/bicycle_s_001168.png.\n",
      "Successfully saved minibike_s_000498.png to folder train/minibike_s_000498.png.\n",
      "Successfully saved motorcycle_s_001400.png to folder train/motorcycle_s_001400.png.\n",
      "Successfully saved motorcycle_s_000320.png to folder train/motorcycle_s_000320.png.\n",
      "Successfully saved minibike_s_001734.png to folder train/minibike_s_001734.png.\n",
      "Successfully saved cycle_s_002659.png to folder train/cycle_s_002659.png.\n",
      "Successfully saved bike_s_000990.png to folder train/bike_s_000990.png.\n",
      "Successfully saved velocipede_s_000358.png to folder train/velocipede_s_000358.png.\n",
      "Successfully saved safety_bicycle_s_000568.png to folder train/safety_bicycle_s_000568.png.\n",
      "Successfully saved motorcycle_s_000312.png to folder train/motorcycle_s_000312.png.\n",
      "Successfully saved motorcycle_s_001686.png to folder train/motorcycle_s_001686.png.\n",
      "Successfully saved cycle_s_001472.png to folder train/cycle_s_001472.png.\n",
      "Successfully saved minibike_s_000064.png to folder train/minibike_s_000064.png.\n",
      "Successfully saved safety_bike_s_001784.png to folder train/safety_bike_s_001784.png.\n",
      "Successfully saved motorcycle_s_002236.png to folder train/motorcycle_s_002236.png.\n",
      "Successfully saved minibike_s_000020.png to folder train/minibike_s_000020.png.\n",
      "Successfully saved motorcycle_s_001182.png to folder train/motorcycle_s_001182.png.\n",
      "Successfully saved bicycle_s_000781.png to folder train/bicycle_s_000781.png.\n",
      "Successfully saved ordinary_bicycle_s_000167.png to folder train/ordinary_bicycle_s_000167.png.\n",
      "Successfully saved cycle_s_002666.png to folder train/cycle_s_002666.png.\n",
      "Successfully saved dirt_bike_s_000134.png to folder train/dirt_bike_s_000134.png.\n",
      "Successfully saved bike_s_000015.png to folder train/bike_s_000015.png.\n",
      "Successfully saved bike_s_001767.png to folder train/bike_s_001767.png.\n",
      "Successfully saved motorcycle_s_001790.png to folder train/motorcycle_s_001790.png.\n",
      "Successfully saved bike_s_001915.png to folder train/bike_s_001915.png.\n",
      "Successfully saved bike_s_001415.png to folder train/bike_s_001415.png.\n",
      "Successfully saved motorbike_s_000578.png to folder train/motorbike_s_000578.png.\n",
      "Successfully saved safety_bicycle_s_000532.png to folder train/safety_bicycle_s_000532.png.\n",
      "Successfully saved ordinary_bicycle_s_000049.png to folder train/ordinary_bicycle_s_000049.png.\n",
      "Successfully saved minibike_s_001639.png to folder train/minibike_s_001639.png.\n",
      "Successfully saved bike_s_000129.png to folder train/bike_s_000129.png.\n",
      "Successfully saved minibike_s_001565.png to folder train/minibike_s_001565.png.\n",
      "Successfully saved bike_s_002203.png to folder train/bike_s_002203.png.\n",
      "Successfully saved minibike_s_000401.png to folder train/minibike_s_000401.png.\n",
      "Successfully saved safety_bicycle_s_001608.png to folder train/safety_bicycle_s_001608.png.\n",
      "Successfully saved velocipede_s_000670.png to folder train/velocipede_s_000670.png.\n",
      "Successfully saved safety_bicycle_s_000207.png to folder train/safety_bicycle_s_000207.png.\n",
      "Successfully saved motorcycle_s_001853.png to folder train/motorcycle_s_001853.png.\n",
      "Successfully saved bike_s_002222.png to folder train/bike_s_002222.png.\n",
      "Successfully saved motorcycle_s_000004.png to folder train/motorcycle_s_000004.png.\n",
      "Successfully saved motorcycle_s_000496.png to folder train/motorcycle_s_000496.png.\n",
      "Successfully saved motorcycle_s_001492.png to folder train/motorcycle_s_001492.png.\n",
      "Successfully saved bike_s_001761.png to folder train/bike_s_001761.png.\n",
      "Successfully saved velocipede_s_001299.png to folder train/velocipede_s_001299.png.\n",
      "Successfully saved bike_s_000040.png to folder train/bike_s_000040.png.\n",
      "Successfully saved cycle_s_003162.png to folder train/cycle_s_003162.png.\n",
      "Successfully saved velocipede_s_001880.png to folder train/velocipede_s_001880.png.\n",
      "Successfully saved bike_s_002139.png to folder train/bike_s_002139.png.\n",
      "Successfully saved bicycle_s_001583.png to folder train/bicycle_s_001583.png.\n",
      "Successfully saved safety_bicycle_s_001706.png to folder train/safety_bicycle_s_001706.png.\n",
      "Successfully saved bike_s_001200.png to folder train/bike_s_001200.png.\n",
      "Successfully saved motorcycle_s_000699.png to folder train/motorcycle_s_000699.png.\n",
      "Successfully saved cycle_s_000492.png to folder train/cycle_s_000492.png.\n",
      "Successfully saved cycle_s_000222.png to folder train/cycle_s_000222.png.\n",
      "Successfully saved motorcycle_s_002162.png to folder train/motorcycle_s_002162.png.\n",
      "Successfully saved minibike_s_000409.png to folder train/minibike_s_000409.png.\n",
      "Successfully saved cycle_s_001735.png to folder train/cycle_s_001735.png.\n",
      "Successfully saved bike_s_000657.png to folder train/bike_s_000657.png.\n",
      "Successfully saved safety_bike_s_000643.png to folder train/safety_bike_s_000643.png.\n",
      "Successfully saved bike_s_000506.png to folder train/bike_s_000506.png.\n",
      "Successfully saved minibike_s_001348.png to folder train/minibike_s_001348.png.\n",
      "Successfully saved moped_s_000065.png to folder train/moped_s_000065.png.\n",
      "Successfully saved bicycle_s_002729.png to folder train/bicycle_s_002729.png.\n",
      "Successfully saved bicycle_s_001687.png to folder train/bicycle_s_001687.png.\n",
      "Successfully saved bicycle_s_002338.png to folder train/bicycle_s_002338.png.\n",
      "Successfully saved motorcycle_s_000459.png to folder train/motorcycle_s_000459.png.\n",
      "Successfully saved bike_s_000593.png to folder train/bike_s_000593.png.\n",
      "Successfully saved velocipede_s_001422.png to folder train/velocipede_s_001422.png.\n",
      "Successfully saved ordinary_bicycle_s_000347.png to folder train/ordinary_bicycle_s_000347.png.\n",
      "Successfully saved minibike_s_001870.png to folder train/minibike_s_001870.png.\n",
      "Successfully saved bicycle_s_001757.png to folder train/bicycle_s_001757.png.\n",
      "Successfully saved motorcycle_s_001016.png to folder train/motorcycle_s_001016.png.\n",
      "Successfully saved motorbike_s_000041.png to folder train/motorbike_s_000041.png.\n",
      "Successfully saved bike_s_000522.png to folder train/bike_s_000522.png.\n",
      "Successfully saved ordinary_bicycle_s_000104.png to folder train/ordinary_bicycle_s_000104.png.\n",
      "Successfully saved bike_s_000397.png to folder train/bike_s_000397.png.\n",
      "Successfully saved minibike_s_000802.png to folder train/minibike_s_000802.png.\n",
      "Successfully saved trail_bike_s_000016.png to folder train/trail_bike_s_000016.png.\n",
      "Successfully saved motorcycle_s_000686.png to folder train/motorcycle_s_000686.png.\n",
      "Successfully saved velocipede_s_001935.png to folder train/velocipede_s_001935.png.\n",
      "Successfully saved safety_bike_s_000165.png to folder train/safety_bike_s_000165.png.\n",
      "Successfully saved motorbike_s_000308.png to folder train/motorbike_s_000308.png.\n",
      "Successfully saved bike_s_000018.png to folder train/bike_s_000018.png.\n",
      "Successfully saved cycle_s_001976.png to folder train/cycle_s_001976.png.\n",
      "Successfully saved minibike_s_000741.png to folder train/minibike_s_000741.png.\n",
      "Successfully saved motorcycle_s_001236.png to folder train/motorcycle_s_001236.png.\n",
      "Successfully saved moped_s_000071.png to folder train/moped_s_000071.png.\n",
      "Successfully saved bike_s_000164.png to folder train/bike_s_000164.png.\n",
      "Successfully saved bike_s_001739.png to folder train/bike_s_001739.png.\n",
      "Successfully saved bicycle_s_001388.png to folder train/bicycle_s_001388.png.\n",
      "Successfully saved bicycle_s_000149.png to folder train/bicycle_s_000149.png.\n",
      "Successfully saved motorcycle_s_002197.png to folder train/motorcycle_s_002197.png.\n",
      "Successfully saved motorcycle_s_000277.png to folder train/motorcycle_s_000277.png.\n",
      "Successfully saved motorcycle_s_001690.png to folder train/motorcycle_s_001690.png.\n",
      "Successfully saved minibike_s_002048.png to folder train/minibike_s_002048.png.\n",
      "Successfully saved motorcycle_s_000253.png to folder train/motorcycle_s_000253.png.\n",
      "Successfully saved safety_bike_s_001010.png to folder train/safety_bike_s_001010.png.\n",
      "Successfully saved motorcycle_s_000785.png to folder train/motorcycle_s_000785.png.\n",
      "Successfully saved ordinary_bicycle_s_000387.png to folder train/ordinary_bicycle_s_000387.png.\n",
      "Successfully saved cycle_s_001309.png to folder train/cycle_s_001309.png.\n",
      "Successfully saved motorcycle_s_002316.png to folder train/motorcycle_s_002316.png.\n",
      "Successfully saved motorcycle_s_000340.png to folder train/motorcycle_s_000340.png.\n",
      "Successfully saved moped_s_000124.png to folder train/moped_s_000124.png.\n",
      "Successfully saved minibike_s_001917.png to folder train/minibike_s_001917.png.\n",
      "Successfully saved bicycle_s_000951.png to folder train/bicycle_s_000951.png.\n",
      "Successfully saved motorcycle_s_000002.png to folder train/motorcycle_s_000002.png.\n",
      "Successfully saved motorcycle_s_001063.png to folder train/motorcycle_s_001063.png.\n",
      "Successfully saved motorcycle_s_001641.png to folder train/motorcycle_s_001641.png.\n",
      "Successfully saved bicycle_s_002129.png to folder train/bicycle_s_002129.png.\n",
      "Successfully saved minibike_s_002182.png to folder train/minibike_s_002182.png.\n",
      "Successfully saved minibike_s_000427.png to folder train/minibike_s_000427.png.\n",
      "Successfully saved motorcycle_s_001438.png to folder train/motorcycle_s_001438.png.\n",
      "Successfully saved motorcycle_s_000126.png to folder train/motorcycle_s_000126.png.\n",
      "Successfully saved minibike_s_001865.png to folder train/minibike_s_001865.png.\n",
      "Successfully saved motorcycle_s_000456.png to folder train/motorcycle_s_000456.png.\n",
      "Successfully saved motorcycle_s_000252.png to folder train/motorcycle_s_000252.png.\n",
      "Successfully saved bicycle_s_000043.png to folder train/bicycle_s_000043.png.\n",
      "Successfully saved bicycle_s_001928.png to folder train/bicycle_s_001928.png.\n",
      "Successfully saved safety_bike_s_000173.png to folder train/safety_bike_s_000173.png.\n",
      "Successfully saved motorcycle_s_000696.png to folder train/motorcycle_s_000696.png.\n",
      "Successfully saved motorcycle_s_001413.png to folder train/motorcycle_s_001413.png.\n",
      "Successfully saved safety_bicycle_s_001303.png to folder train/safety_bicycle_s_001303.png.\n",
      "Successfully saved motorcycle_s_001220.png to folder train/motorcycle_s_001220.png.\n",
      "Successfully saved safety_bicycle_s_000079.png to folder train/safety_bicycle_s_000079.png.\n",
      "Successfully saved bicycle_s_001681.png to folder train/bicycle_s_001681.png.\n",
      "Successfully saved cycle_s_002015.png to folder train/cycle_s_002015.png.\n",
      "Successfully saved cycle_s_002746.png to folder train/cycle_s_002746.png.\n",
      "Successfully saved minibike_s_001250.png to folder train/minibike_s_001250.png.\n",
      "Successfully saved safety_bicycle_s_000303.png to folder train/safety_bicycle_s_000303.png.\n",
      "Successfully saved bike_s_000392.png to folder train/bike_s_000392.png.\n",
      "Successfully saved minibike_s_000408.png to folder train/minibike_s_000408.png.\n",
      "Successfully saved safety_bike_s_001355.png to folder train/safety_bike_s_001355.png.\n",
      "Successfully saved motorcycle_s_000076.png to folder train/motorcycle_s_000076.png.\n",
      "Successfully saved safety_bicycle_s_000322.png to folder train/safety_bicycle_s_000322.png.\n",
      "Successfully saved bike_s_002090.png to folder train/bike_s_002090.png.\n",
      "Successfully saved motorcycle_s_000796.png to folder train/motorcycle_s_000796.png.\n",
      "Successfully saved motorbike_s_000225.png to folder train/motorbike_s_000225.png.\n",
      "Successfully saved motorcycle_s_000050.png to folder train/motorcycle_s_000050.png.\n",
      "Successfully saved bike_s_000474.png to folder train/bike_s_000474.png.\n",
      "Successfully saved motorcycle_s_000127.png to folder train/motorcycle_s_000127.png.\n",
      "Successfully saved motorcycle_s_002193.png to folder train/motorcycle_s_002193.png.\n",
      "Successfully saved bicycle_s_002374.png to folder train/bicycle_s_002374.png.\n",
      "Successfully saved minibike_s_001558.png to folder train/minibike_s_001558.png.\n",
      "Successfully saved velocipede_s_001279.png to folder train/velocipede_s_001279.png.\n",
      "Successfully saved minibike_s_001496.png to folder train/minibike_s_001496.png.\n",
      "Successfully saved bicycle_s_001411.png to folder train/bicycle_s_001411.png.\n",
      "Successfully saved minibike_s_001072.png to folder train/minibike_s_001072.png.\n",
      "Successfully saved bicycle_s_001688.png to folder train/bicycle_s_001688.png.\n",
      "Successfully saved safety_bike_s_000160.png to folder train/safety_bike_s_000160.png.\n",
      "Successfully saved minibike_s_000820.png to folder train/minibike_s_000820.png.\n",
      "Successfully saved ordinary_bicycle_s_000298.png to folder train/ordinary_bicycle_s_000298.png.\n",
      "Successfully saved bicycle_s_000314.png to folder train/bicycle_s_000314.png.\n",
      "Successfully saved motorcycle_s_001862.png to folder train/motorcycle_s_001862.png.\n",
      "Successfully saved minibike_s_001575.png to folder train/minibike_s_001575.png.\n",
      "Successfully saved minibike_s_000709.png to folder train/minibike_s_000709.png.\n",
      "Successfully saved velocipede_s_000931.png to folder train/velocipede_s_000931.png.\n",
      "Successfully saved safety_bike_s_000104.png to folder train/safety_bike_s_000104.png.\n",
      "Successfully saved motorcycle_s_001197.png to folder train/motorcycle_s_001197.png.\n",
      "Successfully saved motorbike_s_000115.png to folder train/motorbike_s_000115.png.\n",
      "Successfully saved bicycle_s_002728.png to folder train/bicycle_s_002728.png.\n",
      "Successfully saved safety_bike_s_001474.png to folder train/safety_bike_s_001474.png.\n",
      "Successfully saved bike_s_002024.png to folder train/bike_s_002024.png.\n",
      "Successfully saved cycle_s_000666.png to folder train/cycle_s_000666.png.\n",
      "Successfully saved motorcycle_s_000617.png to folder train/motorcycle_s_000617.png.\n",
      "Successfully saved safety_bike_s_000461.png to folder train/safety_bike_s_000461.png.\n",
      "Successfully saved bike_s_001572.png to folder train/bike_s_001572.png.\n",
      "Successfully saved motorcycle_s_000003.png to folder train/motorcycle_s_000003.png.\n",
      "Successfully saved bicycle_s_002029.png to folder train/bicycle_s_002029.png.\n",
      "Successfully saved minibike_s_000701.png to folder train/minibike_s_000701.png.\n",
      "Successfully saved motorbike_s_000009.png to folder train/motorbike_s_000009.png.\n",
      "Successfully saved minibike_s_001789.png to folder train/minibike_s_001789.png.\n",
      "Successfully saved motorcycle_s_000417.png to folder train/motorcycle_s_000417.png.\n",
      "Successfully saved motorcycle_s_000246.png to folder train/motorcycle_s_000246.png.\n",
      "Successfully saved minibike_s_000886.png to folder train/minibike_s_000886.png.\n",
      "Successfully saved motorcycle_s_000154.png to folder train/motorcycle_s_000154.png.\n",
      "Successfully saved minibike_s_001169.png to folder train/minibike_s_001169.png.\n",
      "Successfully saved cycle_s_002904.png to folder train/cycle_s_002904.png.\n",
      "Successfully saved motorcycle_s_000772.png to folder train/motorcycle_s_000772.png.\n",
      "Successfully saved velocipede_s_001158.png to folder train/velocipede_s_001158.png.\n",
      "Successfully saved bicycle_s_002521.png to folder train/bicycle_s_002521.png.\n",
      "Successfully saved minibike_s_001179.png to folder train/minibike_s_001179.png.\n",
      "Successfully saved bicycle_s_001111.png to folder train/bicycle_s_001111.png.\n",
      "Successfully saved bicycle_s_001205.png to folder train/bicycle_s_001205.png.\n",
      "Successfully saved bicycle_s_000435.png to folder train/bicycle_s_000435.png.\n",
      "Successfully saved minibike_s_001771.png to folder train/minibike_s_001771.png.\n",
      "Successfully saved motorcycle_s_000545.png to folder train/motorcycle_s_000545.png.\n",
      "Successfully saved moped_s_000004.png to folder train/moped_s_000004.png.\n",
      "Successfully saved velocipede_s_001358.png to folder train/velocipede_s_001358.png.\n",
      "Successfully saved motorcycle_s_001402.png to folder train/motorcycle_s_001402.png.\n",
      "Successfully saved minibike_s_001836.png to folder train/minibike_s_001836.png.\n",
      "Successfully saved motorcycle_s_002067.png to folder train/motorcycle_s_002067.png.\n",
      "Successfully saved bicycle_s_002012.png to folder train/bicycle_s_002012.png.\n",
      "Successfully saved motorcycle_s_000517.png to folder train/motorcycle_s_000517.png.\n",
      "Successfully saved minibike_s_001345.png to folder train/minibike_s_001345.png.\n",
      "Successfully saved minibike_s_000522.png to folder train/minibike_s_000522.png.\n",
      "Successfully saved motorcycle_s_000700.png to folder train/motorcycle_s_000700.png.\n",
      "Successfully saved motorcycle_s_001183.png to folder train/motorcycle_s_001183.png.\n",
      "Successfully saved velocipede_s_001874.png to folder train/velocipede_s_001874.png.\n",
      "Successfully saved cycle_s_003006.png to folder train/cycle_s_003006.png.\n",
      "Successfully saved motorcycle_s_000170.png to folder train/motorcycle_s_000170.png.\n",
      "Successfully saved ordinary_bicycle_s_000419.png to folder train/ordinary_bicycle_s_000419.png.\n",
      "Successfully saved motorcycle_s_000284.png to folder train/motorcycle_s_000284.png.\n",
      "Successfully saved motorbike_s_000035.png to folder train/motorbike_s_000035.png.\n",
      "Successfully saved dirt_bike_s_000005.png to folder train/dirt_bike_s_000005.png.\n",
      "Successfully saved motorcycle_s_001784.png to folder train/motorcycle_s_001784.png.\n",
      "Successfully saved motorcycle_s_001848.png to folder train/motorcycle_s_001848.png.\n",
      "Successfully saved minibike_s_002046.png to folder train/minibike_s_002046.png.\n",
      "Successfully saved motorcycle_s_002317.png to folder train/motorcycle_s_002317.png.\n",
      "Successfully saved bike_s_001980.png to folder train/bike_s_001980.png.\n",
      "Successfully saved safety_bike_s_000950.png to folder train/safety_bike_s_000950.png.\n",
      "Successfully saved bicycle_s_002237.png to folder train/bicycle_s_002237.png.\n",
      "Successfully saved cycle_s_000042.png to folder train/cycle_s_000042.png.\n",
      "Successfully saved bike_s_000628.png to folder train/bike_s_000628.png.\n",
      "Successfully saved bike_s_000005.png to folder train/bike_s_000005.png.\n",
      "Successfully saved ordinary_bicycle_s_000324.png to folder train/ordinary_bicycle_s_000324.png.\n",
      "Successfully saved motorcycle_s_000346.png to folder train/motorcycle_s_000346.png.\n",
      "Successfully saved safety_bicycle_s_000789.png to folder train/safety_bicycle_s_000789.png.\n",
      "Successfully saved ordinary_bicycle_s_000011.png to folder train/ordinary_bicycle_s_000011.png.\n",
      "Successfully saved minibike_s_001157.png to folder train/minibike_s_001157.png.\n",
      "Successfully saved bike_s_000051.png to folder train/bike_s_000051.png.\n",
      "Successfully saved motorcycle_s_000919.png to folder train/motorcycle_s_000919.png.\n",
      "Successfully saved velocipede_s_001514.png to folder train/velocipede_s_001514.png.\n",
      "Successfully saved bike_s_001592.png to folder train/bike_s_001592.png.\n",
      "Successfully saved ordinary_bicycle_s_000066.png to folder train/ordinary_bicycle_s_000066.png.\n",
      "Successfully saved bicycle_s_001470.png to folder train/bicycle_s_001470.png.\n",
      "Successfully saved motorcycle_s_001695.png to folder train/motorcycle_s_001695.png.\n",
      "Successfully saved motorcycle_s_001215.png to folder train/motorcycle_s_001215.png.\n",
      "Successfully saved bike_s_002098.png to folder train/bike_s_002098.png.\n",
      "Successfully saved bike_s_001928.png to folder train/bike_s_001928.png.\n",
      "Successfully saved bicycle_s_001748.png to folder train/bicycle_s_001748.png.\n",
      "Successfully saved motorcycle_s_001520.png to folder train/motorcycle_s_001520.png.\n",
      "Successfully saved safety_bicycle_s_000728.png to folder train/safety_bicycle_s_000728.png.\n",
      "Successfully saved motorcycle_s_000925.png to folder train/motorcycle_s_000925.png.\n",
      "Successfully saved safety_bike_s_000914.png to folder train/safety_bike_s_000914.png.\n",
      "Successfully saved safety_bike_s_001659.png to folder train/safety_bike_s_001659.png.\n",
      "Successfully saved safety_bike_s_000155.png to folder train/safety_bike_s_000155.png.\n",
      "Successfully saved bicycle_s_002153.png to folder train/bicycle_s_002153.png.\n",
      "Successfully saved safety_bike_s_001715.png to folder train/safety_bike_s_001715.png.\n",
      "Successfully saved bicycle_s_000035.png to folder train/bicycle_s_000035.png.\n",
      "Successfully saved bicycle_s_002669.png to folder train/bicycle_s_002669.png.\n",
      "Successfully saved bike_s_002277.png to folder train/bike_s_002277.png.\n",
      "Successfully saved ordinary_bicycle_s_000265.png to folder train/ordinary_bicycle_s_000265.png.\n",
      "Successfully saved bicycle_s_000369.png to folder train/bicycle_s_000369.png.\n",
      "Successfully saved velocipede_s_001298.png to folder train/velocipede_s_001298.png.\n",
      "Successfully saved minibike_s_001944.png to folder train/minibike_s_001944.png.\n",
      "Successfully saved motorcycle_s_002215.png to folder train/motorcycle_s_002215.png.\n",
      "Successfully saved ordinary_bicycle_s_000008.png to folder train/ordinary_bicycle_s_000008.png.\n",
      "Successfully saved bicycle_s_000491.png to folder train/bicycle_s_000491.png.\n",
      "Successfully saved motorcycle_s_000146.png to folder train/motorcycle_s_000146.png.\n",
      "Successfully saved minibike_s_001261.png to folder train/minibike_s_001261.png.\n",
      "Successfully saved safety_bicycle_s_000140.png to folder train/safety_bicycle_s_000140.png.\n",
      "Successfully saved motorcycle_s_000407.png to folder train/motorcycle_s_000407.png.\n",
      "Successfully saved minibike_s_000099.png to folder train/minibike_s_000099.png.\n",
      "Successfully saved motorcycle_s_001767.png to folder train/motorcycle_s_001767.png.\n",
      "Successfully saved safety_bike_s_000263.png to folder train/safety_bike_s_000263.png.\n",
      "Successfully saved motorcycle_s_001205.png to folder train/motorcycle_s_001205.png.\n",
      "Successfully saved motorbike_s_000134.png to folder train/motorbike_s_000134.png.\n",
      "Successfully saved safety_bike_s_000245.png to folder train/safety_bike_s_000245.png.\n",
      "Successfully saved motorcycle_s_000422.png to folder train/motorcycle_s_000422.png.\n",
      "Successfully saved minibike_s_000800.png to folder train/minibike_s_000800.png.\n",
      "Successfully saved minibike_s_001829.png to folder train/minibike_s_001829.png.\n",
      "Successfully saved minibike_s_002124.png to folder train/minibike_s_002124.png.\n",
      "Successfully saved bike_s_001414.png to folder train/bike_s_001414.png.\n",
      "Successfully saved motorcycle_s_000423.png to folder train/motorcycle_s_000423.png.\n",
      "Successfully saved motorcycle_s_001435.png to folder train/motorcycle_s_001435.png.\n",
      "Successfully saved motorcycle_s_001237.png to folder train/motorcycle_s_001237.png.\n",
      "Successfully saved motorcycle_s_001878.png to folder train/motorcycle_s_001878.png.\n",
      "Successfully saved cycle_s_002093.png to folder train/cycle_s_002093.png.\n",
      "Successfully saved velocipede_s_000265.png to folder train/velocipede_s_000265.png.\n",
      "Successfully saved bike_s_001847.png to folder train/bike_s_001847.png.\n",
      "Successfully saved cycle_s_000463.png to folder train/cycle_s_000463.png.\n",
      "Successfully saved motorcycle_s_002140.png to folder train/motorcycle_s_002140.png.\n",
      "Successfully saved motorcycle_s_001246.png to folder train/motorcycle_s_001246.png.\n",
      "Successfully saved bike_s_001517.png to folder train/bike_s_001517.png.\n",
      "Successfully saved motorcycle_s_000219.png to folder train/motorcycle_s_000219.png.\n",
      "Successfully saved motorbike_s_000501.png to folder train/motorbike_s_000501.png.\n",
      "Successfully saved velocipede_s_001872.png to folder train/velocipede_s_001872.png.\n",
      "Successfully saved motorcycle_s_001337.png to folder train/motorcycle_s_001337.png.\n",
      "Successfully saved motorcycle_s_000169.png to folder train/motorcycle_s_000169.png.\n",
      "Successfully saved motorcycle_s_000347.png to folder train/motorcycle_s_000347.png.\n",
      "Successfully saved ordinary_bicycle_s_000274.png to folder train/ordinary_bicycle_s_000274.png.\n",
      "Successfully saved safety_bicycle_s_000196.png to folder train/safety_bicycle_s_000196.png.\n",
      "Successfully saved bicycle_s_002049.png to folder train/bicycle_s_002049.png.\n",
      "Successfully saved minibike_s_000010.png to folder train/minibike_s_000010.png.\n",
      "Successfully saved motorcycle_s_002121.png to folder train/motorcycle_s_002121.png.\n",
      "Successfully saved motorbike_s_000060.png to folder train/motorbike_s_000060.png.\n",
      "Successfully saved motorbike_s_000534.png to folder train/motorbike_s_000534.png.\n",
      "Successfully saved ordinary_bicycle_s_000286.png to folder train/ordinary_bicycle_s_000286.png.\n",
      "Successfully saved bicycle_s_000723.png to folder train/bicycle_s_000723.png.\n",
      "Successfully saved bicycle_s_000066.png to folder train/bicycle_s_000066.png.\n",
      "Successfully saved motorcycle_s_000741.png to folder train/motorcycle_s_000741.png.\n",
      "Successfully saved minibike_s_001168.png to folder train/minibike_s_001168.png.\n",
      "Successfully saved bike_s_000001.png to folder train/bike_s_000001.png.\n",
      "Successfully saved minibike_s_001491.png to folder train/minibike_s_001491.png.\n",
      "Successfully saved motorcycle_s_000430.png to folder train/motorcycle_s_000430.png.\n",
      "Successfully saved motorcycle_s_000026.png to folder train/motorcycle_s_000026.png.\n",
      "Successfully saved bicycle_s_002448.png to folder train/bicycle_s_002448.png.\n",
      "Successfully saved cycle_s_001412.png to folder train/cycle_s_001412.png.\n",
      "Successfully saved motorcycle_s_000714.png to folder train/motorcycle_s_000714.png.\n",
      "Successfully saved motorcycle_s_000319.png to folder train/motorcycle_s_000319.png.\n",
      "Successfully saved safety_bicycle_s_001254.png to folder train/safety_bicycle_s_001254.png.\n",
      "Successfully saved ordinary_bicycle_s_000205.png to folder train/ordinary_bicycle_s_000205.png.\n",
      "Successfully saved bicycle_s_002400.png to folder train/bicycle_s_002400.png.\n",
      "Successfully saved motorcycle_s_001126.png to folder train/motorcycle_s_001126.png.\n",
      "Successfully saved bike_s_000364.png to folder train/bike_s_000364.png.\n",
      "Successfully saved ordinary_bicycle_s_000096.png to folder train/ordinary_bicycle_s_000096.png.\n",
      "Successfully saved bike_s_000204.png to folder train/bike_s_000204.png.\n",
      "Successfully saved motorcycle_s_001181.png to folder train/motorcycle_s_001181.png.\n",
      "Successfully saved minibike_s_001450.png to folder train/minibike_s_001450.png.\n",
      "Successfully saved minibike_s_000130.png to folder train/minibike_s_000130.png.\n",
      "Successfully saved motorcycle_s_002214.png to folder train/motorcycle_s_002214.png.\n",
      "Successfully saved motorcycle_s_001263.png to folder train/motorcycle_s_001263.png.\n",
      "Successfully saved minibike_s_000568.png to folder train/minibike_s_000568.png.\n",
      "Successfully saved bicycle_s_000774.png to folder train/bicycle_s_000774.png.\n",
      "Successfully saved ordinary_bicycle_s_000125.png to folder train/ordinary_bicycle_s_000125.png.\n",
      "Successfully saved minibike_s_001731.png to folder train/minibike_s_001731.png.\n",
      "Successfully saved bicycle_s_000243.png to folder train/bicycle_s_000243.png.\n",
      "Successfully saved motorcycle_s_000029.png to folder train/motorcycle_s_000029.png.\n",
      "Successfully saved velocipede_s_000023.png to folder train/velocipede_s_000023.png.\n",
      "Successfully saved minibike_s_001701.png to folder train/minibike_s_001701.png.\n",
      "Successfully saved ordinary_bicycle_s_000035.png to folder train/ordinary_bicycle_s_000035.png.\n",
      "Successfully saved safety_bike_s_000244.png to folder train/safety_bike_s_000244.png.\n",
      "Successfully saved bicycle_s_000137.png to folder train/bicycle_s_000137.png.\n",
      "Successfully saved motorbike_s_000331.png to folder train/motorbike_s_000331.png.\n",
      "Successfully saved motorcycle_s_000120.png to folder train/motorcycle_s_000120.png.\n",
      "Successfully saved velocipede_s_000989.png to folder train/velocipede_s_000989.png.\n",
      "Successfully saved moped_s_000135.png to folder train/moped_s_000135.png.\n",
      "Successfully saved bicycle_s_000569.png to folder train/bicycle_s_000569.png.\n",
      "Successfully saved safety_bicycle_s_001699.png to folder train/safety_bicycle_s_001699.png.\n",
      "Successfully saved bicycle_s_000399.png to folder train/bicycle_s_000399.png.\n",
      "Successfully saved bike_s_002033.png to folder train/bike_s_002033.png.\n",
      "Successfully saved ordinary_bicycle_s_000280.png to folder train/ordinary_bicycle_s_000280.png.\n",
      "Successfully saved bike_s_002283.png to folder train/bike_s_002283.png.\n",
      "Successfully saved cycle_s_001413.png to folder train/cycle_s_001413.png.\n",
      "Successfully saved dirt_bike_s_000059.png to folder train/dirt_bike_s_000059.png.\n",
      "Successfully saved motorcycle_s_001699.png to folder train/motorcycle_s_001699.png.\n",
      "Successfully saved motorcycle_s_000687.png to folder train/motorcycle_s_000687.png.\n",
      "Successfully saved bike_s_000304.png to folder train/bike_s_000304.png.\n",
      "Successfully saved motorcycle_s_002192.png to folder train/motorcycle_s_002192.png.\n",
      "Successfully saved motorcycle_s_000887.png to folder train/motorcycle_s_000887.png.\n",
      "Successfully saved bike_s_002042.png to folder train/bike_s_002042.png.\n",
      "Successfully saved bicycle_s_000467.png to folder train/bicycle_s_000467.png.\n",
      "Successfully saved motorcycle_s_001706.png to folder train/motorcycle_s_001706.png.\n",
      "Successfully saved minibike_s_002176.png to folder train/minibike_s_002176.png.\n",
      "Successfully saved safety_bicycle_s_000760.png to folder train/safety_bicycle_s_000760.png.\n",
      "Successfully saved bicycle_s_000546.png to folder train/bicycle_s_000546.png.\n",
      "Successfully saved safety_bike_s_000158.png to folder train/safety_bike_s_000158.png.\n",
      "Successfully saved bicycle_s_001679.png to folder train/bicycle_s_001679.png.\n",
      "Successfully saved motorcycle_s_000924.png to folder train/motorcycle_s_000924.png.\n",
      "Successfully saved bicycle_s_000996.png to folder train/bicycle_s_000996.png.\n",
      "Successfully saved motorcycle_s_000432.png to folder train/motorcycle_s_000432.png.\n",
      "Successfully saved ordinary_bicycle_s_000277.png to folder train/ordinary_bicycle_s_000277.png.\n",
      "Successfully saved bike_s_002164.png to folder train/bike_s_002164.png.\n",
      "Successfully saved minibike_s_000036.png to folder train/minibike_s_000036.png.\n",
      "Successfully saved motorbike_s_000062.png to folder train/motorbike_s_000062.png.\n",
      "Successfully saved motorcycle_s_000133.png to folder train/motorcycle_s_000133.png.\n",
      "Successfully saved safety_bike_s_000328.png to folder train/safety_bike_s_000328.png.\n",
      "Successfully saved safety_bicycle_s_001028.png to folder train/safety_bicycle_s_001028.png.\n",
      "Successfully saved minibike_s_001506.png to folder train/minibike_s_001506.png.\n",
      "Successfully saved motorcycle_s_001549.png to folder train/motorcycle_s_001549.png.\n",
      "Successfully saved bike_s_002292.png to folder train/bike_s_002292.png.\n",
      "Successfully saved bike_s_000121.png to folder train/bike_s_000121.png.\n",
      "Successfully saved motorcycle_s_001167.png to folder train/motorcycle_s_001167.png.\n",
      "Successfully saved bicycle_s_000124.png to folder train/bicycle_s_000124.png.\n",
      "Successfully saved motorcycle_s_002237.png to folder train/motorcycle_s_002237.png.\n",
      "Successfully saved velocipede_s_001870.png to folder train/velocipede_s_001870.png.\n",
      "Successfully saved moped_s_000119.png to folder train/moped_s_000119.png.\n",
      "Successfully saved minibike_s_000121.png to folder train/minibike_s_000121.png.\n",
      "Successfully saved motorcycle_s_000928.png to folder train/motorcycle_s_000928.png.\n",
      "Successfully saved minibike_s_001881.png to folder train/minibike_s_001881.png.\n",
      "Successfully saved bike_s_000679.png to folder train/bike_s_000679.png.\n",
      "Successfully saved motorcycle_s_002183.png to folder train/motorcycle_s_002183.png.\n",
      "Successfully saved bike_s_000111.png to folder train/bike_s_000111.png.\n",
      "Successfully saved bike_s_001260.png to folder train/bike_s_001260.png.\n",
      "Successfully saved safety_bicycle_s_000660.png to folder train/safety_bicycle_s_000660.png.\n",
      "Successfully saved motorcycle_s_000695.png to folder train/motorcycle_s_000695.png.\n",
      "Successfully saved safety_bicycle_s_000233.png to folder train/safety_bicycle_s_000233.png.\n",
      "Successfully saved motorcycle_s_000792.png to folder train/motorcycle_s_000792.png.\n",
      "Successfully saved motorcycle_s_000922.png to folder train/motorcycle_s_000922.png.\n",
      "Successfully saved bicycle_s_002711.png to folder train/bicycle_s_002711.png.\n",
      "Successfully saved bike_s_000390.png to folder train/bike_s_000390.png.\n",
      "Successfully saved minibike_s_001094.png to folder train/minibike_s_001094.png.\n",
      "Successfully saved minibike_s_000507.png to folder train/minibike_s_000507.png.\n",
      "Successfully saved motorcycle_s_001213.png to folder train/motorcycle_s_001213.png.\n",
      "Successfully saved bike_s_000154.png to folder train/bike_s_000154.png.\n",
      "Successfully saved motorcycle_s_000223.png to folder train/motorcycle_s_000223.png.\n",
      "Successfully saved bicycle_s_002661.png to folder train/bicycle_s_002661.png.\n",
      "Successfully saved safety_bicycle_s_000232.png to folder train/safety_bicycle_s_000232.png.\n",
      "Successfully saved bicycle_s_001663.png to folder train/bicycle_s_001663.png.\n",
      "Successfully saved motorbike_s_000463.png to folder train/motorbike_s_000463.png.\n",
      "Successfully saved minibike_s_002137.png to folder train/minibike_s_002137.png.\n",
      "Successfully saved safety_bicycle_s_001651.png to folder train/safety_bicycle_s_001651.png.\n",
      "Successfully saved motorcycle_s_000151.png to folder train/motorcycle_s_000151.png.\n",
      "Successfully saved motorcycle_s_000217.png to folder train/motorcycle_s_000217.png.\n",
      "Successfully saved bike_s_001877.png to folder train/bike_s_001877.png.\n",
      "Successfully saved velocipede_s_001278.png to folder train/velocipede_s_001278.png.\n",
      "Successfully saved minibike_s_001540.png to folder train/minibike_s_001540.png.\n",
      "Successfully saved minibike_s_001885.png to folder train/minibike_s_001885.png.\n",
      "Successfully saved velocipede_s_000012.png to folder train/velocipede_s_000012.png.\n",
      "Successfully saved bicycle_s_001956.png to folder train/bicycle_s_001956.png.\n",
      "Successfully saved ordinary_bicycle_s_000098.png to folder train/ordinary_bicycle_s_000098.png.\n",
      "Successfully saved bicycle_s_002725.png to folder train/bicycle_s_002725.png.\n",
      "Successfully saved velocipede_s_001210.png to folder train/velocipede_s_001210.png.\n",
      "Successfully saved bicycle_s_000039.png to folder train/bicycle_s_000039.png.\n",
      "Successfully saved motorcycle_s_000654.png to folder train/motorcycle_s_000654.png.\n",
      "Successfully saved safety_bike_s_000079.png to folder train/safety_bike_s_000079.png.\n",
      "Successfully saved motorcycle_s_002291.png to folder train/motorcycle_s_002291.png.\n",
      "Successfully saved cycle_s_002168.png to folder train/cycle_s_002168.png.\n",
      "Successfully saved bike_s_001078.png to folder train/bike_s_001078.png.\n",
      "Successfully saved motorbike_s_000427.png to folder train/motorbike_s_000427.png.\n",
      "Successfully saved minibike_s_001921.png to folder train/minibike_s_001921.png.\n",
      "Successfully saved motorcycle_s_000917.png to folder train/motorcycle_s_000917.png.\n",
      "Successfully saved velocipede_s_001920.png to folder train/velocipede_s_001920.png.\n",
      "Successfully saved cycle_s_003026.png to folder train/cycle_s_003026.png.\n",
      "Successfully saved motorcycle_s_000543.png to folder train/motorcycle_s_000543.png.\n",
      "Successfully saved minibike_s_000491.png to folder train/minibike_s_000491.png.\n",
      "Successfully saved motorcycle_s_001439.png to folder train/motorcycle_s_001439.png.\n",
      "Successfully saved minibike_s_002084.png to folder train/minibike_s_002084.png.\n",
      "Successfully saved bicycle_s_000775.png to folder train/bicycle_s_000775.png.\n",
      "Successfully saved motorcycle_s_000262.png to folder train/motorcycle_s_000262.png.\n",
      "Successfully saved moped_s_000237.png to folder train/moped_s_000237.png.\n",
      "Successfully saved bicycle_s_000978.png to folder train/bicycle_s_000978.png.\n",
      "Successfully saved bike_s_000162.png to folder train/bike_s_000162.png.\n",
      "Successfully saved motorbike_s_000106.png to folder train/motorbike_s_000106.png.\n",
      "Successfully saved motorcycle_s_000136.png to folder train/motorcycle_s_000136.png.\n",
      "Successfully saved motorcycle_s_001319.png to folder train/motorcycle_s_001319.png.\n",
      "Successfully saved safety_bicycle_s_000125.png to folder train/safety_bicycle_s_000125.png.\n",
      "Successfully saved bicycle_s_001402.png to folder train/bicycle_s_001402.png.\n",
      "Successfully saved minibike_s_000511.png to folder train/minibike_s_000511.png.\n",
      "Successfully saved motorcycle_s_000332.png to folder train/motorcycle_s_000332.png.\n",
      "Successfully saved motorcycle_s_001315.png to folder train/motorcycle_s_001315.png.\n",
      "Successfully saved ordinary_bicycle_s_000031.png to folder train/ordinary_bicycle_s_000031.png.\n",
      "Successfully saved motorcycle_s_000353.png to folder train/motorcycle_s_000353.png.\n",
      "Successfully saved motorcycle_s_000521.png to folder train/motorcycle_s_000521.png.\n",
      "Successfully saved safety_bicycle_s_000860.png to folder train/safety_bicycle_s_000860.png.\n",
      "Successfully saved motorcycle_s_002153.png to folder train/motorcycle_s_002153.png.\n",
      "Successfully saved safety_bicycle_s_000324.png to folder train/safety_bicycle_s_000324.png.\n",
      "Successfully saved ordinary_bicycle_s_000112.png to folder train/ordinary_bicycle_s_000112.png.\n",
      "Successfully saved motorbike_s_000068.png to folder train/motorbike_s_000068.png.\n",
      "Successfully saved motorcycle_s_002254.png to folder train/motorcycle_s_002254.png.\n",
      "Successfully saved motorcycle_s_000989.png to folder train/motorcycle_s_000989.png.\n",
      "Successfully saved motorcycle_s_000622.png to folder train/motorcycle_s_000622.png.\n",
      "Successfully saved bike_s_000545.png to folder train/bike_s_000545.png.\n",
      "Successfully saved ordinary_bicycle_s_000099.png to folder train/ordinary_bicycle_s_000099.png.\n",
      "Successfully saved safety_bike_s_001257.png to folder train/safety_bike_s_001257.png.\n",
      "Successfully saved bicycle_s_001203.png to folder train/bicycle_s_001203.png.\n",
      "Successfully saved safety_bicycle_s_001085.png to folder train/safety_bicycle_s_001085.png.\n",
      "Successfully saved motorcycle_s_002222.png to folder train/motorcycle_s_002222.png.\n",
      "Successfully saved safety_bicycle_s_001639.png to folder train/safety_bicycle_s_001639.png.\n",
      "Successfully saved velocipede_s_001222.png to folder train/velocipede_s_001222.png.\n",
      "Successfully saved minibike_s_000392.png to folder train/minibike_s_000392.png.\n",
      "Successfully saved ordinary_bicycle_s_000308.png to folder train/ordinary_bicycle_s_000308.png.\n",
      "Successfully saved motorcycle_s_001896.png to folder train/motorcycle_s_001896.png.\n",
      "Successfully saved motorcycle_s_000325.png to folder train/motorcycle_s_000325.png.\n",
      "Successfully saved bicycle_s_000986.png to folder train/bicycle_s_000986.png.\n",
      "Successfully saved safety_bicycle_s_000373.png to folder train/safety_bicycle_s_000373.png.\n",
      "Successfully saved safety_bicycle_s_000348.png to folder train/safety_bicycle_s_000348.png.\n",
      "Successfully saved bicycle_s_002005.png to folder train/bicycle_s_002005.png.\n",
      "Successfully saved minibike_s_002130.png to folder train/minibike_s_002130.png.\n",
      "Successfully saved safety_bike_s_000867.png to folder train/safety_bike_s_000867.png.\n",
      "Successfully saved bicycle_s_002475.png to folder train/bicycle_s_002475.png.\n",
      "Successfully saved minibike_s_001193.png to folder train/minibike_s_001193.png.\n",
      "Successfully saved minibike_s_001366.png to folder train/minibike_s_001366.png.\n",
      "Successfully saved motorcycle_s_001711.png to folder train/motorcycle_s_001711.png.\n",
      "Successfully saved minibike_s_001275.png to folder train/minibike_s_001275.png.\n",
      "Successfully saved velocipede_s_001907.png to folder train/velocipede_s_001907.png.\n",
      "Successfully saved motorcycle_s_000207.png to folder train/motorcycle_s_000207.png.\n",
      "Successfully saved motorcycle_s_001409.png to folder train/motorcycle_s_001409.png.\n",
      "Successfully saved safety_bicycle_s_000261.png to folder train/safety_bicycle_s_000261.png.\n",
      "Successfully saved minibike_s_000738.png to folder train/minibike_s_000738.png.\n",
      "Successfully saved motorcycle_s_001106.png to folder train/motorcycle_s_001106.png.\n",
      "Successfully saved safety_bike_s_000198.png to folder train/safety_bike_s_000198.png.\n",
      "Successfully saved minibike_s_001479.png to folder train/minibike_s_001479.png.\n",
      "Successfully saved velocipede_s_000430.png to folder train/velocipede_s_000430.png.\n",
      "Successfully saved bicycle_s_001409.png to folder train/bicycle_s_001409.png.\n",
      "Successfully saved motorcycle_s_000938.png to folder train/motorcycle_s_000938.png.\n",
      "Successfully saved motorcycle_s_000941.png to folder train/motorcycle_s_000941.png.\n",
      "Successfully saved bicycle_s_000038.png to folder train/bicycle_s_000038.png.\n",
      "Successfully saved minibike_s_001016.png to folder train/minibike_s_001016.png.\n",
      "Successfully saved velocipede_s_001200.png to folder train/velocipede_s_001200.png.\n",
      "Successfully saved bike_s_002109.png to folder train/bike_s_002109.png.\n",
      "Successfully saved cycle_s_002092.png to folder train/cycle_s_002092.png.\n",
      "Successfully saved motorcycle_s_002066.png to folder train/motorcycle_s_002066.png.\n",
      "Successfully saved motorcycle_s_001920.png to folder train/motorcycle_s_001920.png.\n",
      "Successfully saved minibike_s_000459.png to folder train/minibike_s_000459.png.\n",
      "Successfully saved bicycle_s_001904.png to folder train/bicycle_s_001904.png.\n",
      "Successfully saved minibike_s_001996.png to folder train/minibike_s_001996.png.\n",
      "Successfully saved motorcycle_s_001611.png to folder train/motorcycle_s_001611.png.\n",
      "Successfully saved velocipede_s_001141.png to folder train/velocipede_s_001141.png.\n",
      "Successfully saved minibike_s_001747.png to folder train/minibike_s_001747.png.\n",
      "Successfully saved safety_bicycle_s_001029.png to folder train/safety_bicycle_s_001029.png.\n",
      "Successfully saved ordinary_bicycle_s_000029.png to folder train/ordinary_bicycle_s_000029.png.\n",
      "Successfully saved minibike_s_002163.png to folder train/minibike_s_002163.png.\n",
      "Successfully saved safety_bike_s_001148.png to folder train/safety_bike_s_001148.png.\n",
      "Successfully saved cycle_s_003008.png to folder train/cycle_s_003008.png.\n",
      "Successfully saved bicycle_s_000099.png to folder train/bicycle_s_000099.png.\n",
      "Successfully saved minibike_s_000429.png to folder train/minibike_s_000429.png.\n",
      "Successfully saved bike_s_000003.png to folder train/bike_s_000003.png.\n",
      "Successfully saved cycle_s_002178.png to folder train/cycle_s_002178.png.\n",
      "Successfully saved cycle_s_000639.png to folder train/cycle_s_000639.png.\n",
      "Successfully saved motorcycle_s_000734.png to folder train/motorcycle_s_000734.png.\n",
      "Successfully saved motorcycle_s_000309.png to folder train/motorcycle_s_000309.png.\n",
      "Successfully saved bicycle_s_000371.png to folder train/bicycle_s_000371.png.\n",
      "Successfully saved minibike_s_001270.png to folder train/minibike_s_001270.png.\n",
      "Successfully saved minibike_s_000914.png to folder train/minibike_s_000914.png.\n",
      "Successfully saved moped_s_000021.png to folder train/moped_s_000021.png.\n",
      "Successfully saved motorcycle_s_000242.png to folder train/motorcycle_s_000242.png.\n",
      "Successfully saved minibike_s_000314.png to folder train/minibike_s_000314.png.\n",
      "Successfully saved motorcycle_s_000698.png to folder train/motorcycle_s_000698.png.\n",
      "Successfully saved motorcycle_s_001360.png to folder train/motorcycle_s_001360.png.\n",
      "Successfully saved ordinary_bicycle_s_000157.png to folder train/ordinary_bicycle_s_000157.png.\n",
      "Successfully saved minibike_s_001838.png to folder train/minibike_s_001838.png.\n",
      "Successfully saved bicycle_s_002247.png to folder train/bicycle_s_002247.png.\n",
      "Successfully saved motorcycle_s_000027.png to folder train/motorcycle_s_000027.png.\n",
      "Successfully saved minibike_s_000906.png to folder train/minibike_s_000906.png.\n",
      "Successfully saved safety_bicycle_s_000500.png to folder train/safety_bicycle_s_000500.png.\n",
      "Successfully saved minibike_s_002146.png to folder train/minibike_s_002146.png.\n",
      "Successfully saved motorcycle_s_001242.png to folder train/motorcycle_s_001242.png.\n",
      "Successfully saved motorcycle_s_001707.png to folder train/motorcycle_s_001707.png.\n",
      "Successfully saved cycle_s_003043.png to folder train/cycle_s_003043.png.\n",
      "Successfully saved safety_bicycle_s_001109.png to folder train/safety_bicycle_s_001109.png.\n",
      "Successfully saved bike_s_001131.png to folder train/bike_s_001131.png.\n",
      "Successfully saved motorcycle_s_001118.png to folder train/motorcycle_s_001118.png.\n",
      "Successfully saved bike_s_001418.png to folder train/bike_s_001418.png.\n",
      "Successfully saved bicycle_s_002550.png to folder train/bicycle_s_002550.png.\n",
      "Successfully saved bicycle_s_002100.png to folder train/bicycle_s_002100.png.\n",
      "Successfully saved motorcycle_s_000933.png to folder train/motorcycle_s_000933.png.\n",
      "Successfully saved bicycle_s_002624.png to folder train/bicycle_s_002624.png.\n",
      "Successfully saved safety_bicycle_s_001063.png to folder train/safety_bicycle_s_001063.png.\n",
      "Successfully saved motorbike_s_000361.png to folder train/motorbike_s_000361.png.\n",
      "Successfully saved safety_bicycle_s_000193.png to folder train/safety_bicycle_s_000193.png.\n",
      "Successfully saved safety_bicycle_s_000092.png to folder train/safety_bicycle_s_000092.png.\n",
      "Successfully saved motorcycle_s_000009.png to folder train/motorcycle_s_000009.png.\n",
      "Successfully saved bicycle_s_001554.png to folder train/bicycle_s_001554.png.\n",
      "Successfully saved motorcycle_s_001297.png to folder train/motorcycle_s_001297.png.\n",
      "Successfully saved safety_bicycle_s_000296.png to folder train/safety_bicycle_s_000296.png.\n",
      "Successfully saved safety_bike_s_001371.png to folder train/safety_bike_s_001371.png.\n",
      "Successfully saved bicycle_s_001569.png to folder train/bicycle_s_001569.png.\n",
      "Successfully saved motorcycle_s_001536.png to folder train/motorcycle_s_001536.png.\n",
      "Successfully saved safety_bicycle_s_001659.png to folder train/safety_bicycle_s_001659.png.\n",
      "Successfully saved ordinary_bicycle_s_000102.png to folder train/ordinary_bicycle_s_000102.png.\n",
      "Successfully saved bike_s_002215.png to folder train/bike_s_002215.png.\n",
      "Successfully saved bicycle_s_002410.png to folder train/bicycle_s_002410.png.\n",
      "Successfully saved cycle_s_003147.png to folder train/cycle_s_003147.png.\n",
      "Successfully saved bicycle_s_002759.png to folder train/bicycle_s_002759.png.\n",
      "Successfully saved minibike_s_000335.png to folder train/minibike_s_000335.png.\n",
      "Successfully saved safety_bike_s_000848.png to folder train/safety_bike_s_000848.png.\n",
      "Successfully saved velocipede_s_000807.png to folder train/velocipede_s_000807.png.\n",
      "Successfully saved bike_s_000024.png to folder train/bike_s_000024.png.\n",
      "Successfully saved minibike_s_000435.png to folder train/minibike_s_000435.png.\n",
      "Successfully saved minibike_s_001498.png to folder train/minibike_s_001498.png.\n",
      "Successfully saved velocipede_s_001166.png to folder train/velocipede_s_001166.png.\n",
      "Successfully saved motorcycle_s_001012.png to folder train/motorcycle_s_001012.png.\n",
      "Successfully saved velocipede_s_000330.png to folder train/velocipede_s_000330.png.\n",
      "Successfully saved motorcycle_s_000032.png to folder train/motorcycle_s_000032.png.\n",
      "Successfully saved minibike_s_001597.png to folder train/minibike_s_001597.png.\n",
      "Successfully saved motorcycle_s_002298.png to folder train/motorcycle_s_002298.png.\n",
      "Successfully saved minibike_s_000102.png to folder train/minibike_s_000102.png.\n",
      "Successfully saved motorcycle_s_001507.png to folder train/motorcycle_s_001507.png.\n",
      "Successfully saved motorbike_s_000022.png to folder train/motorbike_s_000022.png.\n",
      "Successfully saved motorcycle_s_000594.png to folder train/motorcycle_s_000594.png.\n",
      "Successfully saved minibike_s_001539.png to folder train/minibike_s_001539.png.\n",
      "Successfully saved bicycle_s_001228.png to folder train/bicycle_s_001228.png.\n",
      "Successfully saved minibike_s_001344.png to folder train/minibike_s_001344.png.\n",
      "Successfully saved motorcycle_s_002271.png to folder train/motorcycle_s_002271.png.\n",
      "Successfully saved motorcycle_s_000791.png to folder train/motorcycle_s_000791.png.\n",
      "Successfully saved ordinary_bicycle_s_000218.png to folder train/ordinary_bicycle_s_000218.png.\n",
      "Successfully saved motorcycle_s_000221.png to folder train/motorcycle_s_000221.png.\n",
      "Successfully saved minibike_s_001691.png to folder train/minibike_s_001691.png.\n",
      "Successfully saved motorcycle_s_001209.png to folder train/motorcycle_s_001209.png.\n",
      "Successfully saved ordinary_bicycle_s_000101.png to folder train/ordinary_bicycle_s_000101.png.\n",
      "Successfully saved motorcycle_s_001326.png to folder train/motorcycle_s_001326.png.\n",
      "Successfully saved minibike_s_001249.png to folder train/minibike_s_001249.png.\n",
      "Successfully saved bicycle_s_000408.png to folder train/bicycle_s_000408.png.\n",
      "Successfully saved minibike_s_000520.png to folder train/minibike_s_000520.png.\n",
      "Successfully saved minibike_s_002218.png to folder train/minibike_s_002218.png.\n",
      "Successfully saved minibike_s_001458.png to folder train/minibike_s_001458.png.\n",
      "Successfully saved moped_s_000034.png to folder train/moped_s_000034.png.\n",
      "Successfully saved motorbike_s_000119.png to folder train/motorbike_s_000119.png.\n",
      "Successfully saved motorcycle_s_001027.png to folder train/motorcycle_s_001027.png.\n",
      "Successfully saved cycle_s_001477.png to folder train/cycle_s_001477.png.\n",
      "Successfully saved motorcycle_s_001710.png to folder train/motorcycle_s_001710.png.\n",
      "Successfully saved minibike_s_000434.png to folder train/minibike_s_000434.png.\n",
      "Successfully saved motorcycle_s_000979.png to folder train/motorcycle_s_000979.png.\n",
      "Successfully saved safety_bike_s_001289.png to folder train/safety_bike_s_001289.png.\n",
      "Successfully saved safety_bike_s_001560.png to folder train/safety_bike_s_001560.png.\n",
      "Successfully saved minibike_s_000011.png to folder train/minibike_s_000011.png.\n",
      "Successfully saved bicycle_s_001642.png to folder train/bicycle_s_001642.png.\n",
      "Successfully saved minibike_s_000527.png to folder train/minibike_s_000527.png.\n",
      "Successfully saved bicycle_s_001245.png to folder train/bicycle_s_001245.png.\n",
      "Successfully saved bike_s_000934.png to folder train/bike_s_000934.png.\n",
      "Successfully saved velocipede_s_001244.png to folder train/velocipede_s_001244.png.\n",
      "Successfully saved velocipede_s_001882.png to folder train/velocipede_s_001882.png.\n",
      "Successfully saved bike_s_001683.png to folder train/bike_s_001683.png.\n",
      "Successfully saved minibike_s_000127.png to folder train/minibike_s_000127.png.\n",
      "Successfully saved bicycle_s_001002.png to folder train/bicycle_s_001002.png.\n",
      "Successfully saved moped_s_000044.png to folder train/moped_s_000044.png.\n",
      "Successfully saved bike_s_000025.png to folder train/bike_s_000025.png.\n",
      "Successfully saved minibike_s_000690.png to folder train/minibike_s_000690.png.\n",
      "Successfully saved minibike_s_000022.png to folder train/minibike_s_000022.png.\n",
      "Successfully saved motorcycle_s_001196.png to folder train/motorcycle_s_001196.png.\n",
      "Successfully saved ordinary_bicycle_s_000269.png to folder train/ordinary_bicycle_s_000269.png.\n",
      "Successfully saved cycle_s_002503.png to folder train/cycle_s_002503.png.\n",
      "Successfully saved ordinary_bicycle_s_000097.png to folder train/ordinary_bicycle_s_000097.png.\n",
      "Successfully saved safety_bike_s_000009.png to folder train/safety_bike_s_000009.png.\n",
      "Successfully saved safety_bike_s_000015.png to folder train/safety_bike_s_000015.png.\n",
      "Successfully saved minibike_s_000613.png to folder train/minibike_s_000613.png.\n",
      "Successfully saved motorcycle_s_001017.png to folder train/motorcycle_s_001017.png.\n",
      "Successfully saved minibike_s_000203.png to folder train/minibike_s_000203.png.\n",
      "Successfully saved velocipede_s_001489.png to folder train/velocipede_s_001489.png.\n",
      "Successfully saved minibike_s_000813.png to folder train/minibike_s_000813.png.\n",
      "Successfully saved safety_bicycle_s_000425.png to folder train/safety_bicycle_s_000425.png.\n",
      "Successfully saved motorcycle_s_001622.png to folder train/motorcycle_s_001622.png.\n",
      "Successfully saved motorcycle_s_000593.png to folder train/motorcycle_s_000593.png.\n",
      "Successfully saved minibike_s_000116.png to folder train/minibike_s_000116.png.\n",
      "Successfully saved motorcycle_s_001563.png to folder train/motorcycle_s_001563.png.\n",
      "Successfully saved cycle_s_001875.png to folder train/cycle_s_001875.png.\n",
      "Successfully saved safety_bike_s_001590.png to folder train/safety_bike_s_001590.png.\n",
      "Successfully saved minibike_s_000830.png to folder train/minibike_s_000830.png.\n",
      "Successfully saved minibike_s_000570.png to folder train/minibike_s_000570.png.\n",
      "Successfully saved bike_s_001380.png to folder train/bike_s_001380.png.\n",
      "Successfully saved moped_s_000236.png to folder train/moped_s_000236.png.\n",
      "Successfully saved motorcycle_s_000339.png to folder train/motorcycle_s_000339.png.\n",
      "Successfully saved safety_bike_s_001465.png to folder train/safety_bike_s_001465.png.\n",
      "Successfully saved motorcycle_s_001714.png to folder train/motorcycle_s_001714.png.\n",
      "Successfully saved minibike_s_001191.png to folder train/minibike_s_001191.png.\n",
      "Successfully saved cycle_s_002882.png to folder train/cycle_s_002882.png.\n",
      "Successfully saved bicycle_s_000822.png to folder train/bicycle_s_000822.png.\n",
      "Successfully saved bike_s_001827.png to folder train/bike_s_001827.png.\n",
      "Successfully saved ordinary_bicycle_s_000110.png to folder train/ordinary_bicycle_s_000110.png.\n",
      "Successfully saved minibike_s_000293.png to folder train/minibike_s_000293.png.\n",
      "Successfully saved motorcycle_s_000249.png to folder train/motorcycle_s_000249.png.\n",
      "Successfully saved ordinary_bicycle_s_000154.png to folder train/ordinary_bicycle_s_000154.png.\n",
      "Successfully saved motorcycle_s_001527.png to folder train/motorcycle_s_001527.png.\n",
      "Successfully saved motorcycle_s_001033.png to folder train/motorcycle_s_001033.png.\n",
      "Successfully saved motorcycle_s_001709.png to folder train/motorcycle_s_001709.png.\n",
      "Successfully saved bicycle_s_001348.png to folder train/bicycle_s_001348.png.\n",
      "Successfully saved minibike_s_002194.png to folder train/minibike_s_002194.png.\n",
      "Successfully saved minibike_s_001079.png to folder train/minibike_s_001079.png.\n",
      "Successfully saved bicycle_s_000017.png to folder train/bicycle_s_000017.png.\n",
      "Successfully saved minibike_s_001638.png to folder train/minibike_s_001638.png.\n",
      "Successfully saved motorcycle_s_001587.png to folder train/motorcycle_s_001587.png.\n",
      "Successfully saved motorcycle_s_000486.png to folder train/motorcycle_s_000486.png.\n",
      "Successfully saved minibike_s_001880.png to folder train/minibike_s_001880.png.\n",
      "Successfully saved dirt_bike_s_000003.png to folder train/dirt_bike_s_000003.png.\n",
      "Successfully saved bike_s_000336.png to folder train/bike_s_000336.png.\n",
      "Successfully saved minibike_s_002115.png to folder train/minibike_s_002115.png.\n",
      "Successfully saved motorbike_s_000449.png to folder train/motorbike_s_000449.png.\n",
      "Successfully saved motorcycle_s_000304.png to folder train/motorcycle_s_000304.png.\n",
      "Successfully saved motorcycle_s_000022.png to folder train/motorcycle_s_000022.png.\n",
      "Successfully saved motorcycle_s_001623.png to folder train/motorcycle_s_001623.png.\n",
      "Successfully saved motorbike_s_000223.png to folder train/motorbike_s_000223.png.\n",
      "Successfully saved motorcycle_s_000290.png to folder train/motorcycle_s_000290.png.\n",
      "Successfully saved safety_bicycle_s_001327.png to folder train/safety_bicycle_s_001327.png.\n",
      "Successfully saved bike_s_002288.png to folder train/bike_s_002288.png.\n",
      "Successfully saved minibike_s_000569.png to folder train/minibike_s_000569.png.\n",
      "Successfully saved bike_s_002047.png to folder train/bike_s_002047.png.\n",
      "Successfully saved motorcycle_s_002031.png to folder train/motorcycle_s_002031.png.\n",
      "Successfully saved bike_s_000062.png to folder train/bike_s_000062.png.\n",
      "Successfully saved cycle_s_000871.png to folder train/cycle_s_000871.png.\n",
      "Successfully saved motorcycle_s_001778.png to folder train/motorcycle_s_001778.png.\n",
      "Successfully saved velocipede_s_000010.png to folder train/velocipede_s_000010.png.\n",
      "Successfully saved motorcycle_s_001247.png to folder train/motorcycle_s_001247.png.\n",
      "Successfully saved motorcycle_s_000724.png to folder train/motorcycle_s_000724.png.\n",
      "Successfully saved velocipede_s_001637.png to folder train/velocipede_s_001637.png.\n",
      "Successfully saved motorcycle_s_000291.png to folder train/motorcycle_s_000291.png.\n",
      "Successfully saved safety_bike_s_000390.png to folder test/safety_bike_s_000390.png.\n",
      "Successfully saved bike_s_000658.png to folder test/bike_s_000658.png.\n",
      "Successfully saved velocipede_s_001744.png to folder test/velocipede_s_001744.png.\n",
      "Successfully saved bike_s_000643.png to folder test/bike_s_000643.png.\n",
      "Successfully saved ordinary_bicycle_s_000437.png to folder test/ordinary_bicycle_s_000437.png.\n",
      "Successfully saved motorcycle_s_000323.png to folder test/motorcycle_s_000323.png.\n",
      "Successfully saved safety_bike_s_001253.png to folder test/safety_bike_s_001253.png.\n",
      "Successfully saved cycle_s_001306.png to folder test/cycle_s_001306.png.\n",
      "Successfully saved velocipede_s_000863.png to folder test/velocipede_s_000863.png.\n",
      "Successfully saved bicycle_s_000479.png to folder test/bicycle_s_000479.png.\n",
      "Successfully saved minibike_s_002173.png to folder test/minibike_s_002173.png.\n",
      "Successfully saved motorcycle_s_000352.png to folder test/motorcycle_s_000352.png.\n",
      "Successfully saved bike_s_000801.png to folder test/bike_s_000801.png.\n",
      "Successfully saved motorbike_s_000433.png to folder test/motorbike_s_000433.png.\n",
      "Successfully saved bike_s_001068.png to folder test/bike_s_001068.png.\n",
      "Successfully saved motorcycle_s_000963.png to folder test/motorcycle_s_000963.png.\n",
      "Successfully saved bike_s_001852.png to folder test/bike_s_001852.png.\n",
      "Successfully saved motorcycle_s_000139.png to folder test/motorcycle_s_000139.png.\n",
      "Successfully saved motorbike_s_000465.png to folder test/motorbike_s_000465.png.\n",
      "Successfully saved bicycle_s_000513.png to folder test/bicycle_s_000513.png.\n",
      "Successfully saved cycle_s_002305.png to folder test/cycle_s_002305.png.\n",
      "Successfully saved motorcycle_s_000615.png to folder test/motorcycle_s_000615.png.\n",
      "Successfully saved moped_s_000306.png to folder test/moped_s_000306.png.\n",
      "Successfully saved minibike_s_000052.png to folder test/minibike_s_000052.png.\n",
      "Successfully saved bike_s_001342.png to folder test/bike_s_001342.png.\n",
      "Successfully saved cycle_s_001297.png to folder test/cycle_s_001297.png.\n",
      "Successfully saved motorcycle_s_001955.png to folder test/motorcycle_s_001955.png.\n",
      "Successfully saved cycle_s_001953.png to folder test/cycle_s_001953.png.\n",
      "Successfully saved motorcycle_s_000494.png to folder test/motorcycle_s_000494.png.\n",
      "Successfully saved motorcycle_s_001249.png to folder test/motorcycle_s_001249.png.\n",
      "Successfully saved velocipede_s_000292.png to folder test/velocipede_s_000292.png.\n",
      "Successfully saved minibike_s_001651.png to folder test/minibike_s_001651.png.\n",
      "Successfully saved bicycle_s_001102.png to folder test/bicycle_s_001102.png.\n",
      "Successfully saved safety_bike_s_001132.png to folder test/safety_bike_s_001132.png.\n",
      "Successfully saved moped_s_000007.png to folder test/moped_s_000007.png.\n",
      "Successfully saved motorcycle_s_000211.png to folder test/motorcycle_s_000211.png.\n",
      "Successfully saved cycle_s_000970.png to folder test/cycle_s_000970.png.\n",
      "Successfully saved motorcycle_s_002126.png to folder test/motorcycle_s_002126.png.\n",
      "Successfully saved minibike_s_001732.png to folder test/minibike_s_001732.png.\n",
      "Successfully saved minibike_s_001867.png to folder test/minibike_s_001867.png.\n",
      "Successfully saved minibike_s_002227.png to folder test/minibike_s_002227.png.\n",
      "Successfully saved cycle_s_000068.png to folder test/cycle_s_000068.png.\n",
      "Successfully saved minibike_s_000880.png to folder test/minibike_s_000880.png.\n",
      "Successfully saved moped_s_000033.png to folder test/moped_s_000033.png.\n",
      "Successfully saved bicycle_s_001107.png to folder test/bicycle_s_001107.png.\n",
      "Successfully saved bike_s_002116.png to folder test/bike_s_002116.png.\n",
      "Successfully saved bike_s_001738.png to folder test/bike_s_001738.png.\n",
      "Successfully saved bike_s_002009.png to folder test/bike_s_002009.png.\n",
      "Successfully saved minibike_s_000947.png to folder test/minibike_s_000947.png.\n",
      "Successfully saved bike_s_001159.png to folder test/bike_s_001159.png.\n",
      "Successfully saved safety_bike_s_001065.png to folder test/safety_bike_s_001065.png.\n",
      "Successfully saved motorbike_s_000005.png to folder test/motorbike_s_000005.png.\n",
      "Successfully saved minibike_s_000075.png to folder test/minibike_s_000075.png.\n",
      "Successfully saved motorcycle_s_001164.png to folder test/motorcycle_s_001164.png.\n",
      "Successfully saved motorcycle_s_000679.png to folder test/motorcycle_s_000679.png.\n",
      "Successfully saved motorcycle_s_001892.png to folder test/motorcycle_s_001892.png.\n",
      "Successfully saved bike_s_000694.png to folder test/bike_s_000694.png.\n",
      "Successfully saved velocipede_s_000106.png to folder test/velocipede_s_000106.png.\n",
      "Successfully saved velocipede_s_000001.png to folder test/velocipede_s_000001.png.\n",
      "Successfully saved motorcycle_s_002177.png to folder test/motorcycle_s_002177.png.\n",
      "Successfully saved motorbike_s_000126.png to folder test/motorbike_s_000126.png.\n",
      "Successfully saved safety_bicycle_s_001286.png to folder test/safety_bicycle_s_001286.png.\n",
      "Successfully saved motorcycle_s_001936.png to folder test/motorcycle_s_001936.png.\n",
      "Successfully saved safety_bike_s_001087.png to folder test/safety_bike_s_001087.png.\n",
      "Successfully saved cycle_s_001648.png to folder test/cycle_s_001648.png.\n",
      "Successfully saved minibike_s_000801.png to folder test/minibike_s_000801.png.\n",
      "Successfully saved motorcycle_s_000427.png to folder test/motorcycle_s_000427.png.\n",
      "Successfully saved minibike_s_001089.png to folder test/minibike_s_001089.png.\n",
      "Successfully saved motorcycle_s_000530.png to folder test/motorcycle_s_000530.png.\n",
      "Successfully saved velocipede_s_001232.png to folder test/velocipede_s_001232.png.\n",
      "Successfully saved motorcycle_s_001261.png to folder test/motorcycle_s_001261.png.\n",
      "Successfully saved velocipede_s_001466.png to folder test/velocipede_s_001466.png.\n",
      "Successfully saved motorcycle_s_001269.png to folder test/motorcycle_s_001269.png.\n",
      "Successfully saved bicycle_s_000776.png to folder test/bicycle_s_000776.png.\n",
      "Successfully saved motorcycle_s_001348.png to folder test/motorcycle_s_001348.png.\n",
      "Successfully saved motorcycle_s_002026.png to folder test/motorcycle_s_002026.png.\n",
      "Successfully saved safety_bike_s_000540.png to folder test/safety_bike_s_000540.png.\n",
      "Successfully saved safety_bicycle_s_000280.png to folder test/safety_bicycle_s_000280.png.\n",
      "Successfully saved bike_s_000131.png to folder test/bike_s_000131.png.\n",
      "Successfully saved cycle_s_000010.png to folder test/cycle_s_000010.png.\n",
      "Successfully saved minibike_s_000828.png to folder test/minibike_s_000828.png.\n",
      "Successfully saved minibike_s_000288.png to folder test/minibike_s_000288.png.\n",
      "Successfully saved velocipede_s_001355.png to folder test/velocipede_s_001355.png.\n",
      "Successfully saved safety_bicycle_s_001575.png to folder test/safety_bicycle_s_001575.png.\n",
      "Successfully saved safety_bike_s_001690.png to folder test/safety_bike_s_001690.png.\n",
      "Successfully saved cycle_s_001044.png to folder test/cycle_s_001044.png.\n",
      "Successfully saved motorcycle_s_000063.png to folder test/motorcycle_s_000063.png.\n",
      "Successfully saved velocipede_s_001379.png to folder test/velocipede_s_001379.png.\n",
      "Successfully saved minibike_s_001441.png to folder test/minibike_s_001441.png.\n",
      "Successfully saved motorcycle_s_000797.png to folder test/motorcycle_s_000797.png.\n",
      "Successfully saved velocipede_s_001790.png to folder test/velocipede_s_001790.png.\n",
      "Successfully saved motorbike_s_000135.png to folder test/motorbike_s_000135.png.\n",
      "Successfully saved cycle_s_002613.png to folder test/cycle_s_002613.png.\n",
      "Successfully saved motorcycle_s_001960.png to folder test/motorcycle_s_001960.png.\n",
      "Successfully saved minibike_s_000913.png to folder test/minibike_s_000913.png.\n",
      "Successfully saved motorcycle_s_000685.png to folder test/motorcycle_s_000685.png.\n",
      "Successfully saved ordinary_bicycle_s_000431.png to folder test/ordinary_bicycle_s_000431.png.\n",
      "Successfully saved minibike_s_002051.png to folder test/minibike_s_002051.png.\n",
      "Successfully saved motorcycle_s_000446.png to folder test/motorcycle_s_000446.png.\n",
      "Successfully saved velocipede_s_001699.png to folder test/velocipede_s_001699.png.\n",
      "Successfully saved minibike_s_000792.png to folder test/minibike_s_000792.png.\n",
      "Successfully saved bicycle_s_002458.png to folder test/bicycle_s_002458.png.\n",
      "Successfully saved minibike_s_000505.png to folder test/minibike_s_000505.png.\n",
      "Successfully saved minibike_s_000573.png to folder test/minibike_s_000573.png.\n",
      "Successfully saved velocipede_s_000369.png to folder test/velocipede_s_000369.png.\n",
      "Successfully saved moped_s_000064.png to folder test/moped_s_000064.png.\n",
      "Successfully saved minibike_s_001893.png to folder test/minibike_s_001893.png.\n",
      "Successfully saved motorcycle_s_000878.png to folder test/motorcycle_s_000878.png.\n",
      "Successfully saved motorcycle_s_000042.png to folder test/motorcycle_s_000042.png.\n",
      "Successfully saved motorcycle_s_000606.png to folder test/motorcycle_s_000606.png.\n",
      "Successfully saved minibike_s_002230.png to folder test/minibike_s_002230.png.\n",
      "Successfully saved motorcycle_s_001519.png to folder test/motorcycle_s_001519.png.\n",
      "Successfully saved motorcycle_s_000512.png to folder test/motorcycle_s_000512.png.\n",
      "Successfully saved cycle_s_001915.png to folder test/cycle_s_001915.png.\n",
      "Successfully saved safety_bike_s_000541.png to folder test/safety_bike_s_000541.png.\n",
      "Successfully saved safety_bike_s_000192.png to folder test/safety_bike_s_000192.png.\n",
      "Successfully saved bicycle_s_000030.png to folder test/bicycle_s_000030.png.\n",
      "Successfully saved motorcycle_s_001385.png to folder test/motorcycle_s_001385.png.\n",
      "Successfully saved minibike_s_000960.png to folder test/minibike_s_000960.png.\n",
      "Successfully saved safety_bike_s_000791.png to folder test/safety_bike_s_000791.png.\n",
      "Successfully saved bike_s_000071.png to folder test/bike_s_000071.png.\n",
      "Successfully saved motorcycle_s_000876.png to folder test/motorcycle_s_000876.png.\n",
      "Successfully saved ordinary_bicycle_s_000350.png to folder test/ordinary_bicycle_s_000350.png.\n",
      "Successfully saved motorcycle_s_000602.png to folder test/motorcycle_s_000602.png.\n",
      "Successfully saved motorcycle_s_000222.png to folder test/motorcycle_s_000222.png.\n",
      "Successfully saved minibike_s_000309.png to folder test/minibike_s_000309.png.\n",
      "Successfully saved motorcycle_s_001679.png to folder test/motorcycle_s_001679.png.\n",
      "Successfully saved minibike_s_001473.png to folder test/minibike_s_001473.png.\n",
      "Successfully saved velocipede_s_001633.png to folder test/velocipede_s_001633.png.\n",
      "Successfully saved safety_bike_s_000438.png to folder test/safety_bike_s_000438.png.\n",
      "Successfully saved safety_bicycle_s_000315.png to folder test/safety_bicycle_s_000315.png.\n",
      "Successfully saved motorcycle_s_002112.png to folder test/motorcycle_s_002112.png.\n",
      "Successfully saved bike_s_000163.png to folder test/bike_s_000163.png.\n",
      "Successfully saved bicycle_s_000059.png to folder test/bicycle_s_000059.png.\n",
      "Successfully saved bicycle_s_001789.png to folder test/bicycle_s_001789.png.\n",
      "Successfully saved safety_bike_s_000699.png to folder test/safety_bike_s_000699.png.\n",
      "Successfully saved motorbike_s_000324.png to folder test/motorbike_s_000324.png.\n",
      "Successfully saved motorcycle_s_000485.png to folder test/motorcycle_s_000485.png.\n",
      "Successfully saved motorcycle_s_001687.png to folder test/motorcycle_s_001687.png.\n",
      "Successfully saved minibike_s_000497.png to folder test/minibike_s_000497.png.\n",
      "Successfully saved minibike_s_001547.png to folder test/minibike_s_001547.png.\n",
      "Successfully saved minibike_s_000055.png to folder test/minibike_s_000055.png.\n",
      "Successfully saved ordinary_bicycle_s_000169.png to folder test/ordinary_bicycle_s_000169.png.\n",
      "Successfully saved minibike_s_000290.png to folder test/minibike_s_000290.png.\n",
      "Successfully saved velocipede_s_001335.png to folder test/velocipede_s_001335.png.\n",
      "Successfully saved bicycle_s_001804.png to folder test/bicycle_s_001804.png.\n",
      "Successfully saved safety_bike_s_000488.png to folder test/safety_bike_s_000488.png.\n",
      "Successfully saved bike_s_001216.png to folder test/bike_s_001216.png.\n",
      "Successfully saved motorbike_s_000121.png to folder test/motorbike_s_000121.png.\n",
      "Successfully saved bike_s_001073.png to folder test/bike_s_001073.png.\n",
      "Successfully saved safety_bicycle_s_001153.png to folder test/safety_bicycle_s_001153.png.\n",
      "Successfully saved motorcycle_s_000171.png to folder test/motorcycle_s_000171.png.\n",
      "Successfully saved velocipede_s_000041.png to folder test/velocipede_s_000041.png.\n",
      "Successfully saved motorcycle_s_001782.png to folder test/motorcycle_s_001782.png.\n",
      "Successfully saved motorbike_s_000629.png to folder test/motorbike_s_000629.png.\n",
      "Successfully saved bicycle_s_000977.png to folder test/bicycle_s_000977.png.\n",
      "Successfully saved motorcycle_s_001906.png to folder test/motorcycle_s_001906.png.\n",
      "Successfully saved bike_s_002208.png to folder test/bike_s_002208.png.\n",
      "Successfully saved minibike_s_000254.png to folder test/minibike_s_000254.png.\n",
      "Successfully saved safety_bicycle_s_001322.png to folder test/safety_bicycle_s_001322.png.\n",
      "Successfully saved bike_s_000041.png to folder test/bike_s_000041.png.\n",
      "Successfully saved bicycle_s_000031.png to folder test/bicycle_s_000031.png.\n",
      "Successfully saved bicycle_s_000779.png to folder test/bicycle_s_000779.png.\n",
      "Successfully saved velocipede_s_001277.png to folder test/velocipede_s_001277.png.\n",
      "Successfully saved safety_bike_s_001088.png to folder test/safety_bike_s_001088.png.\n",
      "Successfully saved motorcycle_s_001971.png to folder test/motorcycle_s_001971.png.\n",
      "Successfully saved bike_s_001784.png to folder test/bike_s_001784.png.\n",
      "Successfully saved motorcycle_s_000825.png to folder test/motorcycle_s_000825.png.\n",
      "Successfully saved dirt_bike_s_000001.png to folder test/dirt_bike_s_000001.png.\n",
      "Successfully saved cycle_s_001214.png to folder test/cycle_s_001214.png.\n",
      "Successfully saved cycle_s_002964.png to folder test/cycle_s_002964.png.\n",
      "Successfully saved ordinary_bicycle_s_000284.png to folder test/ordinary_bicycle_s_000284.png.\n",
      "Successfully saved bicycle_s_002735.png to folder test/bicycle_s_002735.png.\n",
      "Successfully saved motorcycle_s_000450.png to folder test/motorcycle_s_000450.png.\n",
      "Successfully saved motorcycle_s_000049.png to folder test/motorcycle_s_000049.png.\n",
      "Successfully saved motorcycle_s_000866.png to folder test/motorcycle_s_000866.png.\n",
      "Successfully saved velocipede_s_001201.png to folder test/velocipede_s_001201.png.\n",
      "Successfully saved bike_s_000457.png to folder test/bike_s_000457.png.\n",
      "Successfully saved bike_s_000330.png to folder test/bike_s_000330.png.\n",
      "Successfully saved minibike_s_001605.png to folder test/minibike_s_001605.png.\n",
      "Successfully saved minibike_s_000398.png to folder test/minibike_s_000398.png.\n",
      "Successfully saved motorcycle_s_000007.png to folder test/motorcycle_s_000007.png.\n",
      "Successfully saved motorcycle_s_000040.png to folder test/motorcycle_s_000040.png.\n",
      "Successfully saved motorcycle_s_000739.png to folder test/motorcycle_s_000739.png.\n",
      "Successfully saved motorbike_s_000333.png to folder test/motorbike_s_000333.png.\n",
      "Successfully saved safety_bike_s_001481.png to folder test/safety_bike_s_001481.png.\n",
      "Successfully saved ordinary_bicycle_s_000158.png to folder test/ordinary_bicycle_s_000158.png.\n",
      "Successfully saved motorcycle_s_001508.png to folder test/motorcycle_s_001508.png.\n",
      "Successfully saved motorcycle_s_000060.png to folder test/motorcycle_s_000060.png.\n",
      "Successfully saved cycle_s_002661.png to folder test/cycle_s_002661.png.\n",
      "Successfully saved bicycle_s_001047.png to folder test/bicycle_s_001047.png.\n",
      "Successfully saved bicycle_s_000777.png to folder test/bicycle_s_000777.png.\n",
      "Successfully saved safety_bicycle_s_000235.png to folder test/safety_bicycle_s_000235.png.\n",
      "Successfully saved bike_s_000487.png to folder test/bike_s_000487.png.\n",
      "Successfully saved ordinary_bicycle_s_000113.png to folder test/ordinary_bicycle_s_000113.png.\n",
      "Successfully saved trail_bike_s_000073.png to folder test/trail_bike_s_000073.png.\n",
      "Successfully saved bike_s_000941.png to folder test/bike_s_000941.png.\n",
      "Successfully saved motorcycle_s_000141.png to folder test/motorcycle_s_000141.png.\n",
      "Successfully saved ordinary_bicycle_s_000105.png to folder test/ordinary_bicycle_s_000105.png.\n",
      "Successfully saved bicycle_s_001218.png to folder test/bicycle_s_001218.png.\n"
     ]
    }
   ],
   "source": [
    "#save train images\n",
    "save_images(imges_df=df_train,\n",
    "            images_data=dataset_train, \n",
    "            path_to_save_img=\"./train\")\n",
    "\n",
    "# Save test images\n",
    "save_images(imges_df=df_test,\n",
    "            images_data=dataset_test, \n",
    "            path_to_save_img=\"./test\")"
   ]
  },
  {
   "cell_type": "markdown",
   "metadata": {},
   "source": [
    "### 3. Load the data\n",
    "\n",
    "Now we can load the data into S3.\n",
    "\n",
    "Using the sagemaker SDK grab the current region, execution role, and bucket."
   ]
  },
  {
   "cell_type": "code",
   "execution_count": 34,
   "metadata": {
    "execution": {
     "iopub.execute_input": "2025-06-14T18:31:41.965002Z",
     "iopub.status.busy": "2025-06-14T18:31:41.964300Z",
     "iopub.status.idle": "2025-06-14T18:31:42.840034Z",
     "shell.execute_reply": "2025-06-14T18:31:42.839215Z",
     "shell.execute_reply.started": "2025-06-14T18:31:41.964962Z"
    }
   },
   "outputs": [
    {
     "name": "stdout",
     "output_type": "stream",
     "text": [
      "Default Bucket: sagemaker-us-east-1-985539769188\n",
      "AWS Region: us-east-1\n",
      "RoleArn: arn:aws:iam::985539769188:role/service-role/AmazonSageMaker-ExecutionRole-20250603T195391\n"
     ]
    }
   ],
   "source": [
    "import sagemaker\n",
    "\n",
    "session=sagemaker.Session()\n",
    "bucket= session.default_bucket()## TODO: fill in\n",
    "print(\"Default Bucket: {}\".format(bucket))\n",
    "\n",
    "region = session.boto_region_name## TODO: fill in\n",
    "print(\"AWS Region: {}\".format(region))\n",
    "\n",
    "role = sagemaker.get_execution_role() ## TODO: fill in\n",
    "print(\"RoleArn: {}\".format(role))"
   ]
  },
  {
   "cell_type": "markdown",
   "metadata": {},
   "source": [
    "With this data we can easily sync your data up into S3!"
   ]
  },
  {
   "cell_type": "code",
   "execution_count": 37,
   "metadata": {
    "execution": {
     "iopub.execute_input": "2025-06-14T18:33:34.591794Z",
     "iopub.status.busy": "2025-06-14T18:33:34.591332Z",
     "iopub.status.idle": "2025-06-14T18:33:37.442831Z",
     "shell.execute_reply": "2025-06-14T18:33:37.441793Z",
     "shell.execute_reply.started": "2025-06-14T18:33:34.591758Z"
    }
   },
   "outputs": [],
   "source": [
    "import os\n",
    "\n",
    "os.environ[\"DEFAULT_S3_BUCKET\"] = bucket\n",
    "!aws s3 sync ./train s3://${DEFAULT_S3_BUCKET}/train/\n",
    "!aws s3 sync ./test s3://${DEFAULT_S3_BUCKET}/test/"
   ]
  },
  {
   "cell_type": "code",
   "execution_count": null,
   "metadata": {},
   "outputs": [],
   "source": [
    "##Display random images in train and test"
   ]
  },
  {
   "cell_type": "code",
   "execution_count": 38,
   "metadata": {
    "execution": {
     "iopub.execute_input": "2025-06-14T18:33:57.350476Z",
     "iopub.status.busy": "2025-06-14T18:33:57.350039Z",
     "iopub.status.idle": "2025-06-14T18:33:57.355792Z",
     "shell.execute_reply": "2025-06-14T18:33:57.354600Z",
     "shell.execute_reply.started": "2025-06-14T18:33:57.350445Z"
    }
   },
   "outputs": [],
   "source": [
    "import matplotlib.pyplot as plt\n",
    "import glob\n",
    "import random"
   ]
  },
  {
   "cell_type": "code",
   "execution_count": 39,
   "metadata": {
    "execution": {
     "iopub.execute_input": "2025-06-14T18:33:58.324240Z",
     "iopub.status.busy": "2025-06-14T18:33:58.323794Z",
     "iopub.status.idle": "2025-06-14T18:33:58.332101Z",
     "shell.execute_reply": "2025-06-14T18:33:58.331054Z",
     "shell.execute_reply.started": "2025-06-14T18:33:58.324216Z"
    }
   },
   "outputs": [],
   "source": [
    "train_path = glob.glob('./train/*.png')"
   ]
  },
  {
   "cell_type": "code",
   "execution_count": 40,
   "metadata": {
    "execution": {
     "iopub.execute_input": "2025-06-14T18:33:59.328221Z",
     "iopub.status.busy": "2025-06-14T18:33:59.327930Z",
     "iopub.status.idle": "2025-06-14T18:33:59.333827Z",
     "shell.execute_reply": "2025-06-14T18:33:59.332954Z",
     "shell.execute_reply.started": "2025-06-14T18:33:59.328199Z"
    }
   },
   "outputs": [
    {
     "data": {
      "text/plain": [
       "1000"
      ]
     },
     "execution_count": 40,
     "metadata": {},
     "output_type": "execute_result"
    }
   ],
   "source": [
    "len(train_path)"
   ]
  },
  {
   "cell_type": "code",
   "execution_count": 41,
   "metadata": {
    "execution": {
     "iopub.execute_input": "2025-06-14T18:34:01.344825Z",
     "iopub.status.busy": "2025-06-14T18:34:01.344087Z",
     "iopub.status.idle": "2025-06-14T18:34:01.359556Z",
     "shell.execute_reply": "2025-06-14T18:34:01.353125Z",
     "shell.execute_reply.started": "2025-06-14T18:34:01.344796Z"
    }
   },
   "outputs": [],
   "source": [
    "test_path=glob.glob('./test/*.png')"
   ]
  },
  {
   "cell_type": "code",
   "execution_count": 42,
   "metadata": {
    "execution": {
     "iopub.execute_input": "2025-06-14T18:34:03.933170Z",
     "iopub.status.busy": "2025-06-14T18:34:03.932587Z",
     "iopub.status.idle": "2025-06-14T18:34:03.951362Z",
     "shell.execute_reply": "2025-06-14T18:34:03.947338Z",
     "shell.execute_reply.started": "2025-06-14T18:34:03.933142Z"
    }
   },
   "outputs": [
    {
     "data": {
      "text/plain": [
       "200"
      ]
     },
     "execution_count": 42,
     "metadata": {},
     "output_type": "execute_result"
    }
   ],
   "source": [
    "len(test_path)"
   ]
  },
  {
   "cell_type": "code",
   "execution_count": 43,
   "metadata": {
    "execution": {
     "iopub.execute_input": "2025-06-14T18:34:04.753533Z",
     "iopub.status.busy": "2025-06-14T18:34:04.752848Z",
     "iopub.status.idle": "2025-06-14T18:34:04.758265Z",
     "shell.execute_reply": "2025-06-14T18:34:04.757493Z",
     "shell.execute_reply.started": "2025-06-14T18:34:04.753505Z"
    }
   },
   "outputs": [
    {
     "data": {
      "text/plain": [
       "list"
      ]
     },
     "execution_count": 43,
     "metadata": {},
     "output_type": "execute_result"
    }
   ],
   "source": [
    "type(train_path)"
   ]
  },
  {
   "cell_type": "code",
   "execution_count": 44,
   "metadata": {
    "execution": {
     "iopub.execute_input": "2025-06-14T18:34:05.956480Z",
     "iopub.status.busy": "2025-06-14T18:34:05.955752Z",
     "iopub.status.idle": "2025-06-14T18:34:05.960288Z",
     "shell.execute_reply": "2025-06-14T18:34:05.959460Z",
     "shell.execute_reply.started": "2025-06-14T18:34:05.956441Z"
    }
   },
   "outputs": [],
   "source": [
    "import re"
   ]
  },
  {
   "cell_type": "code",
   "execution_count": 45,
   "metadata": {
    "execution": {
     "iopub.execute_input": "2025-06-14T18:34:10.249702Z",
     "iopub.status.busy": "2025-06-14T18:34:10.249411Z",
     "iopub.status.idle": "2025-06-14T18:34:10.254697Z",
     "shell.execute_reply": "2025-06-14T18:34:10.254128Z",
     "shell.execute_reply.started": "2025-06-14T18:34:10.249680Z"
    }
   },
   "outputs": [],
   "source": [
    "def display_random_images(images_list):\n",
    "\n",
    "\n",
    "    plt.figure(1, figsize=(15, 9))\n",
    "    plt.rc('figure', autolayout=True)\n",
    "    plt.rc('axes', labelweight='bold', labelsize='large',\n",
    "           titleweight='bold', titlesize=10, titlepad=10)\n",
    "    plt.rc('image', cmap='magma')\n",
    "    l=[]\n",
    "    n = 0\n",
    "    for i in range(3):\n",
    "\n",
    "        n += 1\n",
    "        random_imges =random.choice(train_path)\n",
    "        l.append(random_imges)\n",
    "        for img in l:\n",
    "            img_name=re.split(\"/\",img)[2]\n",
    "            random_img_array=plt.imread(img)\n",
    "            plt.subplot(2, 2, n)\n",
    "            plt.axis('off')\n",
    "            plt.imshow(random_img_array,cmap='gray',vmin = -1.5, vmax = 1.5)\n",
    "            plt.title(img_name)\n",
    "            plt.show();"
   ]
  },
  {
   "cell_type": "code",
   "execution_count": 46,
   "metadata": {
    "execution": {
     "iopub.execute_input": "2025-06-14T18:34:10.699995Z",
     "iopub.status.busy": "2025-06-14T18:34:10.699478Z",
     "iopub.status.idle": "2025-06-14T18:34:11.118834Z",
     "shell.execute_reply": "2025-06-14T18:34:11.118056Z",
     "shell.execute_reply.started": "2025-06-14T18:34:10.699968Z"
    }
   },
   "outputs": [
    {
     "data": {
      "image/png": "[encoded data removed]",
      "text/plain": [
       "<Figure size 1500x900 with 1 Axes>"
      ]
     },
     "metadata": {},
     "output_type": "display_data"
    },
    {
     "data": {
      "image/png": "[encoded data removed]",
      "text/plain": [
       "<Figure size 640x480 with 1 Axes>"
      ]
     },
     "metadata": {},
     "output_type": "display_data"
    },
    {
     "data": {
      "image/png": "[encoded data removed]",
      "text/plain": [
       "<Figure size 640x480 with 1 Axes>"
      ]
     },
     "metadata": {},
     "output_type": "display_data"
    },
    {
     "data": {
      "image/png": "[encoded data removed]",
      "text/plain": [
       "<Figure size 640x480 with 1 Axes>"
      ]
     },
     "metadata": {},
     "output_type": "display_data"
    },
    {
     "data": {
      "image/png": "[encoded data removed]",
      "text/plain": [
       "<Figure size 640x480 with 1 Axes>"
      ]
     },
     "metadata": {},
     "output_type": "display_data"
    },
    {
     "data": {
      "image/png": "[encoded data removed]",
      "text/plain": [
       "<Figure size 640x480 with 1 Axes>"
      ]
     },
     "metadata": {},
     "output_type": "display_data"
    }
   ],
   "source": [
    "# Train\n",
    "display_random_images(train_path)"
   ]
  },
  {
   "cell_type": "code",
   "execution_count": 47,
   "metadata": {
    "execution": {
     "iopub.execute_input": "2025-06-14T18:34:16.156370Z",
     "iopub.status.busy": "2025-06-14T18:34:16.155671Z",
     "iopub.status.idle": "2025-06-14T18:34:16.584094Z",
     "shell.execute_reply": "2025-06-14T18:34:16.583273Z",
     "shell.execute_reply.started": "2025-06-14T18:34:16.156341Z"
    }
   },
   "outputs": [
    {
     "data": {
      "image/png": "[encoded data removed]",
      "text/plain": [
       "<Figure size 1500x900 with 1 Axes>"
      ]
     },
     "metadata": {},
     "output_type": "display_data"
    },
    {
     "data": {
      "image/png": "[encoded data removed]",
      "text/plain": [
       "<Figure size 640x480 with 1 Axes>"
      ]
     },
     "metadata": {},
     "output_type": "display_data"
    },
    {
     "data": {
      "image/png": "[encoded data removed]",
      "text/plain": [
       "<Figure size 640x480 with 1 Axes>"
      ]
     },
     "metadata": {},
     "output_type": "display_data"
    },
    {
     "data": {
      "image/png": "[encoded data removed]",
      "text/plain": [
       "<Figure size 640x480 with 1 Axes>"
      ]
     },
     "metadata": {},
     "output_type": "display_data"
    },
    {
     "data": {
      "image/png": "[encoded data removed]",
      "text/plain": [
       "<Figure size 640x480 with 1 Axes>"
      ]
     },
     "metadata": {},
     "output_type": "display_data"
    },
    {
     "data": {
      "image/png": "[encoded data removed]",
      "text/plain": [
       "<Figure size 640x480 with 1 Axes>"
      ]
     },
     "metadata": {},
     "output_type": "display_data"
    }
   ],
   "source": [
    "display_random_images(test_path)"
   ]
  },
  {
   "cell_type": "markdown",
   "metadata": {},
   "source": [
    "And that's it! You can check the bucket and verify that the items were uploaded.\n",
    "\n",
    "## Model Training\n",
    "\n",
    "For Image Classification, Sagemaker [also expects metadata](https://docs.aws.amazon.com/sagemaker/latest/dg/image-classification.html) e.g. in the form of TSV files with labels and filepaths. We can generate these using our Pandas DataFrames from earlier:"
   ]
  },
  {
   "cell_type": "code",
   "execution_count": 48,
   "metadata": {
    "execution": {
     "iopub.execute_input": "2025-06-14T18:34:38.389522Z",
     "iopub.status.busy": "2025-06-14T18:34:38.389149Z",
     "iopub.status.idle": "2025-06-14T18:34:38.414488Z",
     "shell.execute_reply": "2025-06-14T18:34:38.413409Z",
     "shell.execute_reply.started": "2025-06-14T18:34:38.389488Z"
    }
   },
   "outputs": [],
   "source": [
    "def to_metadata_file(df, prefix):\n",
    "    df[\"s3_path\"] = df[\"filenames\"]\n",
    "    df[\"labels\"] = df[\"labels\"].apply(lambda x: 0 if x==8 else 1)\n",
    "    return df[[\"row\", \"labels\", \"s3_path\"]].to_csv(\n",
    "        f\"{prefix}.lst\", sep=\"\\t\", index=False, header=False\n",
    "    )\n",
    "    \n",
    "to_metadata_file(df_train.copy(), \"train\")\n",
    "to_metadata_file(df_test.copy(), \"test\")"
   ]
  },
  {
   "cell_type": "markdown",
   "metadata": {},
   "source": [
    "We can also upload our manifest files:"
   ]
  },
  {
   "cell_type": "code",
   "execution_count": 49,
   "metadata": {
    "execution": {
     "iopub.execute_input": "2025-06-14T18:34:40.726119Z",
     "iopub.status.busy": "2025-06-14T18:34:40.725858Z",
     "iopub.status.idle": "2025-06-14T18:34:41.091645Z",
     "shell.execute_reply": "2025-06-14T18:34:41.090468Z",
     "shell.execute_reply.started": "2025-06-14T18:34:40.726099Z"
    }
   },
   "outputs": [],
   "source": [
    "import boto3\n",
    "\n",
    "# Upload files\n",
    "boto3.Session().resource('s3').Bucket(\n",
    "    bucket).Object('train.lst').upload_file('./train.lst')\n",
    "boto3.Session().resource('s3').Bucket(\n",
    "    bucket).Object('test.lst').upload_file('./test.lst')"
   ]
  },
  {
   "cell_type": "markdown",
   "metadata": {},
   "source": [
    "Using the `bucket` and `region` info we can get the latest prebuilt container to run our training job, and define an output location on our s3 bucket for the model. Use the `image_uris` function from the SageMaker SDK to retrieve the latest `image-classification` image below:"
   ]
  },
  {
   "cell_type": "code",
   "execution_count": 50,
   "metadata": {
    "execution": {
     "iopub.execute_input": "2025-06-14T18:34:46.882279Z",
     "iopub.status.busy": "2025-06-14T18:34:46.881923Z",
     "iopub.status.idle": "2025-06-14T18:34:46.885792Z",
     "shell.execute_reply": "2025-06-14T18:34:46.884996Z",
     "shell.execute_reply.started": "2025-06-14T18:34:46.882254Z"
    }
   },
   "outputs": [],
   "source": [
    "\n",
    "import sagemaker\n",
    "import boto3\n"
   ]
  },
  {
   "cell_type": "code",
   "execution_count": 51,
   "metadata": {
    "execution": {
     "iopub.execute_input": "2025-06-14T18:34:47.822507Z",
     "iopub.status.busy": "2025-06-14T18:34:47.822019Z",
     "iopub.status.idle": "2025-06-14T18:34:48.744920Z",
     "shell.execute_reply": "2025-06-14T18:34:48.743381Z",
     "shell.execute_reply.started": "2025-06-14T18:34:47.822482Z"
    }
   },
   "outputs": [],
   "source": [
    "session=sagemaker.Session()\n",
    "bucket= session.default_bucket()\n",
    "region = session.boto_region_name\n",
    "role=sagemaker.get_execution_role()"
   ]
  },
  {
   "cell_type": "code",
   "execution_count": 52,
   "metadata": {
    "execution": {
     "iopub.execute_input": "2025-06-14T18:35:00.281243Z",
     "iopub.status.busy": "2025-06-14T18:35:00.280615Z",
     "iopub.status.idle": "2025-06-14T18:35:00.366139Z",
     "shell.execute_reply": "2025-06-14T18:35:00.365355Z",
     "shell.execute_reply.started": "2025-06-14T18:35:00.281216Z"
    }
   },
   "outputs": [],
   "source": [
    "# Use the image_uris function to retrieve the latest 'image-classification' image \n",
    "algo_image = sagemaker.image_uris.retrieve(\n",
    "    framework='image-classification',\n",
    "    region=region,\n",
    "    version='latest'\n",
    ") ## TODO: fill in\n",
    "s3_output_location =  f\"s3://{bucket}/project-2-scones-unlimited/models/image_model\""
   ]
  },
  {
   "cell_type": "markdown",
   "metadata": {},
   "source": [
    "We're ready to create an estimator! Create an estimator `img_classifier_model` that uses one instance of `ml.p3.2xlarge`. Ensure that y ou use the output location we defined above - we'll be referring to that later!"
   ]
  },
  {
   "cell_type": "code",
   "execution_count": 53,
   "metadata": {
    "execution": {
     "iopub.execute_input": "2025-06-14T18:35:08.467765Z",
     "iopub.status.busy": "2025-06-14T18:35:08.467087Z",
     "iopub.status.idle": "2025-06-14T18:35:08.579022Z",
     "shell.execute_reply": "2025-06-14T18:35:08.578296Z",
     "shell.execute_reply.started": "2025-06-14T18:35:08.467737Z"
    }
   },
   "outputs": [],
   "source": [
    "img_classifier_model=sagemaker.estimator.Estimator(\n",
    "    image_uri=algo_image,\n",
    "    role=role,\n",
    "    instance_count=1,\n",
    "    instance_type='ml.p3.2xlarge',\n",
    "    output_path=s3_output_location,\n",
    "    sagemaker_session=session\n",
    "    ## TODO: define your estimator options    \n",
    ")"
   ]
  },
  {
   "cell_type": "markdown",
   "metadata": {},
   "source": [
    "We can also set a few key hyperparameters and define the inputs for our model:"
   ]
  },
  {
   "cell_type": "code",
   "execution_count": 54,
   "metadata": {
    "execution": {
     "iopub.execute_input": "2025-06-14T18:35:20.928882Z",
     "iopub.status.busy": "2025-06-14T18:35:20.928516Z",
     "iopub.status.idle": "2025-06-14T18:35:20.932919Z",
     "shell.execute_reply": "2025-06-14T18:35:20.931993Z",
     "shell.execute_reply.started": "2025-06-14T18:35:20.928855Z"
    }
   },
   "outputs": [],
   "source": [
    "img_classifier_model.set_hyperparameters(\n",
    "    image_shape='3,32,32', # TODO: Fill in\n",
    "    num_classes=2, # TODO: Fill in\n",
    "    num_training_samples=len(df_train) # TODO: fill in\n",
    ")"
   ]
  },
  {
   "cell_type": "markdown",
   "metadata": {},
   "source": [
    "The `image-classification` image uses four input channels with very specific input parameters. For convenience, we've provided them below:"
   ]
  },
  {
   "cell_type": "code",
   "execution_count": 55,
   "metadata": {
    "execution": {
     "iopub.execute_input": "2025-06-14T18:35:28.829516Z",
     "iopub.status.busy": "2025-06-14T18:35:28.828515Z",
     "iopub.status.idle": "2025-06-14T18:35:28.834619Z",
     "shell.execute_reply": "2025-06-14T18:35:28.833873Z",
     "shell.execute_reply.started": "2025-06-14T18:35:28.829479Z"
    }
   },
   "outputs": [],
   "source": [
    "from sagemaker.debugger import Rule, rule_configs\n",
    "from sagemaker.session import TrainingInput\n",
    "model_inputs = {\n",
    "        \"train\": sagemaker.inputs.TrainingInput(\n",
    "            s3_data=f\"s3://{bucket}/train/\",\n",
    "            content_type=\"application/x-image\"\n",
    "        ),\n",
    "        \"validation\": sagemaker.inputs.TrainingInput(\n",
    "            s3_data=f\"s3://{bucket}/test/\",\n",
    "            content_type=\"application/x-image\"\n",
    "        ),\n",
    "        \"train_lst\": sagemaker.inputs.TrainingInput(\n",
    "            s3_data=f\"s3://{bucket}/train.lst\",\n",
    "            content_type=\"application/x-image\"\n",
    "        ),\n",
    "        \"validation_lst\": sagemaker.inputs.TrainingInput(\n",
    "            s3_data=f\"s3://{bucket}/test.lst\",\n",
    "            content_type=\"application/x-image\"\n",
    "        )\n",
    "}"
   ]
  },
  {
   "cell_type": "markdown",
   "metadata": {},
   "source": [
    "Great, now we can train the model using the model_inputs. In the cell below, call the `fit` method on our model,:"
   ]
  },
  {
   "cell_type": "code",
   "execution_count": 56,
   "metadata": {
    "execution": {
     "iopub.execute_input": "2025-06-14T18:35:57.488226Z",
     "iopub.status.busy": "2025-06-14T18:35:57.487526Z",
     "iopub.status.idle": "2025-06-14T18:44:48.662776Z",
     "shell.execute_reply": "2025-06-14T18:44:48.661992Z",
     "shell.execute_reply.started": "2025-06-14T18:35:57.488200Z"
    }
   },
   "outputs": [
    {
     "name": "stderr",
     "output_type": "stream",
     "text": [
      "INFO:sagemaker:Creating training-job with name: image-classification-2025-06-14-18-35-57-489\n"
     ]
    },
    {
     "name": "stdout",
     "output_type": "stream",
     "text": [
      "2025-06-14 18:35:58 Starting - Starting the training job\n",
      "2025-06-14 18:35:58 Pending - Training job waiting for capacity............\n",
      "2025-06-14 18:37:44 Pending - Preparing the instances for training...\n",
      "2025-06-14 18:38:14 Downloading - Downloading input data...\n",
      "2025-06-14 18:38:34 Downloading - Downloading the training image............\n",
      "2025-06-14 18:40:40 Training - Training image download completed. Training in progress..\u001b[34mDocker entrypoint called with argument(s): train\u001b[0m\n",
      "\u001b[34mRunning default environment configuration script\u001b[0m\n",
      "\u001b[34mNvidia gpu devices, drivers and cuda toolkit versions (only available on hosts with GPU):\u001b[0m\n",
      "\u001b[34mSat Jun 14 18:41:04 2025       \u001b[0m\n",
      "\u001b[34m+-----------------------------------------------------------------------------------------+\u001b[0m\n",
      "\u001b[34m| NVIDIA-SMI 550.163.01             Driver Version: 550.163.01     CUDA Version: 12.4     |\u001b[0m\n",
      "\u001b[34m|-----------------------------------------+------------------------+----------------------+\u001b[0m\n",
      "\u001b[34m| GPU  Name                 Persistence-M | Bus-Id          Disp.A | Volatile Uncorr. ECC |\u001b[0m\n",
      "\u001b[34m| Fan  Temp   Perf          Pwr:Usage/Cap |           Memory-Usage | GPU-Util  Compute M. |\u001b[0m\n",
      "\u001b[34m|                                         |                        |               MIG M. |\u001b[0m\n",
      "\u001b[34m|=========================================+========================+======================|\u001b[0m\n",
      "\u001b[34m|   0  Tesla V100-SXM2-16GB           On  |   00000000:00:1E.0 Off |                    0 |\u001b[0m\n",
      "\u001b[34m| N/A   34C    P0             24W /  300W |       1MiB /  16384MiB |      0%      Default |\u001b[0m\n",
      "\u001b[34m|                                         |                        |                  N/A |\u001b[0m\n",
      "\u001b[34m+-----------------------------------------+------------------------+----------------------+\n",
      "                                                                                         \u001b[0m\n",
      "\u001b[34m+-----------------------------------------------------------------------------------------+\u001b[0m\n",
      "\u001b[34m| Processes:                                                                              |\u001b[0m\n",
      "\u001b[34m|  GPU   GI   CI        PID   Type   Process name                              GPU Memory |\u001b[0m\n",
      "\u001b[34m|        ID   ID                                                               Usage      |\u001b[0m\n",
      "\u001b[34m|=========================================================================================|\u001b[0m\n",
      "\u001b[34m|  No running processes found                                                             |\u001b[0m\n",
      "\u001b[34m+-----------------------------------------------------------------------------------------+\u001b[0m\n",
      "\u001b[34mChecking for nvidia driver and cuda compatibility.\u001b[0m\n",
      "\u001b[34mCUDA Compatibility driver provided.\u001b[0m\n",
      "\u001b[34mProceeding with compatibility check between driver, cuda-toolkit and cuda-compat.\u001b[0m\n",
      "\u001b[34mDetected cuda-toolkit version: 11.1.\u001b[0m\n",
      "\u001b[34mDetected cuda-compat version: 455.32.00.\u001b[0m\n",
      "\u001b[34mDetected Nvidia driver version: 550.163.01.\u001b[0m\n",
      "\u001b[34mNvidia driver compatible with cuda-toolkit. Disabling cuda-compat.\u001b[0m\n",
      "\u001b[34m/opt/amazon/lib/python3.8/site-packages/mxnet/model.py:97: SyntaxWarning: \"is\" with a literal. Did you mean \"==\"?\n",
      "  if num_device is 1 and 'dist' not in kvstore:\u001b[0m\n",
      "\u001b[34m[06/14/2025 18:41:07 INFO 140677902587712] Reading default configuration from /opt/amazon/lib/python3.8/site-packages/image_classification/default-input.json: {'use_pretrained_model': 0, 'num_layers': 152, 'epochs': 30, 'learning_rate': 0.1, 'lr_scheduler_factor': 0.1, 'optimizer': 'sgd', 'momentum': 0, 'weight_decay': 0.0001, 'beta_1': 0.9, 'beta_2': 0.999, 'eps': 1e-08, 'gamma': 0.9, 'mini_batch_size': 32, 'image_shape': '3,224,224', 'precision_dtype': 'float32'}\u001b[0m\n",
      "\u001b[34m[06/14/2025 18:41:07 INFO 140677902587712] Merging with provided configuration from /opt/ml/input/config/hyperparameters.json: {'image_shape': '3,32,32', 'num_classes': '2', 'num_training_samples': '1000'}\u001b[0m\n",
      "\u001b[34m[06/14/2025 18:41:07 INFO 140677902587712] Final configuration: {'use_pretrained_model': 0, 'num_layers': 152, 'epochs': 30, 'learning_rate': 0.1, 'lr_scheduler_factor': 0.1, 'optimizer': 'sgd', 'momentum': 0, 'weight_decay': 0.0001, 'beta_1': 0.9, 'beta_2': 0.999, 'eps': 1e-08, 'gamma': 0.9, 'mini_batch_size': 32, 'image_shape': '3,32,32', 'precision_dtype': 'float32', 'num_classes': '2', 'num_training_samples': '1000'}\u001b[0m\n",
      "\u001b[34m[06/14/2025 18:41:07 INFO 140677902587712] Searching for .lst files in /opt/ml/input/data/train_lst.\u001b[0m\n",
      "\u001b[34m[06/14/2025 18:41:07 INFO 140677902587712] Creating record files for train.lst\u001b[0m\n",
      "\u001b[34m[06/14/2025 18:41:08 INFO 140677902587712] Done creating record files...\u001b[0m\n",
      "\u001b[34m[06/14/2025 18:41:08 INFO 140677902587712] Searching for .lst files in /opt/ml/input/data/validation_lst.\u001b[0m\n",
      "\u001b[34m[06/14/2025 18:41:08 INFO 140677902587712] Creating record files for test.lst\u001b[0m\n",
      "\u001b[34m[06/14/2025 18:41:08 INFO 140677902587712] Done creating record files...\u001b[0m\n",
      "\u001b[34m[06/14/2025 18:41:08 INFO 140677902587712] use_pretrained_model: 0\u001b[0m\n",
      "\u001b[34m[06/14/2025 18:41:08 INFO 140677902587712] multi_label: 0\u001b[0m\n",
      "\u001b[34m[06/14/2025 18:41:08 INFO 140677902587712] Performing random weight initialization\u001b[0m\n",
      "\u001b[34m[06/14/2025 18:41:08 INFO 140677902587712] ---- Parameters ----\u001b[0m\n",
      "\u001b[34m[06/14/2025 18:41:08 INFO 140677902587712] num_layers: 152\u001b[0m\n",
      "\u001b[34m[06/14/2025 18:41:08 INFO 140677902587712] data type: <class 'numpy.float32'>\u001b[0m\n",
      "\u001b[34m[06/14/2025 18:41:08 INFO 140677902587712] epochs: 30\u001b[0m\n",
      "\u001b[34m[06/14/2025 18:41:08 INFO 140677902587712] optimizer: sgd\u001b[0m\n",
      "\u001b[34m[06/14/2025 18:41:08 INFO 140677902587712] momentum: 0.9\u001b[0m\n",
      "\u001b[34m[06/14/2025 18:41:08 INFO 140677902587712] weight_decay: 0.0001\u001b[0m\n",
      "\u001b[34m[06/14/2025 18:41:08 INFO 140677902587712] learning_rate: 0.1\u001b[0m\n",
      "\u001b[34m[06/14/2025 18:41:08 INFO 140677902587712] num_training_samples: 1000\u001b[0m\n",
      "\u001b[34m[06/14/2025 18:41:08 INFO 140677902587712] mini_batch_size: 32\u001b[0m\n",
      "\u001b[34m[06/14/2025 18:41:08 INFO 140677902587712] image_shape: 3,32,32\u001b[0m\n",
      "\u001b[34m[06/14/2025 18:41:08 INFO 140677902587712] num_classes: 2\u001b[0m\n",
      "\u001b[34m[06/14/2025 18:41:08 INFO 140677902587712] augmentation_type: None\u001b[0m\n",
      "\u001b[34m[06/14/2025 18:41:08 INFO 140677902587712] kv_store: device\u001b[0m\n",
      "\u001b[34m[06/14/2025 18:41:08 INFO 140677902587712] checkpoint_frequency not set, will store the best model\u001b[0m\n",
      "\u001b[34m[06/14/2025 18:41:08 INFO 140677902587712] --------------------\u001b[0m\n",
      "\u001b[34m/opt/amazon/python3.8/lib/python3.8/subprocess.py:848: RuntimeWarning: line buffering (buffering=1) isn't supported in binary mode, the default buffer size will be used\n",
      "  self.stdout = io.open(c2pread, 'rb', bufsize)\u001b[0m\n",
      "\u001b[34m[06/14/2025 18:41:08 INFO 140677902587712] Setting number of threads: 7\u001b[0m\n",
      "\u001b[34m[18:41:11] /opt/brazil-pkg-cache/packages/AIAlgorithmsMXNet/AIAlgorithmsMXNet-1.4.x_ecl_Cuda_11.1.x.441.0/AL2_x86_64/generic-flavor/src/src/operator/nn/./cudnn/./cudnn_algoreg-inl.h:97: Running performance tests to find the best convolution algorithm, this can take a while... (setting env variable MXNET_CUDNN_AUTOTUNE_DEFAULT to 0 to disable)\u001b[0m\n",
      "\u001b[34m[06/14/2025 18:41:16 INFO 140677902587712] Epoch[0] Batch [20]#011Speed: 124.764 samples/sec#011accuracy=0.569940\u001b[0m\n",
      "\u001b[34m[06/14/2025 18:41:18 INFO 140677902587712] Epoch[0] Train-accuracy=0.586694\u001b[0m\n",
      "\u001b[34m[06/14/2025 18:41:18 INFO 140677902587712] Epoch[0] Time cost=6.741\u001b[0m\n",
      "\u001b[34m[06/14/2025 18:41:18 INFO 140677902587712] Epoch[0] Validation-accuracy=0.505208\u001b[0m\n",
      "\u001b[34m[06/14/2025 18:41:19 INFO 140677902587712] Storing the best model with validation accuracy: 0.505208\u001b[0m\n",
      "\u001b[34m[06/14/2025 18:41:19 INFO 140677902587712] Saved checkpoint to \"/opt/ml/model/image-classification-0001.params\"\u001b[0m\n",
      "\u001b[34m[06/14/2025 18:41:22 INFO 140677902587712] Epoch[1] Batch [20]#011Speed: 188.422 samples/sec#011accuracy=0.546131\u001b[0m\n",
      "\u001b[34m[06/14/2025 18:41:24 INFO 140677902587712] Epoch[1] Train-accuracy=0.529234\u001b[0m\n",
      "\u001b[34m[06/14/2025 18:41:24 INFO 140677902587712] Epoch[1] Time cost=5.028\u001b[0m\n",
      "\u001b[34m[06/14/2025 18:41:24 INFO 140677902587712] Epoch[1] Validation-accuracy=0.494792\u001b[0m\n",
      "\u001b[34m[06/14/2025 18:41:28 INFO 140677902587712] Epoch[2] Batch [20]#011Speed: 191.760 samples/sec#011accuracy=0.523810\u001b[0m\n",
      "\u001b[34m[06/14/2025 18:41:30 INFO 140677902587712] Epoch[2] Train-accuracy=0.542339\u001b[0m\n",
      "\u001b[34m[06/14/2025 18:41:30 INFO 140677902587712] Epoch[2] Time cost=4.959\u001b[0m\n",
      "\u001b[34m[06/14/2025 18:41:30 INFO 140677902587712] Epoch[2] Validation-accuracy=0.541667\u001b[0m\n",
      "\u001b[34m[06/14/2025 18:41:31 INFO 140677902587712] Storing the best model with validation accuracy: 0.541667\u001b[0m\n",
      "\u001b[34m[06/14/2025 18:41:31 INFO 140677902587712] Saved checkpoint to \"/opt/ml/model/image-classification-0003.params\"\u001b[0m\n",
      "\u001b[34m[06/14/2025 18:41:34 INFO 140677902587712] Epoch[3] Batch [20]#011Speed: 195.934 samples/sec#011accuracy=0.550595\u001b[0m\n",
      "\u001b[34m[06/14/2025 18:41:36 INFO 140677902587712] Epoch[3] Train-accuracy=0.559476\u001b[0m\n",
      "\u001b[34m[06/14/2025 18:41:36 INFO 140677902587712] Epoch[3] Time cost=4.876\u001b[0m\n",
      "\u001b[34m[06/14/2025 18:41:36 INFO 140677902587712] Epoch[3] Validation-accuracy=0.477679\u001b[0m\n",
      "\u001b[34m[06/14/2025 18:41:40 INFO 140677902587712] Epoch[4] Batch [20]#011Speed: 193.032 samples/sec#011accuracy=0.558036\u001b[0m\n",
      "\u001b[34m[06/14/2025 18:41:42 INFO 140677902587712] Epoch[4] Train-accuracy=0.555444\u001b[0m\n",
      "\u001b[34m[06/14/2025 18:41:42 INFO 140677902587712] Epoch[4] Time cost=4.955\u001b[0m\n",
      "\u001b[34m[06/14/2025 18:41:42 INFO 140677902587712] Epoch[4] Validation-accuracy=0.609375\u001b[0m\n",
      "\u001b[34m[06/14/2025 18:41:43 INFO 140677902587712] Storing the best model with validation accuracy: 0.609375\u001b[0m\n",
      "\u001b[34m[06/14/2025 18:41:43 INFO 140677902587712] Saved checkpoint to \"/opt/ml/model/image-classification-0005.params\"\u001b[0m\n",
      "\u001b[34m[06/14/2025 18:41:46 INFO 140677902587712] Epoch[5] Batch [20]#011Speed: 194.668 samples/sec#011accuracy=0.668155\u001b[0m\n",
      "\u001b[34m[06/14/2025 18:41:48 INFO 140677902587712] Epoch[5] Train-accuracy=0.671371\u001b[0m\n",
      "\u001b[34m[06/14/2025 18:41:48 INFO 140677902587712] Epoch[5] Time cost=4.889\u001b[0m\n",
      "\u001b[34m[06/14/2025 18:41:48 INFO 140677902587712] Epoch[5] Validation-accuracy=0.718750\u001b[0m\n",
      "\u001b[34m[06/14/2025 18:41:49 INFO 140677902587712] Storing the best model with validation accuracy: 0.718750\u001b[0m\n",
      "\u001b[34m[06/14/2025 18:41:49 INFO 140677902587712] Saved checkpoint to \"/opt/ml/model/image-classification-0006.params\"\u001b[0m\n",
      "\u001b[34m[06/14/2025 18:41:52 INFO 140677902587712] Epoch[6] Batch [20]#011Speed: 194.187 samples/sec#011accuracy=0.754464\u001b[0m\n",
      "\u001b[34m[06/14/2025 18:41:54 INFO 140677902587712] Epoch[6] Train-accuracy=0.741935\u001b[0m\n",
      "\u001b[34m[06/14/2025 18:41:54 INFO 140677902587712] Epoch[6] Time cost=4.918\u001b[0m\n",
      "\u001b[34m[06/14/2025 18:41:54 INFO 140677902587712] Epoch[6] Validation-accuracy=0.739583\u001b[0m\n",
      "\u001b[34m[06/14/2025 18:41:55 INFO 140677902587712] Storing the best model with validation accuracy: 0.739583\u001b[0m\n",
      "\u001b[34m[06/14/2025 18:41:55 INFO 140677902587712] Saved checkpoint to \"/opt/ml/model/image-classification-0007.params\"\u001b[0m\n",
      "\u001b[34m[06/14/2025 18:41:58 INFO 140677902587712] Epoch[7] Batch [20]#011Speed: 194.291 samples/sec#011accuracy=0.708333\u001b[0m\n",
      "\u001b[34m[06/14/2025 18:42:00 INFO 140677902587712] Epoch[7] Train-accuracy=0.730847\u001b[0m\n",
      "\u001b[34m[06/14/2025 18:42:00 INFO 140677902587712] Epoch[7] Time cost=4.899\u001b[0m\n",
      "\u001b[34m[06/14/2025 18:42:01 INFO 140677902587712] Epoch[7] Validation-accuracy=0.732143\u001b[0m\n",
      "\u001b[34m[06/14/2025 18:42:04 INFO 140677902587712] Epoch[8] Batch [20]#011Speed: 190.919 samples/sec#011accuracy=0.770833\u001b[0m\n",
      "\u001b[34m[06/14/2025 18:42:06 INFO 140677902587712] Epoch[8] Train-accuracy=0.768145\u001b[0m\n",
      "\u001b[34m[06/14/2025 18:42:06 INFO 140677902587712] Epoch[8] Time cost=5.010\u001b[0m\n",
      "\u001b[34m[06/14/2025 18:42:06 INFO 140677902587712] Epoch[8] Validation-accuracy=0.807292\u001b[0m\n",
      "\u001b[34m[06/14/2025 18:42:07 INFO 140677902587712] Storing the best model with validation accuracy: 0.807292\u001b[0m\n",
      "\u001b[34m[06/14/2025 18:42:07 INFO 140677902587712] Saved checkpoint to \"/opt/ml/model/image-classification-0009.params\"\u001b[0m\n",
      "\u001b[34m[06/14/2025 18:42:10 INFO 140677902587712] Epoch[9] Batch [20]#011Speed: 195.438 samples/sec#011accuracy=0.776786\u001b[0m\n",
      "\u001b[34m[06/14/2025 18:42:12 INFO 140677902587712] Epoch[9] Train-accuracy=0.778226\u001b[0m\n",
      "\u001b[34m[06/14/2025 18:42:12 INFO 140677902587712] Epoch[9] Time cost=4.884\u001b[0m\n",
      "\u001b[34m[06/14/2025 18:42:12 INFO 140677902587712] Epoch[9] Validation-accuracy=0.755208\u001b[0m\n",
      "\u001b[34m[06/14/2025 18:42:16 INFO 140677902587712] Epoch[10] Batch [20]#011Speed: 193.161 samples/sec#011accuracy=0.790179\u001b[0m\n",
      "\u001b[34m[06/14/2025 18:42:18 INFO 140677902587712] Epoch[10] Train-accuracy=0.797379\u001b[0m\n",
      "\u001b[34m[06/14/2025 18:42:18 INFO 140677902587712] Epoch[10] Time cost=4.947\u001b[0m\n",
      "\u001b[34m[06/14/2025 18:42:18 INFO 140677902587712] Epoch[10] Validation-accuracy=0.776042\u001b[0m\n",
      "\u001b[34m[06/14/2025 18:42:22 INFO 140677902587712] Epoch[11] Batch [20]#011Speed: 195.858 samples/sec#011accuracy=0.796131\u001b[0m\n",
      "\u001b[34m[06/14/2025 18:42:24 INFO 140677902587712] Epoch[11] Train-accuracy=0.785282\u001b[0m\n",
      "\u001b[34m[06/14/2025 18:42:24 INFO 140677902587712] Epoch[11] Time cost=4.910\u001b[0m\n",
      "\u001b[34m[06/14/2025 18:42:24 INFO 140677902587712] Epoch[11] Validation-accuracy=0.758929\u001b[0m\n",
      "\u001b[34m[06/14/2025 18:42:28 INFO 140677902587712] Epoch[12] Batch [20]#011Speed: 193.230 samples/sec#011accuracy=0.831845\u001b[0m\n",
      "\u001b[34m[06/14/2025 18:42:30 INFO 140677902587712] Epoch[12] Train-accuracy=0.827621\u001b[0m\n",
      "\u001b[34m[06/14/2025 18:42:30 INFO 140677902587712] Epoch[12] Time cost=4.917\u001b[0m\n",
      "\u001b[34m[06/14/2025 18:42:30 INFO 140677902587712] Epoch[12] Validation-accuracy=0.833333\u001b[0m\n",
      "\u001b[34m[06/14/2025 18:42:30 INFO 140677902587712] Storing the best model with validation accuracy: 0.833333\u001b[0m\n",
      "\u001b[34m[06/14/2025 18:42:31 INFO 140677902587712] Saved checkpoint to \"/opt/ml/model/image-classification-0013.params\"\u001b[0m\n",
      "\u001b[34m[06/14/2025 18:42:34 INFO 140677902587712] Epoch[13] Batch [20]#011Speed: 196.693 samples/sec#011accuracy=0.830357\u001b[0m\n",
      "\u001b[34m[06/14/2025 18:42:36 INFO 140677902587712] Epoch[13] Train-accuracy=0.831653\u001b[0m\n",
      "\u001b[34m[06/14/2025 18:42:36 INFO 140677902587712] Epoch[13] Time cost=4.863\u001b[0m\n",
      "\u001b[34m[06/14/2025 18:42:36 INFO 140677902587712] Epoch[13] Validation-accuracy=0.828125\u001b[0m\n",
      "\u001b[34m[06/14/2025 18:42:40 INFO 140677902587712] Epoch[14] Batch [20]#011Speed: 193.952 samples/sec#011accuracy=0.815476\u001b[0m\n",
      "\u001b[34m[06/14/2025 18:42:41 INFO 140677902587712] Epoch[14] Train-accuracy=0.818548\u001b[0m\n",
      "\u001b[34m[06/14/2025 18:42:41 INFO 140677902587712] Epoch[14] Time cost=4.916\u001b[0m\n",
      "\u001b[34m[06/14/2025 18:42:42 INFO 140677902587712] Epoch[14] Validation-accuracy=0.838542\u001b[0m\n",
      "\u001b[34m[06/14/2025 18:42:42 INFO 140677902587712] Storing the best model with validation accuracy: 0.838542\u001b[0m\n",
      "\u001b[34m[06/14/2025 18:42:43 INFO 140677902587712] Saved checkpoint to \"/opt/ml/model/image-classification-0015.params\"\u001b[0m\n",
      "\u001b[34m[06/14/2025 18:42:46 INFO 140677902587712] Epoch[15] Batch [20]#011Speed: 195.557 samples/sec#011accuracy=0.831845\u001b[0m\n",
      "\u001b[34m[06/14/2025 18:42:47 INFO 140677902587712] Epoch[15] Train-accuracy=0.833669\u001b[0m\n",
      "\u001b[34m[06/14/2025 18:42:47 INFO 140677902587712] Epoch[15] Time cost=4.889\u001b[0m\n",
      "\u001b[34m[06/14/2025 18:42:48 INFO 140677902587712] Epoch[15] Validation-accuracy=0.808036\u001b[0m\n",
      "\u001b[34m[06/14/2025 18:42:52 INFO 140677902587712] Epoch[16] Batch [20]#011Speed: 192.469 samples/sec#011accuracy=0.867560\u001b[0m\n",
      "\u001b[34m[06/14/2025 18:42:53 INFO 140677902587712] Epoch[16] Train-accuracy=0.849798\u001b[0m\n",
      "\u001b[34m[06/14/2025 18:42:53 INFO 140677902587712] Epoch[16] Time cost=4.927\u001b[0m\n",
      "\u001b[34m[06/14/2025 18:42:54 INFO 140677902587712] Epoch[16] Validation-accuracy=0.786458\u001b[0m\n",
      "\u001b[34m[06/14/2025 18:42:57 INFO 140677902587712] Epoch[17] Batch [20]#011Speed: 194.455 samples/sec#011accuracy=0.854167\u001b[0m\n",
      "\u001b[34m[06/14/2025 18:42:59 INFO 140677902587712] Epoch[17] Train-accuracy=0.856855\u001b[0m\n",
      "\u001b[34m[06/14/2025 18:42:59 INFO 140677902587712] Epoch[17] Time cost=4.906\u001b[0m\n",
      "\u001b[34m[06/14/2025 18:43:00 INFO 140677902587712] Epoch[17] Validation-accuracy=0.791667\u001b[0m\n",
      "\u001b[34m[06/14/2025 18:43:03 INFO 140677902587712] Epoch[18] Batch [20]#011Speed: 193.864 samples/sec#011accuracy=0.833333\u001b[0m\n",
      "\u001b[34m[06/14/2025 18:43:05 INFO 140677902587712] Epoch[18] Train-accuracy=0.842742\u001b[0m\n",
      "\u001b[34m[06/14/2025 18:43:05 INFO 140677902587712] Epoch[18] Time cost=4.922\u001b[0m\n",
      "\u001b[34m[06/14/2025 18:43:05 INFO 140677902587712] Epoch[18] Validation-accuracy=0.833333\u001b[0m\n",
      "\u001b[34m[06/14/2025 18:43:09 INFO 140677902587712] Epoch[19] Batch [20]#011Speed: 194.808 samples/sec#011accuracy=0.869048\u001b[0m\n",
      "\u001b[34m[06/14/2025 18:43:11 INFO 140677902587712] Epoch[19] Train-accuracy=0.863911\u001b[0m\n",
      "\u001b[34m[06/14/2025 18:43:11 INFO 140677902587712] Epoch[19] Time cost=4.893\u001b[0m\n",
      "\u001b[34m[06/14/2025 18:43:11 INFO 140677902587712] Epoch[19] Validation-accuracy=0.821429\u001b[0m\n",
      "\u001b[34m[06/14/2025 18:43:15 INFO 140677902587712] Epoch[20] Batch [20]#011Speed: 193.720 samples/sec#011accuracy=0.870536\u001b[0m\n",
      "\u001b[34m[06/14/2025 18:43:17 INFO 140677902587712] Epoch[20] Train-accuracy=0.870968\u001b[0m\n",
      "\u001b[34m[06/14/2025 18:43:17 INFO 140677902587712] Epoch[20] Time cost=4.925\u001b[0m\n",
      "\u001b[34m[06/14/2025 18:43:17 INFO 140677902587712] Epoch[20] Validation-accuracy=0.812500\u001b[0m\n",
      "\u001b[34m[06/14/2025 18:43:21 INFO 140677902587712] Epoch[21] Batch [20]#011Speed: 194.167 samples/sec#011accuracy=0.867560\u001b[0m\n",
      "\u001b[34m[06/14/2025 18:43:22 INFO 140677902587712] Epoch[21] Train-accuracy=0.865927\u001b[0m\n",
      "\u001b[34m[06/14/2025 18:43:22 INFO 140677902587712] Epoch[21] Time cost=4.910\u001b[0m\n",
      "\u001b[34m[06/14/2025 18:43:23 INFO 140677902587712] Epoch[21] Validation-accuracy=0.843750\u001b[0m\n",
      "\u001b[34m[06/14/2025 18:43:23 INFO 140677902587712] Storing the best model with validation accuracy: 0.843750\u001b[0m\n",
      "\u001b[34m[06/14/2025 18:43:24 INFO 140677902587712] Saved checkpoint to \"/opt/ml/model/image-classification-0022.params\"\u001b[0m\n",
      "\u001b[34m[06/14/2025 18:43:27 INFO 140677902587712] Epoch[22] Batch [20]#011Speed: 194.349 samples/sec#011accuracy=0.898810\u001b[0m\n",
      "\u001b[34m[06/14/2025 18:43:29 INFO 140677902587712] Epoch[22] Train-accuracy=0.892137\u001b[0m\n",
      "\u001b[34m[06/14/2025 18:43:29 INFO 140677902587712] Epoch[22] Time cost=4.954\u001b[0m\n",
      "\u001b[34m[06/14/2025 18:43:29 INFO 140677902587712] Epoch[22] Validation-accuracy=0.838542\u001b[0m\n",
      "\u001b[34m[06/14/2025 18:43:33 INFO 140677902587712] Epoch[23] Batch [20]#011Speed: 194.761 samples/sec#011accuracy=0.916667\u001b[0m\n",
      "\u001b[34m[06/14/2025 18:43:34 INFO 140677902587712] Epoch[23] Train-accuracy=0.905242\u001b[0m\n",
      "\u001b[34m[06/14/2025 18:43:34 INFO 140677902587712] Epoch[23] Time cost=4.893\u001b[0m\n",
      "\u001b[34m[06/14/2025 18:43:35 INFO 140677902587712] Epoch[23] Validation-accuracy=0.736607\u001b[0m\n",
      "\u001b[34m[06/14/2025 18:43:39 INFO 140677902587712] Epoch[24] Batch [20]#011Speed: 195.405 samples/sec#011accuracy=0.903274\u001b[0m\n",
      "\u001b[34m[06/14/2025 18:43:40 INFO 140677902587712] Epoch[24] Train-accuracy=0.912298\u001b[0m\n",
      "\u001b[34m[06/14/2025 18:43:40 INFO 140677902587712] Epoch[24] Time cost=4.886\u001b[0m\n",
      "\u001b[34m[06/14/2025 18:43:41 INFO 140677902587712] Epoch[24] Validation-accuracy=0.807292\u001b[0m\n",
      "\u001b[34m[06/14/2025 18:43:44 INFO 140677902587712] Epoch[25] Batch [20]#011Speed: 193.368 samples/sec#011accuracy=0.912202\u001b[0m\n",
      "\u001b[34m[06/14/2025 18:43:46 INFO 140677902587712] Epoch[25] Train-accuracy=0.907258\u001b[0m\n",
      "\u001b[34m[06/14/2025 18:43:46 INFO 140677902587712] Epoch[25] Time cost=4.911\u001b[0m\n",
      "\u001b[34m[06/14/2025 18:43:46 INFO 140677902587712] Epoch[25] Validation-accuracy=0.796875\u001b[0m\n",
      "\u001b[34m[06/14/2025 18:43:50 INFO 140677902587712] Epoch[26] Batch [20]#011Speed: 195.914 samples/sec#011accuracy=0.904762\u001b[0m\n",
      "\u001b[34m[06/14/2025 18:43:52 INFO 140677902587712] Epoch[26] Train-accuracy=0.907258\u001b[0m\n",
      "\u001b[34m[06/14/2025 18:43:52 INFO 140677902587712] Epoch[26] Time cost=4.873\u001b[0m\n",
      "\u001b[34m[06/14/2025 18:43:52 INFO 140677902587712] Epoch[26] Validation-accuracy=0.822917\u001b[0m\n",
      "\u001b[34m[06/14/2025 18:43:56 INFO 140677902587712] Epoch[27] Batch [20]#011Speed: 193.799 samples/sec#011accuracy=0.933036\u001b[0m\n",
      "\u001b[34m[06/14/2025 18:43:58 INFO 140677902587712] Epoch[27] Train-accuracy=0.922379\u001b[0m\n",
      "\u001b[34m[06/14/2025 18:43:58 INFO 140677902587712] Epoch[27] Time cost=4.912\u001b[0m\n",
      "\u001b[34m[06/14/2025 18:43:58 INFO 140677902587712] Epoch[27] Validation-accuracy=0.803571\u001b[0m\n",
      "\u001b[34m[06/14/2025 18:44:02 INFO 140677902587712] Epoch[28] Batch [20]#011Speed: 193.091 samples/sec#011accuracy=0.931548\u001b[0m\n",
      "\u001b[34m[06/14/2025 18:44:04 INFO 140677902587712] Epoch[28] Train-accuracy=0.929435\u001b[0m\n",
      "\u001b[34m[06/14/2025 18:44:04 INFO 140677902587712] Epoch[28] Time cost=4.913\u001b[0m\n",
      "\u001b[34m[06/14/2025 18:44:04 INFO 140677902587712] Epoch[28] Validation-accuracy=0.843750\u001b[0m\n",
      "\u001b[34m[06/14/2025 18:44:08 INFO 140677902587712] Epoch[29] Batch [20]#011Speed: 194.459 samples/sec#011accuracy=0.952381\u001b[0m\n",
      "\u001b[34m[06/14/2025 18:44:09 INFO 140677902587712] Epoch[29] Train-accuracy=0.940524\u001b[0m\n",
      "\u001b[34m[06/14/2025 18:44:09 INFO 140677902587712] Epoch[29] Time cost=4.928\u001b[0m\n",
      "\u001b[34m[06/14/2025 18:44:10 INFO 140677902587712] Epoch[29] Validation-accuracy=0.807292\u001b[0m\n",
      "\n",
      "2025-06-14 18:44:34 Uploading - Uploading generated training model\n",
      "2025-06-14 18:44:34 Completed - Training job completed\n",
      "Training seconds: 381\n",
      "Billable seconds: 381\n"
     ]
    }
   ],
   "source": [
    "## TODO: train your model\n",
    "img_classifier_model.fit(model_inputs)"
   ]
  },
  {
   "cell_type": "markdown",
   "metadata": {},
   "source": [
    "If all goes well, you'll end up with a model topping out above `.8` validation accuracy. With only 1000 training samples in the CIFAR dataset, that's pretty good. We could definitely pursue data augmentation & gathering more samples to help us improve further, but for now let's proceed to deploy our model.\n",
    "\n",
    "### Getting ready to deploy\n",
    "\n",
    "To begin with, let's configure Model Monitor to track our deployment. We'll define a `DataCaptureConfig` below:"
   ]
  },
  {
   "cell_type": "code",
   "execution_count": 57,
   "metadata": {
    "execution": {
     "iopub.execute_input": "2025-06-14T18:52:57.980937Z",
     "iopub.status.busy": "2025-06-14T18:52:57.980573Z",
     "iopub.status.idle": "2025-06-14T18:52:57.984210Z",
     "shell.execute_reply": "2025-06-14T18:52:57.983322Z",
     "shell.execute_reply.started": "2025-06-14T18:52:57.980914Z"
    }
   },
   "outputs": [],
   "source": [
    "prefix='project-2-scones-unlimited'"
   ]
  },
  {
   "cell_type": "code",
   "execution_count": 59,
   "metadata": {
    "execution": {
     "iopub.execute_input": "2025-06-14T18:56:00.168169Z",
     "iopub.status.busy": "2025-06-14T18:56:00.167526Z",
     "iopub.status.idle": "2025-06-14T18:56:00.225670Z",
     "shell.execute_reply": "2025-06-14T18:56:00.224722Z",
     "shell.execute_reply.started": "2025-06-14T18:56:00.168144Z"
    }
   },
   "outputs": [],
   "source": [
    "from sagemaker.model_monitor import DataCaptureConfig\n",
    "\n",
    "data_capture_config = DataCaptureConfig(\n",
    "    ## TODO: Set config options\n",
    "    enable_capture=True,\n",
    "    sampling_percentage=100,\n",
    "    destination_s3_uri=f\"s3://{bucket}/{prefix}/data_capture\"\n",
    ")"
   ]
  },
  {
   "cell_type": "markdown",
   "metadata": {},
   "source": [
    "Note the `destination_s3_uri` parameter: At the end of the project, we can explore the `data_capture` directory in S3 to find crucial data about the inputs and outputs Model Monitor has observed on our model endpoint over time.\n",
    "\n",
    "With that done, deploy your model on a single `ml.m5.xlarge` instance with the data capture config attached:"
   ]
  },
  {
   "cell_type": "code",
   "execution_count": 60,
   "metadata": {
    "execution": {
     "iopub.execute_input": "2025-06-14T18:56:47.042630Z",
     "iopub.status.busy": "2025-06-14T18:56:47.042255Z",
     "iopub.status.idle": "2025-06-14T19:01:49.910915Z",
     "shell.execute_reply": "2025-06-14T19:01:49.910252Z",
     "shell.execute_reply.started": "2025-06-14T18:56:47.042606Z"
    }
   },
   "outputs": [
    {
     "name": "stderr",
     "output_type": "stream",
     "text": [
      "INFO:sagemaker:Creating model with name: image-classification-2025-06-14-18-56-47-043\n",
      "INFO:sagemaker:Creating endpoint-config with name image-classification-2025-06-14-18-56-47-043\n",
      "INFO:sagemaker:Creating endpoint with name image-classification-2025-06-14-18-56-47-043\n"
     ]
    },
    {
     "name": "stdout",
     "output_type": "stream",
     "text": [
      "---------!image-classification-2025-06-14-18-56-47-043\n"
     ]
    }
   ],
   "source": [
    "deployment = img_classifier_model.deploy(\n",
    "    ## TODO: fill in deployment options\n",
    "    initial_instance_count=1,\n",
    "    instance_type='ml.m5.xlarge',\n",
    "    data_capture_config=data_capture_config\n",
    "    )\n",
    "\n",
    "endpoint = deployment.endpoint_name\n",
    "print(endpoint)"
   ]
  },
  {
   "cell_type": "markdown",
   "metadata": {},
   "source": [
    "Note the endpoint name for later as well.\n",
    "\n",
    "Next, instantiate a Predictor:"
   ]
  },
  {
   "cell_type": "code",
   "execution_count": 61,
   "metadata": {
    "execution": {
     "iopub.execute_input": "2025-06-14T19:02:34.275366Z",
     "iopub.status.busy": "2025-06-14T19:02:34.274503Z",
     "iopub.status.idle": "2025-06-14T19:02:34.278264Z",
     "shell.execute_reply": "2025-06-14T19:02:34.277689Z",
     "shell.execute_reply.started": "2025-06-14T19:02:34.275331Z"
    }
   },
   "outputs": [],
   "source": [
    "from sagemaker.predictor import Predictor"
   ]
  },
  {
   "cell_type": "code",
   "execution_count": 62,
   "metadata": {
    "execution": {
     "iopub.execute_input": "2025-06-14T19:02:39.465166Z",
     "iopub.status.busy": "2025-06-14T19:02:39.464605Z",
     "iopub.status.idle": "2025-06-14T19:02:39.491853Z",
     "shell.execute_reply": "2025-06-14T19:02:39.490842Z",
     "shell.execute_reply.started": "2025-06-14T19:02:39.465136Z"
    }
   },
   "outputs": [],
   "source": [
    "predictor = Predictor(endpoint_name = endpoint) ## TODO: fill in"
   ]
  },
  {
   "cell_type": "markdown",
   "metadata": {},
   "source": [
    "In the code snippet below we are going to prepare one of your saved images for prediction. Use the predictor to process the `payload`."
   ]
  },
  {
   "cell_type": "code",
   "execution_count": 63,
   "metadata": {
    "execution": {
     "iopub.execute_input": "2025-06-14T19:02:51.221360Z",
     "iopub.status.busy": "2025-06-14T19:02:51.220747Z",
     "iopub.status.idle": "2025-06-14T19:02:51.559393Z",
     "shell.execute_reply": "2025-06-14T19:02:51.558466Z",
     "shell.execute_reply.started": "2025-06-14T19:02:51.221335Z"
    }
   },
   "outputs": [],
   "source": [
    "from sagemaker.serializers import IdentitySerializer\n",
    "import base64\n",
    "\n",
    "predictor.serializer = IdentitySerializer(\"image/png\")\n",
    "with open(\"./test/bicycle_s_001789.png\", \"rb\") as f:\n",
    "    payload = f.read()\n",
    "\n",
    "    \n",
    "inference =predictor.predict(payload) ## TODO: Process the payload with your predictor"
   ]
  },
  {
   "cell_type": "markdown",
   "metadata": {},
   "source": [
    "Your `inference` object is an array of two values, the predicted probability value for each of your classes (bicycle and motorcycle respectively.) So, for example, a value of `b'[0.91, 0.09]'` indicates the probability of being a bike is 91% and being a motorcycle is 9%."
   ]
  },
  {
   "cell_type": "code",
   "execution_count": 64,
   "metadata": {
    "execution": {
     "iopub.execute_input": "2025-06-14T19:03:06.306560Z",
     "iopub.status.busy": "2025-06-14T19:03:06.305945Z",
     "iopub.status.idle": "2025-06-14T19:03:06.310942Z",
     "shell.execute_reply": "2025-06-14T19:03:06.310071Z",
     "shell.execute_reply.started": "2025-06-14T19:03:06.306532Z"
    }
   },
   "outputs": [
    {
     "name": "stdout",
     "output_type": "stream",
     "text": [
      "b'[0.9733197689056396, 0.026680178940296173]'\n"
     ]
    }
   ],
   "source": [
    "print(inference)"
   ]
  },
  {
   "cell_type": "code",
   "execution_count": 65,
   "metadata": {
    "execution": {
     "iopub.execute_input": "2025-06-14T19:03:24.316033Z",
     "iopub.status.busy": "2025-06-14T19:03:24.315745Z",
     "iopub.status.idle": "2025-06-14T19:03:24.344316Z",
     "shell.execute_reply": "2025-06-14T19:03:24.343411Z",
     "shell.execute_reply.started": "2025-06-14T19:03:24.316013Z"
    }
   },
   "outputs": [
    {
     "name": "stdout",
     "output_type": "stream",
     "text": [
      "arn:aws:iam::985539769188:role/service-role/AmazonSageMaker-ExecutionRole-20250603T195391\n"
     ]
    }
   ],
   "source": [
    "import sagemaker\n",
    "role = sagemaker.get_execution_role()\n",
    "print(role)\n"
   ]
  },
  {
   "cell_type": "markdown",
   "metadata": {},
   "source": [
    "### Draft Lambdas and Step Function Workflow\n",
    "\n",
    "Your operations team uses Step Functions to orchestrate serverless workflows. One of the nice things about Step Functions is that [workflows can call other workflows](https://docs.aws.amazon.com/step-functions/latest/dg/connect-stepfunctions.html), so the team can easily plug your workflow into the broader production architecture for Scones Unlimited.\n",
    "\n",
    "In this next stage you're going to write and deploy three Lambda functions, and then use the Step Functions visual editor to chain them together! Our functions are going to work with a simple data object:\n",
    "\n",
    "```python\n",
    "{\n",
    "    \"inferences\": [], # Output of predictor.predict\n",
    "    \"s3_key\": \"\", # Source data S3 key\n",
    "    \"s3_bucket\": \"\", # Source data S3 bucket\n",
    "    \"image_data\": \"\"  # base64 encoded string containing the image data\n",
    "}\n",
    "```\n",
    "\n",
    "A good test object that you can use for Lambda tests and Step Function executions, throughout the next section, might look like this:\n",
    "\n",
    "```python\n",
    "{\n",
    "  \"image_data\": \"\",\n",
    "  \"s3_bucket\": MY_BUCKET_NAME, # Fill in with your bucket\n",
    "  \"s3_key\": \"test/bicycle_s_000513.png\"\n",
    "}\n",
    "```\n",
    "\n",
    "Using these fields, your functions can read and write the necessary data to execute your workflow. Let's start with the first function. Your first Lambda function will copy an object from S3, base64 encode it, and then return it to the step function as `image_data` in an event.\n",
    "\n",
    "Go to the Lambda dashboard and create a new Lambda function with a descriptive name like \"serializeImageData\" and select thr 'Python 3.8' runtime. Add the same permissions as the SageMaker role you created earlier. (Reminder: you do this in the Configuration tab under \"Permissions\"). Once you're ready, use the starter code below to craft your Lambda handler:\n",
    "\n",
    "```python\n",
    "import json\n",
    "import boto3\n",
    "import base64\n",
    "\n",
    "s3 = boto3.client('s3')\n",
    "\n",
    "def lambda_handler(event, context):\n",
    "    \"\"\"A function to serialize target data from S3\"\"\"\n",
    "    \n",
    "    # Get the s3 address from the Step Function event input\n",
    "    key = ## TODO: fill in\n",
    "    bucket = ## TODO: fill in\n",
    "    \n",
    "    # Download the data from s3 to /tmp/image.png\n",
    "    ## TODO: fill in\n",
    "    \n",
    "    # We read the data from a file\n",
    "    with open(\"/tmp/image.png\", \"rb\") as f:\n",
    "        image_data = base64.b64encode(f.read())\n",
    "\n",
    "    # Pass the data back to the Step Function\n",
    "    print(\"Event:\", event.keys())\n",
    "    return {\n",
    "        'statusCode': 200,\n",
    "        'body': {\n",
    "            \"image_data\": image_data,\n",
    "            \"s3_bucket\": bucket,\n",
    "            \"s3_key\": key,\n",
    "            \"inferences\": []\n",
    "        }\n",
    "    }\n",
    "```\n",
    "\n",
    "The next function is responsible for the classification part - we're going to take the image output from the previous function, decode it, and then pass inferences back to the the Step Function.\n",
    "\n",
    "Because this Lambda will have runtime dependencies (i.e. the SageMaker SDK) you'll need to package them in your function. *Key reading:* https://docs.aws.amazon.com/lambda/latest/dg/python-package-create.html#python-package-create-with-dependency\n",
    "\n",
    "Create a new Lambda function with the same rights and a descriptive name, then fill in the starter code below for your classifier Lambda.\n",
    "\n",
    "```python\n",
    "import json\n",
    "import sagemaker\n",
    "import base64\n",
    "from sagemaker.serializers import IdentitySerializer\n",
    "\n",
    "# Fill this in with the name of your deployed model\n",
    "ENDPOINT = ## TODO: fill in\n",
    "\n",
    "def lambda_handler(event, context):\n",
    "\n",
    "    # Decode the image data\n",
    "    image = base64.b64decode(## TODO: fill in)\n",
    "\n",
    "    # Instantiate a Predictor\n",
    "    predictor = ## TODO: fill in\n",
    "\n",
    "    # For this model the IdentitySerializer needs to be \"image/png\"\n",
    "    predictor.serializer = IdentitySerializer(\"image/png\")\n",
    "    \n",
    "    # Make a prediction:\n",
    "    inferences = ## TODO: fill in\n",
    "    \n",
    "    # We return the data back to the Step Function    \n",
    "    event[\"inferences\"] = inferences.decode('utf-8')\n",
    "    return {\n",
    "        'statusCode': 200,\n",
    "        'body': json.dumps(event)\n",
    "    }\n",
    "```\n",
    "\n",
    "Finally, we need to filter low-confidence inferences. Define a threshold between 1.00 and 0.000 for your model: what is reasonble for you? If the model predicts at `.70` for it's highest confidence label, do we want to pass that inference along to downstream systems? Make one last Lambda function and tee up the same permissions:\n",
    "\n",
    "```python\n",
    "import json\n",
    "\n",
    "\n",
    "THRESHOLD = .93\n",
    "\n",
    "\n",
    "def lambda_handler(event, context):\n",
    "    \n",
    "    # Grab the inferences from the event\n",
    "    inferences = ## TODO: fill in\n",
    "    \n",
    "    # Check if any values in our inferences are above THRESHOLD\n",
    "    meets_threshold = ## TODO: fill in\n",
    "    \n",
    "    # If our threshold is met, pass our data back out of the\n",
    "    # Step Function, else, end the Step Function with an error\n",
    "    if meets_threshold:\n",
    "        pass\n",
    "    else:\n",
    "        raise(\"THRESHOLD_CONFIDENCE_NOT_MET\")\n",
    "\n",
    "    return {\n",
    "        'statusCode': 200,\n",
    "        'body': json.dumps(event)\n",
    "    }\n",
    "```\n",
    "Once you have tested the lambda functions, save the code for each lambda function in a python script called 'lambda.py'.\n",
    "\n",
    "With your lambdas in place, you can use the Step Functions visual editor to construct a workflow that chains them together. In the Step Functions console you'll have the option to author a Standard step function *Visually*.\n",
    "\n",
    "When the visual editor opens, you'll have many options to add transitions in your workflow. We're going to keep it simple and have just one: to invoke Lambda functions. Add three of them chained together. For each one, you'll be able to select the Lambda functions you just created in the proper order, filter inputs and outputs, and give them descriptive names.\n",
    "\n",
    "Make sure that you:\n",
    "\n",
    "1. Are properly filtering the inputs and outputs of your invokations (e.g. `$.body`)\n",
    "2. Take care to remove the error handling from the last function - it's supposed to \"fail loudly\" for your operations colleagues!\n",
    "\n",
    "Take a screenshot of your working step function in action and export the step function as JSON for your submission package."
   ]
  },
  {
   "cell_type": "markdown",
   "metadata": {},
   "source": [
    "\n",
    "Great! Now you can use the files in `./test` as test files for our workflow. Depending on our threshold, our workflow should reliably pass predictions about images from `./test` on to downstream systems, while erroring out for inferences below our confidence threshold!\n",
    "\n",
    "### Testing and Evaluation\n",
    "\n",
    "Do several step function invokations using data from the `./test` folder. This process should give you confidence that the workflow both *succeeds* AND *fails* as expected. In addition, SageMaker Model Monitor will generate recordings of your data and inferences which we can visualize.\n",
    "\n",
    "Here's a function that can help you generate test inputs for your invokations:"
   ]
  },
  {
   "cell_type": "code",
   "execution_count": 66,
   "metadata": {
    "execution": {
     "iopub.execute_input": "2025-06-14T21:12:52.977280Z",
     "iopub.status.busy": "2025-06-14T21:12:52.976610Z",
     "iopub.status.idle": "2025-06-14T21:12:53.649621Z",
     "shell.execute_reply": "2025-06-14T21:12:53.648939Z",
     "shell.execute_reply.started": "2025-06-14T21:12:52.977252Z"
    }
   },
   "outputs": [
    {
     "data": {
      "text/plain": [
       "'{\"image_data\": \"\", \"s3_bucket\": \"sagemaker-us-east-1-985539769188\", \"s3_key\": \"test/motorcycle_s_000615.png\"}'"
      ]
     },
     "execution_count": 66,
     "metadata": {},
     "output_type": "execute_result"
    }
   ],
   "source": [
    "import random\n",
    "import boto3\n",
    "import json\n",
    "\n",
    "bucket=\"sagemaker-us-east-1-985539769188\"\n",
    "def generate_test_case():\n",
    "    # Setup s3 in boto3\n",
    "    s3 = boto3.resource('s3')\n",
    "    \n",
    "    # Randomly pick from sfn or test folders in our bucket\n",
    "    objects = s3.Bucket(bucket).objects.filter(Prefix=\"test/\")\n",
    "    \n",
    "    # Grab any random object key from that folder!\n",
    "    obj = random.choice([x.key for x in objects])\n",
    "    \n",
    "    return json.dumps({\n",
    "        \"image_data\": \"\",\n",
    "        \"s3_bucket\": bucket,\n",
    "        \"s3_key\": obj\n",
    "    })\n",
    "generate_test_case()"
   ]
  },
  {
   "cell_type": "markdown",
   "metadata": {},
   "source": [
    "In the Step Function dashboard for your new function, you can create new executions and copy in the generated test cases. Do several executions so that you can generate data you can evaluate and visualize.\n",
    "\n",
    "Once you've done several executions, let's visualize the record of our inferences. Pull in the JSONLines data from your inferences like so:"
   ]
  },
  {
   "cell_type": "code",
   "execution_count": 76,
   "metadata": {
    "execution": {
     "iopub.execute_input": "2025-06-14T21:19:09.306419Z",
     "iopub.status.busy": "2025-06-14T21:19:09.306074Z",
     "iopub.status.idle": "2025-06-14T21:19:09.457965Z",
     "shell.execute_reply": "2025-06-14T21:19:09.456178Z",
     "shell.execute_reply.started": "2025-06-14T21:19:09.306394Z"
    }
   },
   "outputs": [
    {
     "data": {
      "text/plain": [
       "['captured_data/09-53-811-01f4eba9-8af2-4ad5-a432-4aee9dfcf1f9.jsonl']"
      ]
     },
     "execution_count": 76,
     "metadata": {},
     "output_type": "execute_result"
    }
   ],
   "source": [
    "from sagemaker.s3 import S3Downloader\n",
    "\n",
    "# In S3 your data will be saved to a datetime-aware path\n",
    "# Find a path related to a datetime you're interested in\n",
    "data_path = \"s3://sagemaker-us-east-1-985539769188/project-2-scones-unlimited/data_capture/image-classification-2025-06-14-18-56-47-043/AllTraffic/2025/06/14/21/\"\n",
    "\n",
    "S3Downloader.download(data_path, \"captured_data\")\n",
    "\n",
    "# Feel free to repeat this multiple times and pull in more data"
   ]
  },
  {
   "cell_type": "markdown",
   "metadata": {},
   "source": [
    "The data are in JSONLines format, where multiple valid JSON objects are stacked on top of eachother in a single `jsonl` file. We'll import an open-source library, `jsonlines` that was purpose built for parsing this format."
   ]
  },
  {
   "cell_type": "code",
   "execution_count": 68,
   "metadata": {
    "execution": {
     "iopub.execute_input": "2025-06-14T21:16:52.483700Z",
     "iopub.status.busy": "2025-06-14T21:16:52.483295Z",
     "iopub.status.idle": "2025-06-14T21:16:55.579077Z",
     "shell.execute_reply": "2025-06-14T21:16:55.578033Z",
     "shell.execute_reply.started": "2025-06-14T21:16:52.483674Z"
    }
   },
   "outputs": [
    {
     "name": "stdout",
     "output_type": "stream",
     "text": [
      "Collecting jsonlines\n",
      "  Downloading jsonlines-4.0.0-py3-none-any.whl.metadata (1.6 kB)\n",
      "Requirement already satisfied: attrs>=19.2.0 in /opt/conda/lib/python3.12/site-packages (from jsonlines) (23.2.0)\n",
      "Downloading jsonlines-4.0.0-py3-none-any.whl (8.7 kB)\n",
      "Installing collected packages: jsonlines\n",
      "Successfully installed jsonlines-4.0.0\n"
     ]
    }
   ],
   "source": [
    "!pip install jsonlines\n",
    "import jsonlines"
   ]
  },
  {
   "cell_type": "markdown",
   "metadata": {},
   "source": [
    "Now we can extract the data from each of the source files:"
   ]
  },
  {
   "cell_type": "code",
   "execution_count": 77,
   "metadata": {
    "execution": {
     "iopub.execute_input": "2025-06-14T21:19:13.756164Z",
     "iopub.status.busy": "2025-06-14T21:19:13.754756Z",
     "iopub.status.idle": "2025-06-14T21:19:13.762342Z",
     "shell.execute_reply": "2025-06-14T21:19:13.761209Z",
     "shell.execute_reply.started": "2025-06-14T21:19:13.756127Z"
    }
   },
   "outputs": [],
   "source": [
    "import os\n",
    "\n",
    "# List the file names we downloaded\n",
    "file_handles = os.listdir(\"./captured_data\")\n",
    "\n",
    "# Dump all the data into an array\n",
    "json_data = []\n",
    "for jsonl in file_handles:\n",
    "    with jsonlines.open(f\"./captured_data/{jsonl}\") as f:\n",
    "        json_data.append(f.read())"
   ]
  },
  {
   "cell_type": "markdown",
   "metadata": {},
   "source": [
    "The data should now be a list of dictionaries, with significant nesting. We'll give you an example of some code that grabs data out of the objects and visualizes it:"
   ]
  },
  {
   "cell_type": "code",
   "execution_count": 78,
   "metadata": {
    "execution": {
     "iopub.execute_input": "2025-06-14T21:19:17.271354Z",
     "iopub.status.busy": "2025-06-14T21:19:17.270686Z",
     "iopub.status.idle": "2025-06-14T21:19:17.276893Z",
     "shell.execute_reply": "2025-06-14T21:19:17.276099Z",
     "shell.execute_reply.started": "2025-06-14T21:19:17.271053Z"
    }
   },
   "outputs": [
    {
     "data": {
      "text/plain": [
       "([0.8989167809486389, 0.10108315944671631], '2025-06-14T21:09:53Z')"
      ]
     },
     "execution_count": 78,
     "metadata": {},
     "output_type": "execute_result"
    }
   ],
   "source": [
    "# Define how we'll get our data\n",
    "def simple_getter(obj):\n",
    "    inferences = obj[\"captureData\"][\"endpointOutput\"][\"data\"]\n",
    "    timestamp = obj[\"eventMetadata\"][\"inferenceTime\"]\n",
    "    return json.loads(inferences), timestamp\n",
    "\n",
    "simple_getter(json_data[0])"
   ]
  },
  {
   "cell_type": "markdown",
   "metadata": {},
   "source": [
    "Finally, here's an example of a visualization you can build with this data. In this last part, you will take some time and build your own - the captured data has the input images, the resulting inferences, and the timestamps."
   ]
  },
  {
   "cell_type": "code",
   "execution_count": 79,
   "metadata": {
    "execution": {
     "iopub.execute_input": "2025-06-14T21:19:22.514554Z",
     "iopub.status.busy": "2025-06-14T21:19:22.513929Z",
     "iopub.status.idle": "2025-06-14T21:19:22.743720Z",
     "shell.execute_reply": "2025-06-14T21:19:22.742680Z",
     "shell.execute_reply.started": "2025-06-14T21:19:22.514527Z"
    }
   },
   "outputs": [
    {
     "name": "stderr",
     "output_type": "stream",
     "text": [
      "INFO:matplotlib.category:Using categorical units to plot a list of strings that are all parsable as floats or dates. If these strings should be plotted as numbers, cast to the appropriate data type before plotting.\n",
      "INFO:matplotlib.category:Using categorical units to plot a list of strings that are all parsable as floats or dates. If these strings should be plotted as numbers, cast to the appropriate data type before plotting.\n"
     ]
    },
    {
     "data": {
      "image/png": "[encoded data removed]",
      "text/plain": [
       "<Figure size 640x480 with 1 Axes>"
      ]
     },
     "metadata": {},
     "output_type": "display_data"
    }
   ],
   "source": [
    "# Populate the data for the x and y axis\n",
    "x = []\n",
    "y = []\n",
    "for obj in json_data:\n",
    "    inference, timestamp = simple_getter(obj)\n",
    "    \n",
    "    y.append(max(inference))\n",
    "    x.append(timestamp)\n",
    "\n",
    "# Todo: here is an visualization example, take some time to build another visual that helps monitor the result\n",
    "# Plot the data\n",
    "plt.scatter(x, y, c=['r' if k<.94 else 'b' for k in y ])\n",
    "plt.axhline(y=0.94, color='g', linestyle='--')\n",
    "plt.ylim(bottom=.88)\n",
    "\n",
    "# Add labels\n",
    "plt.ylabel(\"Confidence\")\n",
    "plt.suptitle(\"Observed Recent Inferences\", size=14)\n",
    "plt.title(\"Pictured with confidence threshold for production use\", size=10)\n",
    "\n",
    "# Give it some pizzaz!\n",
    "plt.style.use(\"Solarize_Light2\")\n",
    "plt.gcf().autofmt_xdate()"
   ]
  },
  {
   "cell_type": "markdown",
   "metadata": {},
   "source": [
    "### Todo: build your own visualization\n"
   ]
  },
  {
   "cell_type": "markdown",
   "metadata": {},
   "source": [
    "### Congratulations!\n",
    "\n",
    "You've reached the end of the project. In this project you created an event-drivent ML workflow that can be incorporated into the Scones Unlimited production architecture. You used the SageMaker Estimator API to deploy your SageMaker Model and Endpoint, and you used AWS Lambda and Step Functions to orchestrate your ML workflow. Using SageMaker Model Monitor, you instrumented and observed your Endpoint, and at the end of the project you built a visualization to help stakeholders understand the performance of the Endpoint over time. If you're up for it, you can even go further with these stretch goals:\n",
    "\n",
    "* Extend your workflow to incorporate more classes: the CIFAR dataset includes other vehicles that Scones Unlimited can identify with this model.\n",
    "* Modify your event driven workflow: can you rewrite your Lambda functions so that the workflow can process multiple image inputs in parallel? Can the Step Function \"fan out\" to accomodate this new workflow?\n",
    "* Consider the test data generator we provided for you. Can we use it to create a \"dummy data\" generator, to simulate a continuous stream of input data? Or a big paralell load of data?\n",
    "* What if we want to get notified every time our step function errors out? Can we use the Step Functions visual editor in conjunction with a service like SNS to accomplish this? Try it out!\n",
    "\n",
    "\n"
   ]
  }
 ],
 "metadata": {
  "instance_type": "ml.t3.medium",
  "kernelspec": {
   "display_name": "Python 3 (ipykernel)",
   "language": "python",
   "name": "python3"
  },
  "language_info": {
   "codemirror_mode": {
    "name": "ipython",
    "version": 3
   },
   "file_extension": ".py",
   "mimetype": "text/x-python",
   "name": "python",
   "nbconvert_exporter": "python",
   "pygments_lexer": "ipython3",
   "version": "3.12.9"
  }
 },
 "nbformat": 4,
 "nbformat_minor": 4
}
